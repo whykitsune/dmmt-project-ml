{
  "nbformat": 4,
  "nbformat_minor": 0,
  "metadata": {
    "colab": {
      "provenance": []
    },
    "kernelspec": {
      "name": "python3",
      "display_name": "Python 3"
    },
    "language_info": {
      "name": "python"
    },
    "widgets": {
      "application/vnd.jupyter.widget-state+json": {
        "e890f9b3b74b47a7a52c624667ee9a28": {
          "model_module": "catboost-widget",
          "model_name": "CatboostWidgetModel",
          "model_module_version": "^1.0.0",
          "state": {
            "_dom_classes": [],
            "_model_module": "catboost-widget",
            "_model_module_version": "^1.0.0",
            "_model_name": "CatboostWidgetModel",
            "_view_count": null,
            "_view_module": "catboost-widget",
            "_view_module_version": "^1.0.0",
            "_view_name": "CatboostWidgetView",
            "data": {
              "catboost_info": {
                "path": "catboost_info",
                "name": "catboost_info",
                "content": {
                  "passed_iterations": 999,
                  "total_iterations": 1000,
                  "data": {
                    "iterations": [
                      {
                        "learn": [
                          77149770.24
                        ],
                        "iteration": 0,
                        "passed_time": 0.0133526065,
                        "remaining_time": 13.3392539,
                        "test": [
                          82274729.85
                        ]
                      },
                      {
                        "learn": [
                          73380731.16
                        ],
                        "iteration": 1,
                        "passed_time": 0.02511996961,
                        "remaining_time": 12.53486484,
                        "test": [
                          78646013.22
                        ]
                      },
                      {
                        "learn": [
                          70051826.76
                        ],
                        "iteration": 2,
                        "passed_time": 0.03640031025,
                        "remaining_time": 12.09703644,
                        "test": [
                          75507630.59
                        ]
                      },
                      {
                        "learn": [
                          67085215.66
                        ],
                        "iteration": 3,
                        "passed_time": 0.05902200701,
                        "remaining_time": 14.69647975,
                        "test": [
                          72570124.1
                        ]
                      },
                      {
                        "learn": [
                          64470291.83
                        ],
                        "iteration": 4,
                        "passed_time": 0.08274417471,
                        "remaining_time": 16.46609077,
                        "test": [
                          70131851.36
                        ]
                      },
                      {
                        "learn": [
                          61953825.31
                        ],
                        "iteration": 5,
                        "passed_time": 0.1045461146,
                        "remaining_time": 17.31980631,
                        "test": [
                          67643655.95
                        ]
                      },
                      {
                        "learn": [
                          59756653.42
                        ],
                        "iteration": 6,
                        "passed_time": 0.1314666547,
                        "remaining_time": 18.64948402,
                        "test": [
                          65497188.76
                        ]
                      },
                      {
                        "learn": [
                          57726946.61
                        ],
                        "iteration": 7,
                        "passed_time": 0.1470849659,
                        "remaining_time": 18.23853577,
                        "test": [
                          63483343.22
                        ]
                      },
                      {
                        "learn": [
                          56016329.68
                        ],
                        "iteration": 8,
                        "passed_time": 0.1707441426,
                        "remaining_time": 18.80082726,
                        "test": [
                          61882234.99
                        ]
                      },
                      {
                        "learn": [
                          54430250.37
                        ],
                        "iteration": 9,
                        "passed_time": 0.2037992693,
                        "remaining_time": 20.17612766,
                        "test": [
                          60301887.51
                        ]
                      },
                      {
                        "learn": [
                          52923308.88
                        ],
                        "iteration": 10,
                        "passed_time": 0.2389677766,
                        "remaining_time": 21.48537555,
                        "test": [
                          58799062.14
                        ]
                      },
                      {
                        "learn": [
                          51537393.1
                        ],
                        "iteration": 11,
                        "passed_time": 0.2735759487,
                        "remaining_time": 22.52441978,
                        "test": [
                          57572201.92
                        ]
                      },
                      {
                        "learn": [
                          50328577.89
                        ],
                        "iteration": 12,
                        "passed_time": 0.3026374257,
                        "remaining_time": 22.97716455,
                        "test": [
                          56352037.22
                        ]
                      },
                      {
                        "learn": [
                          49214014.47
                        ],
                        "iteration": 13,
                        "passed_time": 0.3294878785,
                        "remaining_time": 23.20536058,
                        "test": [
                          55431540.73
                        ]
                      },
                      {
                        "learn": [
                          48185432.68
                        ],
                        "iteration": 14,
                        "passed_time": 0.3664676365,
                        "remaining_time": 24.06470813,
                        "test": [
                          54398807.94
                        ]
                      },
                      {
                        "learn": [
                          47353507.51
                        ],
                        "iteration": 15,
                        "passed_time": 0.3909892809,
                        "remaining_time": 24.04584078,
                        "test": [
                          53647682.55
                        ]
                      },
                      {
                        "learn": [
                          46498450.51
                        ],
                        "iteration": 16,
                        "passed_time": 0.4202664742,
                        "remaining_time": 24.30129083,
                        "test": [
                          52746486.05
                        ]
                      },
                      {
                        "learn": [
                          45618408.84
                        ],
                        "iteration": 17,
                        "passed_time": 0.4465137949,
                        "remaining_time": 24.35980815,
                        "test": [
                          52023714.09
                        ]
                      },
                      {
                        "learn": [
                          44841102.22
                        ],
                        "iteration": 18,
                        "passed_time": 0.4737836719,
                        "remaining_time": 24.46219906,
                        "test": [
                          51334135.52
                        ]
                      },
                      {
                        "learn": [
                          44083849.44
                        ],
                        "iteration": 19,
                        "passed_time": 0.4977385287,
                        "remaining_time": 24.38918791,
                        "test": [
                          50661340.4
                        ]
                      },
                      {
                        "learn": [
                          43441766.29
                        ],
                        "iteration": 20,
                        "passed_time": 0.5144929116,
                        "remaining_time": 23.98516954,
                        "test": [
                          50091930.43
                        ]
                      },
                      {
                        "learn": [
                          42796596.39
                        ],
                        "iteration": 21,
                        "passed_time": 0.5419064224,
                        "remaining_time": 24.09020369,
                        "test": [
                          49630235.66
                        ]
                      },
                      {
                        "learn": [
                          42211565.48
                        ],
                        "iteration": 22,
                        "passed_time": 0.5787493984,
                        "remaining_time": 24.58426793,
                        "test": [
                          49231977.83
                        ]
                      },
                      {
                        "learn": [
                          41723517.65
                        ],
                        "iteration": 23,
                        "passed_time": 0.6058386267,
                        "remaining_time": 24.63743749,
                        "test": [
                          48796321.37
                        ]
                      },
                      {
                        "learn": [
                          41255645.17
                        ],
                        "iteration": 24,
                        "passed_time": 0.6283360103,
                        "remaining_time": 24.5051044,
                        "test": [
                          48413670.35
                        ]
                      },
                      {
                        "learn": [
                          40946637.87
                        ],
                        "iteration": 25,
                        "passed_time": 0.6543060797,
                        "remaining_time": 24.51131237,
                        "test": [
                          48093607.08
                        ]
                      },
                      {
                        "learn": [
                          40547132.63
                        ],
                        "iteration": 26,
                        "passed_time": 0.6831938986,
                        "remaining_time": 24.62028383,
                        "test": [
                          47745313.88
                        ]
                      },
                      {
                        "learn": [
                          40234850.87
                        ],
                        "iteration": 27,
                        "passed_time": 0.7102465893,
                        "remaining_time": 24.65570303,
                        "test": [
                          47572652.78
                        ]
                      },
                      {
                        "learn": [
                          39941473.3
                        ],
                        "iteration": 28,
                        "passed_time": 0.7374718423,
                        "remaining_time": 24.69259169,
                        "test": [
                          47328050.28
                        ]
                      },
                      {
                        "learn": [
                          39729336.79
                        ],
                        "iteration": 29,
                        "passed_time": 0.7653155697,
                        "remaining_time": 24.74520342,
                        "test": [
                          47074677.97
                        ]
                      },
                      {
                        "learn": [
                          39459905.6
                        ],
                        "iteration": 30,
                        "passed_time": 0.7972042549,
                        "remaining_time": 24.91906203,
                        "test": [
                          46856893.13
                        ]
                      },
                      {
                        "learn": [
                          39198789.89
                        ],
                        "iteration": 31,
                        "passed_time": 0.8218368084,
                        "remaining_time": 24.86056345,
                        "test": [
                          46641769.21
                        ]
                      },
                      {
                        "learn": [
                          39014609.96
                        ],
                        "iteration": 32,
                        "passed_time": 0.8483902489,
                        "remaining_time": 24.86040517,
                        "test": [
                          46489377.26
                        ]
                      },
                      {
                        "learn": [
                          38777550.69
                        ],
                        "iteration": 33,
                        "passed_time": 0.8739341768,
                        "remaining_time": 24.8300122,
                        "test": [
                          46349006.54
                        ]
                      },
                      {
                        "learn": [
                          38588552.16
                        ],
                        "iteration": 34,
                        "passed_time": 0.9021204915,
                        "remaining_time": 24.87275069,
                        "test": [
                          46211708.56
                        ]
                      },
                      {
                        "learn": [
                          38424545.32
                        ],
                        "iteration": 35,
                        "passed_time": 0.9250012239,
                        "remaining_time": 24.76947722,
                        "test": [
                          46072640.33
                        ]
                      },
                      {
                        "learn": [
                          38284828.49
                        ],
                        "iteration": 36,
                        "passed_time": 0.9516975823,
                        "remaining_time": 24.7698587,
                        "test": [
                          45928540.92
                        ]
                      },
                      {
                        "learn": [
                          38089641.49
                        ],
                        "iteration": 37,
                        "passed_time": 0.9880223783,
                        "remaining_time": 25.01256653,
                        "test": [
                          45963278.53
                        ]
                      },
                      {
                        "learn": [
                          37887863.63
                        ],
                        "iteration": 38,
                        "passed_time": 1.020401291,
                        "remaining_time": 25.14373436,
                        "test": [
                          45877615.92
                        ]
                      },
                      {
                        "learn": [
                          37721077.88
                        ],
                        "iteration": 39,
                        "passed_time": 1.044203188,
                        "remaining_time": 25.06087652,
                        "test": [
                          45757590.91
                        ]
                      },
                      {
                        "learn": [
                          37581755.28
                        ],
                        "iteration": 40,
                        "passed_time": 1.066782279,
                        "remaining_time": 24.9522977,
                        "test": [
                          45630750.43
                        ]
                      },
                      {
                        "learn": [
                          37372895.29
                        ],
                        "iteration": 41,
                        "passed_time": 1.096299169,
                        "remaining_time": 25.00606199,
                        "test": [
                          45487675.6
                        ]
                      },
                      {
                        "learn": [
                          37215452.13
                        ],
                        "iteration": 42,
                        "passed_time": 1.117057055,
                        "remaining_time": 24.86101399,
                        "test": [
                          45357389.99
                        ]
                      },
                      {
                        "learn": [
                          37045988.33
                        ],
                        "iteration": 43,
                        "passed_time": 1.145584879,
                        "remaining_time": 24.8904351,
                        "test": [
                          45312409.14
                        ]
                      },
                      {
                        "learn": [
                          36822609.42
                        ],
                        "iteration": 44,
                        "passed_time": 1.170701652,
                        "remaining_time": 24.84489062,
                        "test": [
                          45194409.78
                        ]
                      },
                      {
                        "learn": [
                          36652792.51
                        ],
                        "iteration": 45,
                        "passed_time": 1.192202744,
                        "remaining_time": 24.72524821,
                        "test": [
                          45041810.82
                        ]
                      },
                      {
                        "learn": [
                          36517689.69
                        ],
                        "iteration": 46,
                        "passed_time": 1.208792953,
                        "remaining_time": 24.51020604,
                        "test": [
                          44914843.29
                        ]
                      },
                      {
                        "learn": [
                          36378380.78
                        ],
                        "iteration": 47,
                        "passed_time": 1.227453165,
                        "remaining_time": 24.34448777,
                        "test": [
                          44930732.11
                        ]
                      },
                      {
                        "learn": [
                          36294580.13
                        ],
                        "iteration": 48,
                        "passed_time": 1.241464303,
                        "remaining_time": 24.09454187,
                        "test": [
                          44905490.56
                        ]
                      },
                      {
                        "learn": [
                          36153769.15
                        ],
                        "iteration": 49,
                        "passed_time": 1.263922694,
                        "remaining_time": 24.01453118,
                        "test": [
                          44948593.56
                        ]
                      },
                      {
                        "learn": [
                          36012816.53
                        ],
                        "iteration": 50,
                        "passed_time": 1.282794079,
                        "remaining_time": 23.870031,
                        "test": [
                          44938314.77
                        ]
                      },
                      {
                        "learn": [
                          35840392.46
                        ],
                        "iteration": 51,
                        "passed_time": 1.303511586,
                        "remaining_time": 23.76401892,
                        "test": [
                          44786368.38
                        ]
                      },
                      {
                        "learn": [
                          35778640.06
                        ],
                        "iteration": 52,
                        "passed_time": 1.316462333,
                        "remaining_time": 23.52244961,
                        "test": [
                          44739693.6
                        ]
                      },
                      {
                        "learn": [
                          35755168.29
                        ],
                        "iteration": 53,
                        "passed_time": 1.3312851,
                        "remaining_time": 23.32214267,
                        "test": [
                          44719598
                        ]
                      },
                      {
                        "learn": [
                          35566056.91
                        ],
                        "iteration": 54,
                        "passed_time": 1.35104937,
                        "remaining_time": 23.21348464,
                        "test": [
                          44563720.09
                        ]
                      },
                      {
                        "learn": [
                          35445370.26
                        ],
                        "iteration": 55,
                        "passed_time": 1.379548832,
                        "remaining_time": 23.25525174,
                        "test": [
                          44498820.56
                        ]
                      },
                      {
                        "learn": [
                          35349694.26
                        ],
                        "iteration": 56,
                        "passed_time": 1.404486795,
                        "remaining_time": 23.23563242,
                        "test": [
                          44498344.34
                        ]
                      },
                      {
                        "learn": [
                          35240680.01
                        ],
                        "iteration": 57,
                        "passed_time": 1.421485786,
                        "remaining_time": 23.08688983,
                        "test": [
                          44438991.22
                        ]
                      },
                      {
                        "learn": [
                          35177040.17
                        ],
                        "iteration": 58,
                        "passed_time": 1.449808039,
                        "remaining_time": 23.12320958,
                        "test": [
                          44427383.91
                        ]
                      },
                      {
                        "learn": [
                          35063990.96
                        ],
                        "iteration": 59,
                        "passed_time": 1.474606756,
                        "remaining_time": 23.1021725,
                        "test": [
                          44385927.41
                        ]
                      },
                      {
                        "learn": [
                          35031709.39
                        ],
                        "iteration": 60,
                        "passed_time": 1.506218281,
                        "remaining_time": 23.18588469,
                        "test": [
                          44374001.14
                        ]
                      },
                      {
                        "learn": [
                          34957026.39
                        ],
                        "iteration": 61,
                        "passed_time": 1.531364316,
                        "remaining_time": 23.16806013,
                        "test": [
                          44353461.84
                        ]
                      },
                      {
                        "learn": [
                          34914198.4
                        ],
                        "iteration": 62,
                        "passed_time": 1.567613158,
                        "remaining_time": 23.31513539,
                        "test": [
                          44342768.32
                        ]
                      },
                      {
                        "learn": [
                          34812509.34
                        ],
                        "iteration": 63,
                        "passed_time": 1.602551676,
                        "remaining_time": 23.43731827,
                        "test": [
                          44312748.93
                        ]
                      },
                      {
                        "learn": [
                          34728551.26
                        ],
                        "iteration": 64,
                        "passed_time": 1.631870904,
                        "remaining_time": 23.47383531,
                        "test": [
                          44320198.29
                        ]
                      },
                      {
                        "learn": [
                          34712577.04
                        ],
                        "iteration": 65,
                        "passed_time": 1.658123874,
                        "remaining_time": 23.46496513,
                        "test": [
                          44307040.03
                        ]
                      },
                      {
                        "learn": [
                          34660303.71
                        ],
                        "iteration": 66,
                        "passed_time": 1.675865585,
                        "remaining_time": 23.3370536,
                        "test": [
                          44281567.39
                        ]
                      },
                      {
                        "learn": [
                          34642741.43
                        ],
                        "iteration": 67,
                        "passed_time": 1.701635969,
                        "remaining_time": 23.32242239,
                        "test": [
                          44274182.91
                        ]
                      },
                      {
                        "learn": [
                          34524711.89
                        ],
                        "iteration": 68,
                        "passed_time": 1.715809674,
                        "remaining_time": 23.15099719,
                        "test": [
                          44226402.57
                        ]
                      },
                      {
                        "learn": [
                          34450313.43
                        ],
                        "iteration": 69,
                        "passed_time": 1.732008088,
                        "remaining_time": 23.0109646,
                        "test": [
                          44197451.19
                        ]
                      },
                      {
                        "learn": [
                          34386524.16
                        ],
                        "iteration": 70,
                        "passed_time": 1.757231641,
                        "remaining_time": 22.99250979,
                        "test": [
                          44186511.88
                        ]
                      },
                      {
                        "learn": [
                          34277800.65
                        ],
                        "iteration": 71,
                        "passed_time": 1.788781952,
                        "remaining_time": 23.05541183,
                        "test": [
                          44218112.54
                        ]
                      },
                      {
                        "learn": [
                          34218680.53
                        ],
                        "iteration": 72,
                        "passed_time": 1.814340682,
                        "remaining_time": 23.03964126,
                        "test": [
                          44239075.82
                        ]
                      },
                      {
                        "learn": [
                          34192643.75
                        ],
                        "iteration": 73,
                        "passed_time": 1.836996506,
                        "remaining_time": 22.9872806,
                        "test": [
                          44249835.64
                        ]
                      },
                      {
                        "learn": [
                          34097808.17
                        ],
                        "iteration": 74,
                        "passed_time": 1.863699552,
                        "remaining_time": 22.9856278,
                        "test": [
                          44247025.11
                        ]
                      },
                      {
                        "learn": [
                          34055317.15
                        ],
                        "iteration": 75,
                        "passed_time": 1.895895168,
                        "remaining_time": 23.05009389,
                        "test": [
                          44233021.25
                        ]
                      },
                      {
                        "learn": [
                          33996499.58
                        ],
                        "iteration": 76,
                        "passed_time": 1.920512239,
                        "remaining_time": 23.02120515,
                        "test": [
                          44200056.73
                        ]
                      },
                      {
                        "learn": [
                          33976381.99
                        ],
                        "iteration": 77,
                        "passed_time": 1.950560287,
                        "remaining_time": 23.05662288,
                        "test": [
                          44197944.67
                        ]
                      },
                      {
                        "learn": [
                          33966112.6
                        ],
                        "iteration": 78,
                        "passed_time": 1.969528245,
                        "remaining_time": 22.96120903,
                        "test": [
                          44192211.61
                        ]
                      },
                      {
                        "learn": [
                          33877031.04
                        ],
                        "iteration": 79,
                        "passed_time": 2.002438555,
                        "remaining_time": 23.02804338,
                        "test": [
                          44170080.12
                        ]
                      },
                      {
                        "learn": [
                          33815097.31
                        ],
                        "iteration": 80,
                        "passed_time": 2.015263182,
                        "remaining_time": 22.86452919,
                        "test": [
                          44197120.88
                        ]
                      },
                      {
                        "learn": [
                          33760148.83
                        ],
                        "iteration": 81,
                        "passed_time": 2.030973507,
                        "remaining_time": 22.73699609,
                        "test": [
                          44120959.37
                        ]
                      },
                      {
                        "learn": [
                          33741223.54
                        ],
                        "iteration": 82,
                        "passed_time": 2.046236595,
                        "remaining_time": 22.60721635,
                        "test": [
                          44132190.94
                        ]
                      },
                      {
                        "learn": [
                          33640013.53
                        ],
                        "iteration": 83,
                        "passed_time": 2.0777879,
                        "remaining_time": 22.65778233,
                        "test": [
                          44086012.36
                        ]
                      },
                      {
                        "learn": [
                          33560119.22
                        ],
                        "iteration": 84,
                        "passed_time": 2.104985267,
                        "remaining_time": 22.65954728,
                        "test": [
                          44078276.78
                        ]
                      },
                      {
                        "learn": [
                          33541301.44
                        ],
                        "iteration": 85,
                        "passed_time": 2.125345469,
                        "remaining_time": 22.58797394,
                        "test": [
                          44042880.41
                        ]
                      },
                      {
                        "learn": [
                          33437119.57
                        ],
                        "iteration": 86,
                        "passed_time": 2.144098693,
                        "remaining_time": 22.50071387,
                        "test": [
                          44001689.85
                        ]
                      },
                      {
                        "learn": [
                          33320994.68
                        ],
                        "iteration": 87,
                        "passed_time": 2.166900441,
                        "remaining_time": 22.45696821,
                        "test": [
                          44009894.08
                        ]
                      },
                      {
                        "learn": [
                          33267888.07
                        ],
                        "iteration": 88,
                        "passed_time": 2.204364829,
                        "remaining_time": 22.56377931,
                        "test": [
                          43985603.8
                        ]
                      },
                      {
                        "learn": [
                          33265995.03
                        ],
                        "iteration": 89,
                        "passed_time": 2.220889821,
                        "remaining_time": 22.45566375,
                        "test": [
                          43985720.46
                        ]
                      },
                      {
                        "learn": [
                          33192669.05
                        ],
                        "iteration": 90,
                        "passed_time": 2.251210574,
                        "remaining_time": 22.48736716,
                        "test": [
                          43978688.5
                        ]
                      },
                      {
                        "learn": [
                          33096890.23
                        ],
                        "iteration": 91,
                        "passed_time": 2.271005183,
                        "remaining_time": 22.41383376,
                        "test": [
                          43868329.96
                        ]
                      },
                      {
                        "learn": [
                          32980470.97
                        ],
                        "iteration": 92,
                        "passed_time": 2.300214966,
                        "remaining_time": 22.4332793,
                        "test": [
                          43855202.55
                        ]
                      },
                      {
                        "learn": [
                          32864578.98
                        ],
                        "iteration": 93,
                        "passed_time": 2.328457564,
                        "remaining_time": 22.44236758,
                        "test": [
                          43859032.04
                        ]
                      },
                      {
                        "learn": [
                          32854872.96
                        ],
                        "iteration": 94,
                        "passed_time": 2.363055298,
                        "remaining_time": 22.51121099,
                        "test": [
                          43856735.61
                        ]
                      },
                      {
                        "learn": [
                          32854272.89
                        ],
                        "iteration": 95,
                        "passed_time": 2.37488476,
                        "remaining_time": 22.36349816,
                        "test": [
                          43856689.92
                        ]
                      },
                      {
                        "learn": [
                          32827649.25
                        ],
                        "iteration": 96,
                        "passed_time": 2.395320449,
                        "remaining_time": 22.2987048,
                        "test": [
                          43839073.17
                        ]
                      },
                      {
                        "learn": [
                          32735973.26
                        ],
                        "iteration": 97,
                        "passed_time": 2.42262193,
                        "remaining_time": 22.29801001,
                        "test": [
                          43824476.79
                        ]
                      },
                      {
                        "learn": [
                          32666520.52
                        ],
                        "iteration": 98,
                        "passed_time": 2.452931203,
                        "remaining_time": 22.32415165,
                        "test": [
                          43827293.95
                        ]
                      },
                      {
                        "learn": [
                          32621892.48
                        ],
                        "iteration": 99,
                        "passed_time": 2.483167322,
                        "remaining_time": 22.3485059,
                        "test": [
                          43819539.14
                        ]
                      },
                      {
                        "learn": [
                          32591393.54
                        ],
                        "iteration": 100,
                        "passed_time": 2.506908966,
                        "remaining_time": 22.31397189,
                        "test": [
                          43755791.97
                        ]
                      },
                      {
                        "learn": [
                          32567025.23
                        ],
                        "iteration": 101,
                        "passed_time": 2.53915195,
                        "remaining_time": 22.35449462,
                        "test": [
                          43752666.25
                        ]
                      },
                      {
                        "learn": [
                          32468171.73
                        ],
                        "iteration": 102,
                        "passed_time": 2.567346233,
                        "remaining_time": 22.35834535,
                        "test": [
                          43703249.93
                        ]
                      },
                      {
                        "learn": [
                          32437536.9
                        ],
                        "iteration": 103,
                        "passed_time": 2.582762265,
                        "remaining_time": 22.25149029,
                        "test": [
                          43700137.98
                        ]
                      },
                      {
                        "learn": [
                          32364682.21
                        ],
                        "iteration": 104,
                        "passed_time": 2.604041178,
                        "remaining_time": 22.196351,
                        "test": [
                          43607628.03
                        ]
                      },
                      {
                        "learn": [
                          32325977.46
                        ],
                        "iteration": 105,
                        "passed_time": 2.634093904,
                        "remaining_time": 22.21584858,
                        "test": [
                          43621399.58
                        ]
                      },
                      {
                        "learn": [
                          32295644.36
                        ],
                        "iteration": 106,
                        "passed_time": 2.667734315,
                        "remaining_time": 22.26436209,
                        "test": [
                          43622605.14
                        ]
                      },
                      {
                        "learn": [
                          32208742.67
                        ],
                        "iteration": 107,
                        "passed_time": 2.691853105,
                        "remaining_time": 22.23271268,
                        "test": [
                          43628083.24
                        ]
                      },
                      {
                        "learn": [
                          32145156.18
                        ],
                        "iteration": 108,
                        "passed_time": 2.722517899,
                        "remaining_time": 22.25471053,
                        "test": [
                          43575639.17
                        ]
                      },
                      {
                        "learn": [
                          32048397.31
                        ],
                        "iteration": 109,
                        "passed_time": 2.739585503,
                        "remaining_time": 22.16573725,
                        "test": [
                          43559993.64
                        ]
                      },
                      {
                        "learn": [
                          31996343.76
                        ],
                        "iteration": 110,
                        "passed_time": 2.750705264,
                        "remaining_time": 22.03042324,
                        "test": [
                          43545937.96
                        ]
                      },
                      {
                        "learn": [
                          31962082.24
                        ],
                        "iteration": 111,
                        "passed_time": 2.760462695,
                        "remaining_time": 21.88652566,
                        "test": [
                          43527928.26
                        ]
                      },
                      {
                        "learn": [
                          31920229.2
                        ],
                        "iteration": 112,
                        "passed_time": 2.771100528,
                        "remaining_time": 21.75191299,
                        "test": [
                          43525056.24
                        ]
                      },
                      {
                        "learn": [
                          31877761.4
                        ],
                        "iteration": 113,
                        "passed_time": 2.782497333,
                        "remaining_time": 21.62537401,
                        "test": [
                          43509996.35
                        ]
                      },
                      {
                        "learn": [
                          31829925.57
                        ],
                        "iteration": 114,
                        "passed_time": 2.794914704,
                        "remaining_time": 21.50869141,
                        "test": [
                          43498540.63
                        ]
                      },
                      {
                        "learn": [
                          31803557.79
                        ],
                        "iteration": 115,
                        "passed_time": 2.806246894,
                        "remaining_time": 21.38553667,
                        "test": [
                          43502697.66
                        ]
                      },
                      {
                        "learn": [
                          31771533.47
                        ],
                        "iteration": 116,
                        "passed_time": 2.81627888,
                        "remaining_time": 21.25448078,
                        "test": [
                          43465407.89
                        ]
                      },
                      {
                        "learn": [
                          31662276.57
                        ],
                        "iteration": 117,
                        "passed_time": 2.830639954,
                        "remaining_time": 21.15783423,
                        "test": [
                          43370112.61
                        ]
                      },
                      {
                        "learn": [
                          31586473.26
                        ],
                        "iteration": 118,
                        "passed_time": 2.841857369,
                        "remaining_time": 21.03929699,
                        "test": [
                          43326568.49
                        ]
                      },
                      {
                        "learn": [
                          31485577.26
                        ],
                        "iteration": 119,
                        "passed_time": 2.853199749,
                        "remaining_time": 20.92346483,
                        "test": [
                          43333989.54
                        ]
                      },
                      {
                        "learn": [
                          31449406.32
                        ],
                        "iteration": 120,
                        "passed_time": 2.862595504,
                        "remaining_time": 20.79521858,
                        "test": [
                          43317360.16
                        ]
                      },
                      {
                        "learn": [
                          31324781.72
                        ],
                        "iteration": 121,
                        "passed_time": 2.87430094,
                        "remaining_time": 20.68554283,
                        "test": [
                          43303291.86
                        ]
                      },
                      {
                        "learn": [
                          31271431.25
                        ],
                        "iteration": 122,
                        "passed_time": 2.88401508,
                        "remaining_time": 20.56326199,
                        "test": [
                          43310539
                        ]
                      },
                      {
                        "learn": [
                          31230738.67
                        ],
                        "iteration": 123,
                        "passed_time": 2.896921266,
                        "remaining_time": 20.46534701,
                        "test": [
                          43302476.17
                        ]
                      },
                      {
                        "learn": [
                          31206069.73
                        ],
                        "iteration": 124,
                        "passed_time": 2.906897303,
                        "remaining_time": 20.34828112,
                        "test": [
                          43279319.97
                        ]
                      },
                      {
                        "learn": [
                          31131530.77
                        ],
                        "iteration": 125,
                        "passed_time": 2.917652793,
                        "remaining_time": 20.23832176,
                        "test": [
                          43279978.65
                        ]
                      },
                      {
                        "learn": [
                          31040078.38
                        ],
                        "iteration": 126,
                        "passed_time": 2.928935297,
                        "remaining_time": 20.13354735,
                        "test": [
                          43242447.68
                        ]
                      },
                      {
                        "learn": [
                          31036872.63
                        ],
                        "iteration": 127,
                        "passed_time": 2.939050096,
                        "remaining_time": 20.02227878,
                        "test": [
                          43244130.61
                        ]
                      },
                      {
                        "learn": [
                          30943557.69
                        ],
                        "iteration": 128,
                        "passed_time": 2.95024831,
                        "remaining_time": 19.91989363,
                        "test": [
                          43185737.59
                        ]
                      },
                      {
                        "learn": [
                          30878103.72
                        ],
                        "iteration": 129,
                        "passed_time": 2.960690135,
                        "remaining_time": 19.81384936,
                        "test": [
                          43151119.27
                        ]
                      },
                      {
                        "learn": [
                          30864155.65
                        ],
                        "iteration": 130,
                        "passed_time": 2.9703578,
                        "remaining_time": 19.70412922,
                        "test": [
                          43140284.88
                        ]
                      },
                      {
                        "learn": [
                          30813935.81
                        ],
                        "iteration": 131,
                        "passed_time": 2.993978851,
                        "remaining_time": 19.68767911,
                        "test": [
                          43107907.26
                        ]
                      },
                      {
                        "learn": [
                          30799508.85
                        ],
                        "iteration": 132,
                        "passed_time": 3.001932689,
                        "remaining_time": 19.56898978,
                        "test": [
                          43128176.86
                        ]
                      },
                      {
                        "learn": [
                          30752286.4
                        ],
                        "iteration": 133,
                        "passed_time": 3.011313627,
                        "remaining_time": 19.46117612,
                        "test": [
                          43122349.78
                        ]
                      },
                      {
                        "learn": [
                          30701036.06
                        ],
                        "iteration": 134,
                        "passed_time": 3.021718959,
                        "remaining_time": 19.36138444,
                        "test": [
                          43036762.98
                        ]
                      },
                      {
                        "learn": [
                          30600274.38
                        ],
                        "iteration": 135,
                        "passed_time": 3.033417063,
                        "remaining_time": 19.27112016,
                        "test": [
                          43031941.2
                        ]
                      },
                      {
                        "learn": [
                          30521321.81
                        ],
                        "iteration": 136,
                        "passed_time": 3.045600439,
                        "remaining_time": 19.1850597,
                        "test": [
                          42999989.69
                        ]
                      },
                      {
                        "learn": [
                          30482420.52
                        ],
                        "iteration": 137,
                        "passed_time": 3.055761454,
                        "remaining_time": 19.08743749,
                        "test": [
                          42974316.38
                        ]
                      },
                      {
                        "learn": [
                          30419625.48
                        ],
                        "iteration": 138,
                        "passed_time": 3.067082167,
                        "remaining_time": 18.99825716,
                        "test": [
                          42983848.24
                        ]
                      },
                      {
                        "learn": [
                          30401902.35
                        ],
                        "iteration": 139,
                        "passed_time": 3.076173978,
                        "remaining_time": 18.89649729,
                        "test": [
                          43021987.34
                        ]
                      },
                      {
                        "learn": [
                          30254084.6
                        ],
                        "iteration": 140,
                        "passed_time": 3.088162662,
                        "remaining_time": 18.81370019,
                        "test": [
                          42960614.77
                        ]
                      },
                      {
                        "learn": [
                          30247792.48
                        ],
                        "iteration": 141,
                        "passed_time": 3.097889948,
                        "remaining_time": 18.71823645,
                        "test": [
                          42954467.65
                        ]
                      },
                      {
                        "learn": [
                          30194366.35
                        ],
                        "iteration": 142,
                        "passed_time": 3.107787657,
                        "remaining_time": 18.62499316,
                        "test": [
                          42960229.36
                        ]
                      },
                      {
                        "learn": [
                          30113860.15
                        ],
                        "iteration": 143,
                        "passed_time": 3.1193892,
                        "remaining_time": 18.5430358,
                        "test": [
                          42960738.05
                        ]
                      },
                      {
                        "learn": [
                          30057599.32
                        ],
                        "iteration": 144,
                        "passed_time": 3.129252354,
                        "remaining_time": 18.45179837,
                        "test": [
                          42968190.64
                        ]
                      },
                      {
                        "learn": [
                          29987414.15
                        ],
                        "iteration": 145,
                        "passed_time": 3.139654227,
                        "remaining_time": 18.36482678,
                        "test": [
                          42948888.98
                        ]
                      },
                      {
                        "learn": [
                          29986092.35
                        ],
                        "iteration": 146,
                        "passed_time": 3.148148724,
                        "remaining_time": 18.26782899,
                        "test": [
                          42949637.89
                        ]
                      },
                      {
                        "learn": [
                          29961508.1
                        ],
                        "iteration": 147,
                        "passed_time": 3.157118269,
                        "remaining_time": 18.17476193,
                        "test": [
                          42949400.72
                        ]
                      },
                      {
                        "learn": [
                          29937029.48
                        ],
                        "iteration": 148,
                        "passed_time": 3.167486054,
                        "remaining_time": 18.09080961,
                        "test": [
                          42928997.71
                        ]
                      },
                      {
                        "learn": [
                          29911509.81
                        ],
                        "iteration": 149,
                        "passed_time": 3.177954586,
                        "remaining_time": 18.00840932,
                        "test": [
                          42951628.76
                        ]
                      },
                      {
                        "learn": [
                          29869054.54
                        ],
                        "iteration": 150,
                        "passed_time": 3.187632169,
                        "remaining_time": 17.92251465,
                        "test": [
                          42977592.79
                        ]
                      },
                      {
                        "learn": [
                          29830768.91
                        ],
                        "iteration": 151,
                        "passed_time": 3.198975127,
                        "remaining_time": 17.84691387,
                        "test": [
                          42944270.72
                        ]
                      },
                      {
                        "learn": [
                          29821680.42
                        ],
                        "iteration": 152,
                        "passed_time": 3.20905409,
                        "remaining_time": 17.76515565,
                        "test": [
                          42943283.22
                        ]
                      },
                      {
                        "learn": [
                          29751052.79
                        ],
                        "iteration": 153,
                        "passed_time": 3.219726948,
                        "remaining_time": 17.6875909,
                        "test": [
                          42919525.05
                        ]
                      },
                      {
                        "learn": [
                          29675698.13
                        ],
                        "iteration": 154,
                        "passed_time": 3.228954044,
                        "remaining_time": 17.60300753,
                        "test": [
                          42909522.49
                        ]
                      },
                      {
                        "learn": [
                          29611345.32
                        ],
                        "iteration": 155,
                        "passed_time": 3.241946074,
                        "remaining_time": 17.53975953,
                        "test": [
                          42882502.85
                        ]
                      },
                      {
                        "learn": [
                          29563409.59
                        ],
                        "iteration": 156,
                        "passed_time": 3.252648876,
                        "remaining_time": 17.46485989,
                        "test": [
                          42875261.88
                        ]
                      },
                      {
                        "learn": [
                          29540341.52
                        ],
                        "iteration": 157,
                        "passed_time": 3.26237848,
                        "remaining_time": 17.38558658,
                        "test": [
                          42851742.26
                        ]
                      },
                      {
                        "learn": [
                          29532195.6
                        ],
                        "iteration": 158,
                        "passed_time": 3.271924259,
                        "remaining_time": 17.30621574,
                        "test": [
                          42852327.27
                        ]
                      },
                      {
                        "learn": [
                          29470108.81
                        ],
                        "iteration": 159,
                        "passed_time": 3.28290586,
                        "remaining_time": 17.23525577,
                        "test": [
                          42811095.35
                        ]
                      },
                      {
                        "learn": [
                          29400710.27
                        ],
                        "iteration": 160,
                        "passed_time": 3.293674528,
                        "remaining_time": 17.16393124,
                        "test": [
                          42783215.6
                        ]
                      },
                      {
                        "learn": [
                          29325922.09
                        ],
                        "iteration": 161,
                        "passed_time": 3.304562432,
                        "remaining_time": 17.0939711,
                        "test": [
                          42805276.69
                        ]
                      },
                      {
                        "learn": [
                          29293951.91
                        ],
                        "iteration": 162,
                        "passed_time": 3.314404339,
                        "remaining_time": 17.01936461,
                        "test": [
                          42792088.29
                        ]
                      },
                      {
                        "learn": [
                          29274413.38
                        ],
                        "iteration": 163,
                        "passed_time": 3.334353734,
                        "remaining_time": 16.99707147,
                        "test": [
                          42812785.17
                        ]
                      },
                      {
                        "learn": [
                          29213748.12
                        ],
                        "iteration": 164,
                        "passed_time": 3.358509961,
                        "remaining_time": 16.99609586,
                        "test": [
                          42822943.98
                        ]
                      },
                      {
                        "learn": [
                          29143995.92
                        ],
                        "iteration": 165,
                        "passed_time": 3.370013878,
                        "remaining_time": 16.93127455,
                        "test": [
                          42785360.67
                        ]
                      },
                      {
                        "learn": [
                          29052449.35
                        ],
                        "iteration": 166,
                        "passed_time": 3.382793278,
                        "remaining_time": 16.8734539,
                        "test": [
                          42809927.25
                        ]
                      },
                      {
                        "learn": [
                          29022916.79
                        ],
                        "iteration": 167,
                        "passed_time": 3.39532567,
                        "remaining_time": 16.81494618,
                        "test": [
                          42794536.01
                        ]
                      },
                      {
                        "learn": [
                          28994032.24
                        ],
                        "iteration": 168,
                        "passed_time": 3.406331317,
                        "remaining_time": 16.74947529,
                        "test": [
                          42775807.52
                        ]
                      },
                      {
                        "learn": [
                          28927413.6
                        ],
                        "iteration": 169,
                        "passed_time": 3.418029284,
                        "remaining_time": 16.68802533,
                        "test": [
                          42733701.51
                        ]
                      },
                      {
                        "learn": [
                          28841802.23
                        ],
                        "iteration": 170,
                        "passed_time": 3.429975386,
                        "remaining_time": 16.62836021,
                        "test": [
                          42759276.45
                        ]
                      },
                      {
                        "learn": [
                          28826937.81
                        ],
                        "iteration": 171,
                        "passed_time": 3.438436613,
                        "remaining_time": 16.55247393,
                        "test": [
                          42759447.25
                        ]
                      },
                      {
                        "learn": [
                          28801159.96
                        ],
                        "iteration": 172,
                        "passed_time": 3.44823487,
                        "remaining_time": 16.4837586,
                        "test": [
                          42754575.45
                        ]
                      },
                      {
                        "learn": [
                          28716255.72
                        ],
                        "iteration": 173,
                        "passed_time": 3.45948881,
                        "remaining_time": 16.42263079,
                        "test": [
                          42696230.13
                        ]
                      },
                      {
                        "learn": [
                          28661069.88
                        ],
                        "iteration": 174,
                        "passed_time": 3.470380748,
                        "remaining_time": 16.36036638,
                        "test": [
                          42702929.78
                        ]
                      },
                      {
                        "learn": [
                          28625145.35
                        ],
                        "iteration": 175,
                        "passed_time": 3.481087127,
                        "remaining_time": 16.29781701,
                        "test": [
                          42691628.89
                        ]
                      },
                      {
                        "learn": [
                          28548873.28
                        ],
                        "iteration": 176,
                        "passed_time": 3.491803876,
                        "remaining_time": 16.23590164,
                        "test": [
                          42699487.64
                        ]
                      },
                      {
                        "learn": [
                          28471927.19
                        ],
                        "iteration": 177,
                        "passed_time": 3.498816764,
                        "remaining_time": 16.15745719,
                        "test": [
                          42673833.77
                        ]
                      },
                      {
                        "learn": [
                          28463003.9
                        ],
                        "iteration": 178,
                        "passed_time": 3.509096749,
                        "remaining_time": 16.0947957,
                        "test": [
                          42679589.18
                        ]
                      },
                      {
                        "learn": [
                          28450042.01
                        ],
                        "iteration": 179,
                        "passed_time": 3.51894583,
                        "remaining_time": 16.03075323,
                        "test": [
                          42675811.83
                        ]
                      },
                      {
                        "learn": [
                          28379053.53
                        ],
                        "iteration": 180,
                        "passed_time": 3.5307404,
                        "remaining_time": 15.97611264,
                        "test": [
                          42685554.61
                        ]
                      },
                      {
                        "learn": [
                          28349548.04
                        ],
                        "iteration": 181,
                        "passed_time": 3.541783742,
                        "remaining_time": 15.91856649,
                        "test": [
                          42670024.97
                        ]
                      },
                      {
                        "learn": [
                          28322021.81
                        ],
                        "iteration": 182,
                        "passed_time": 3.554204601,
                        "remaining_time": 15.86767846,
                        "test": [
                          42656273.52
                        ]
                      },
                      {
                        "learn": [
                          28264681.22
                        ],
                        "iteration": 183,
                        "passed_time": 3.566870466,
                        "remaining_time": 15.81829511,
                        "test": [
                          42644057.43
                        ]
                      },
                      {
                        "learn": [
                          28256586.15
                        ],
                        "iteration": 184,
                        "passed_time": 3.573706067,
                        "remaining_time": 15.74362402,
                        "test": [
                          42651396.65
                        ]
                      },
                      {
                        "learn": [
                          28224291.99
                        ],
                        "iteration": 185,
                        "passed_time": 3.584876452,
                        "remaining_time": 15.68865286,
                        "test": [
                          42603949.99
                        ]
                      },
                      {
                        "learn": [
                          28201753.97
                        ],
                        "iteration": 186,
                        "passed_time": 3.596204011,
                        "remaining_time": 15.63483348,
                        "test": [
                          42608447.9
                        ]
                      },
                      {
                        "learn": [
                          28148243.95
                        ],
                        "iteration": 187,
                        "passed_time": 3.607148935,
                        "remaining_time": 15.57981349,
                        "test": [
                          42546308.75
                        ]
                      },
                      {
                        "learn": [
                          28098774.63
                        ],
                        "iteration": 188,
                        "passed_time": 3.618763983,
                        "remaining_time": 15.5281354,
                        "test": [
                          42530401.68
                        ]
                      },
                      {
                        "learn": [
                          28045253.7
                        ],
                        "iteration": 189,
                        "passed_time": 3.634231001,
                        "remaining_time": 15.49330059,
                        "test": [
                          42486315.22
                        ]
                      },
                      {
                        "learn": [
                          28038505.65
                        ],
                        "iteration": 190,
                        "passed_time": 3.645909764,
                        "remaining_time": 15.44262303,
                        "test": [
                          42486536.69
                        ]
                      },
                      {
                        "learn": [
                          27989050.8
                        ],
                        "iteration": 191,
                        "passed_time": 3.657413995,
                        "remaining_time": 15.39161723,
                        "test": [
                          42407908.3
                        ]
                      },
                      {
                        "learn": [
                          27975817.86
                        ],
                        "iteration": 192,
                        "passed_time": 3.666853989,
                        "remaining_time": 15.33238948,
                        "test": [
                          42402458.92
                        ]
                      },
                      {
                        "learn": [
                          27964017.1
                        ],
                        "iteration": 193,
                        "passed_time": 3.674024697,
                        "remaining_time": 15.26424694,
                        "test": [
                          42397786.49
                        ]
                      },
                      {
                        "learn": [
                          27954189.97
                        ],
                        "iteration": 194,
                        "passed_time": 3.683293961,
                        "remaining_time": 15.20539302,
                        "test": [
                          42375983.52
                        ]
                      },
                      {
                        "learn": [
                          27929719.1
                        ],
                        "iteration": 195,
                        "passed_time": 3.693310584,
                        "remaining_time": 15.15011076,
                        "test": [
                          42367441.39
                        ]
                      },
                      {
                        "learn": [
                          27884452.06
                        ],
                        "iteration": 196,
                        "passed_time": 3.703142603,
                        "remaining_time": 15.09453559,
                        "test": [
                          42342829.8
                        ]
                      },
                      {
                        "learn": [
                          27871370.08
                        ],
                        "iteration": 197,
                        "passed_time": 3.714252944,
                        "remaining_time": 15.04460031,
                        "test": [
                          42343830.96
                        ]
                      },
                      {
                        "learn": [
                          27817000.39
                        ],
                        "iteration": 198,
                        "passed_time": 3.72427417,
                        "remaining_time": 14.99067141,
                        "test": [
                          42317230.24
                        ]
                      },
                      {
                        "learn": [
                          27794783.48
                        ],
                        "iteration": 199,
                        "passed_time": 3.736036859,
                        "remaining_time": 14.94414743,
                        "test": [
                          42321530.44
                        ]
                      },
                      {
                        "learn": [
                          27750342.11
                        ],
                        "iteration": 200,
                        "passed_time": 3.746889717,
                        "remaining_time": 14.89435265,
                        "test": [
                          42304759.97
                        ]
                      },
                      {
                        "learn": [
                          27705848.36
                        ],
                        "iteration": 201,
                        "passed_time": 3.753915032,
                        "remaining_time": 14.82982275,
                        "test": [
                          42233526.62
                        ]
                      },
                      {
                        "learn": [
                          27683070.58
                        ],
                        "iteration": 202,
                        "passed_time": 3.765132641,
                        "remaining_time": 14.78231879,
                        "test": [
                          42206259.5
                        ]
                      },
                      {
                        "learn": [
                          27625030.55
                        ],
                        "iteration": 203,
                        "passed_time": 3.776137075,
                        "remaining_time": 14.73433878,
                        "test": [
                          42172983.33
                        ]
                      },
                      {
                        "learn": [
                          27591934.97
                        ],
                        "iteration": 204,
                        "passed_time": 3.787753677,
                        "remaining_time": 14.68909353,
                        "test": [
                          42160631.88
                        ]
                      },
                      {
                        "learn": [
                          27583526.69
                        ],
                        "iteration": 205,
                        "passed_time": 3.796881512,
                        "remaining_time": 14.63458214,
                        "test": [
                          42164508.98
                        ]
                      },
                      {
                        "learn": [
                          27551464.47
                        ],
                        "iteration": 206,
                        "passed_time": 3.808366135,
                        "remaining_time": 14.5895379,
                        "test": [
                          42143127.14
                        ]
                      },
                      {
                        "learn": [
                          27533972.12
                        ],
                        "iteration": 207,
                        "passed_time": 3.818418107,
                        "remaining_time": 14.53936125,
                        "test": [
                          42132006.8
                        ]
                      },
                      {
                        "learn": [
                          27512895.03
                        ],
                        "iteration": 208,
                        "passed_time": 3.825462869,
                        "remaining_time": 14.47818722,
                        "test": [
                          42119723.57
                        ]
                      },
                      {
                        "learn": [
                          27472677.08
                        ],
                        "iteration": 209,
                        "passed_time": 3.836161561,
                        "remaining_time": 14.43127444,
                        "test": [
                          42077251.71
                        ]
                      },
                      {
                        "learn": [
                          27464162.72
                        ],
                        "iteration": 210,
                        "passed_time": 3.849049981,
                        "remaining_time": 14.39289306,
                        "test": [
                          42074130.96
                        ]
                      },
                      {
                        "learn": [
                          27413899.3
                        ],
                        "iteration": 211,
                        "passed_time": 3.859198816,
                        "remaining_time": 14.34456918,
                        "test": [
                          42082548.24
                        ]
                      },
                      {
                        "learn": [
                          27394192.3
                        ],
                        "iteration": 212,
                        "passed_time": 3.866164777,
                        "remaining_time": 14.28484357,
                        "test": [
                          42087818.02
                        ]
                      },
                      {
                        "learn": [
                          27344622.38
                        ],
                        "iteration": 213,
                        "passed_time": 3.878085043,
                        "remaining_time": 14.24380768,
                        "test": [
                          42084015.85
                        ]
                      },
                      {
                        "learn": [
                          27298350.4
                        ],
                        "iteration": 214,
                        "passed_time": 3.891487303,
                        "remaining_time": 14.20845364,
                        "test": [
                          42090007.44
                        ]
                      },
                      {
                        "learn": [
                          27261367.66
                        ],
                        "iteration": 215,
                        "passed_time": 3.903346177,
                        "remaining_time": 14.16770094,
                        "test": [
                          42080651.91
                        ]
                      },
                      {
                        "learn": [
                          27221857.92
                        ],
                        "iteration": 216,
                        "passed_time": 3.913719455,
                        "remaining_time": 14.12185407,
                        "test": [
                          42062416.86
                        ]
                      },
                      {
                        "learn": [
                          27158192.38
                        ],
                        "iteration": 217,
                        "passed_time": 3.926139447,
                        "remaining_time": 14.08367453,
                        "test": [
                          42012197.09
                        ]
                      },
                      {
                        "learn": [
                          27127298.13
                        ],
                        "iteration": 218,
                        "passed_time": 3.936592253,
                        "remaining_time": 14.03871484,
                        "test": [
                          42004847.55
                        ]
                      },
                      {
                        "learn": [
                          27061842.8
                        ],
                        "iteration": 219,
                        "passed_time": 3.948412098,
                        "remaining_time": 13.99891562,
                        "test": [
                          41999106.84
                        ]
                      },
                      {
                        "learn": [
                          27043841.9
                        ],
                        "iteration": 220,
                        "passed_time": 3.960121128,
                        "remaining_time": 13.958979,
                        "test": [
                          42004450.15
                        ]
                      },
                      {
                        "learn": [
                          27019593.78
                        ],
                        "iteration": 221,
                        "passed_time": 3.971726794,
                        "remaining_time": 13.91893444,
                        "test": [
                          41987659.34
                        ]
                      },
                      {
                        "learn": [
                          26967660.93
                        ],
                        "iteration": 222,
                        "passed_time": 3.997055794,
                        "remaining_time": 13.92696122,
                        "test": [
                          41969680.44
                        ]
                      },
                      {
                        "learn": [
                          26933887.03
                        ],
                        "iteration": 223,
                        "passed_time": 4.008541076,
                        "remaining_time": 13.88673159,
                        "test": [
                          41969913.2
                        ]
                      },
                      {
                        "learn": [
                          26895562
                        ],
                        "iteration": 224,
                        "passed_time": 4.018674175,
                        "remaining_time": 13.84209994,
                        "test": [
                          41962801.6
                        ]
                      },
                      {
                        "learn": [
                          26850452.04
                        ],
                        "iteration": 225,
                        "passed_time": 4.030290484,
                        "remaining_time": 13.80285325,
                        "test": [
                          41935460.88
                        ]
                      },
                      {
                        "learn": [
                          26838628.73
                        ],
                        "iteration": 226,
                        "passed_time": 4.042438738,
                        "remaining_time": 13.76566143,
                        "test": [
                          41942966.87
                        ]
                      },
                      {
                        "learn": [
                          26827641.68
                        ],
                        "iteration": 227,
                        "passed_time": 4.05459044,
                        "remaining_time": 13.72870097,
                        "test": [
                          41950241.7
                        ]
                      },
                      {
                        "learn": [
                          26804369.51
                        ],
                        "iteration": 228,
                        "passed_time": 4.063920767,
                        "remaining_time": 13.68245813,
                        "test": [
                          41949483.77
                        ]
                      },
                      {
                        "learn": [
                          26740648.09
                        ],
                        "iteration": 229,
                        "passed_time": 4.075549933,
                        "remaining_time": 13.64423238,
                        "test": [
                          41919857.02
                        ]
                      },
                      {
                        "learn": [
                          26702142.03
                        ],
                        "iteration": 230,
                        "passed_time": 4.084816013,
                        "remaining_time": 13.59837019,
                        "test": [
                          41919901.66
                        ]
                      },
                      {
                        "learn": [
                          26694481.69
                        ],
                        "iteration": 231,
                        "passed_time": 4.094686039,
                        "remaining_time": 13.55482275,
                        "test": [
                          41902465.83
                        ]
                      },
                      {
                        "learn": [
                          26663010.14
                        ],
                        "iteration": 232,
                        "passed_time": 4.105436728,
                        "remaining_time": 13.51446339,
                        "test": [
                          41868181.56
                        ]
                      },
                      {
                        "learn": [
                          26638588.01
                        ],
                        "iteration": 233,
                        "passed_time": 4.118111338,
                        "remaining_time": 13.48065506,
                        "test": [
                          41855592.5
                        ]
                      },
                      {
                        "learn": [
                          26606879.82
                        ],
                        "iteration": 234,
                        "passed_time": 4.127485951,
                        "remaining_time": 13.43628405,
                        "test": [
                          41840223.09
                        ]
                      },
                      {
                        "learn": [
                          26583312.26
                        ],
                        "iteration": 235,
                        "passed_time": 4.136763637,
                        "remaining_time": 13.39189584,
                        "test": [
                          41845396.92
                        ]
                      },
                      {
                        "learn": [
                          26556929.25
                        ],
                        "iteration": 236,
                        "passed_time": 4.148463862,
                        "remaining_time": 13.35560307,
                        "test": [
                          41832755.11
                        ]
                      },
                      {
                        "learn": [
                          26503672.94
                        ],
                        "iteration": 237,
                        "passed_time": 4.160164739,
                        "remaining_time": 13.31951904,
                        "test": [
                          41814109.9
                        ]
                      },
                      {
                        "learn": [
                          26455504.39
                        ],
                        "iteration": 238,
                        "passed_time": 4.170544751,
                        "remaining_time": 13.27943329,
                        "test": [
                          41823257.58
                        ]
                      },
                      {
                        "learn": [
                          26435428.88
                        ],
                        "iteration": 239,
                        "passed_time": 4.182837073,
                        "remaining_time": 13.24565073,
                        "test": [
                          41792659.33
                        ]
                      },
                      {
                        "learn": [
                          26426119.91
                        ],
                        "iteration": 240,
                        "passed_time": 4.18956103,
                        "remaining_time": 13.19450964,
                        "test": [
                          41799688.46
                        ]
                      },
                      {
                        "learn": [
                          26400744.94
                        ],
                        "iteration": 241,
                        "passed_time": 4.205211087,
                        "remaining_time": 13.17169423,
                        "test": [
                          41788653.18
                        ]
                      },
                      {
                        "learn": [
                          26382547.5
                        ],
                        "iteration": 242,
                        "passed_time": 4.21357633,
                        "remaining_time": 13.12624396,
                        "test": [
                          41780838.92
                        ]
                      },
                      {
                        "learn": [
                          26379291.66
                        ],
                        "iteration": 243,
                        "passed_time": 4.225768845,
                        "remaining_time": 13.09295593,
                        "test": [
                          41780774.08
                        ]
                      },
                      {
                        "learn": [
                          26337492.12
                        ],
                        "iteration": 244,
                        "passed_time": 4.232725236,
                        "remaining_time": 13.0437043,
                        "test": [
                          41766663.5
                        ]
                      },
                      {
                        "learn": [
                          26334571.53
                        ],
                        "iteration": 245,
                        "passed_time": 4.239539477,
                        "remaining_time": 12.99436084,
                        "test": [
                          41766656.6
                        ]
                      },
                      {
                        "learn": [
                          26279039.58
                        ],
                        "iteration": 246,
                        "passed_time": 4.250554401,
                        "remaining_time": 12.95816787,
                        "test": [
                          41777641.99
                        ]
                      },
                      {
                        "learn": [
                          26244528.53
                        ],
                        "iteration": 247,
                        "passed_time": 4.261199175,
                        "remaining_time": 12.92105556,
                        "test": [
                          41750685.37
                        ]
                      },
                      {
                        "learn": [
                          26218554.5
                        ],
                        "iteration": 248,
                        "passed_time": 4.273146069,
                        "remaining_time": 12.88808312,
                        "test": [
                          41749900.92
                        ]
                      },
                      {
                        "learn": [
                          26205325.23
                        ],
                        "iteration": 249,
                        "passed_time": 4.283154142,
                        "remaining_time": 12.84946243,
                        "test": [
                          41740726.27
                        ]
                      },
                      {
                        "learn": [
                          26195768.62
                        ],
                        "iteration": 250,
                        "passed_time": 4.293075368,
                        "remaining_time": 12.81081056,
                        "test": [
                          41733158.86
                        ]
                      },
                      {
                        "learn": [
                          26158056.28
                        ],
                        "iteration": 251,
                        "passed_time": 4.303873768,
                        "remaining_time": 12.77499039,
                        "test": [
                          41667103.41
                        ]
                      },
                      {
                        "learn": [
                          26146767.77
                        ],
                        "iteration": 252,
                        "passed_time": 4.314536464,
                        "remaining_time": 12.73896735,
                        "test": [
                          41679323.33
                        ]
                      },
                      {
                        "learn": [
                          26118145.88
                        ],
                        "iteration": 253,
                        "passed_time": 4.326476922,
                        "remaining_time": 12.70689679,
                        "test": [
                          41663840.88
                        ]
                      },
                      {
                        "learn": [
                          26111723.79
                        ],
                        "iteration": 254,
                        "passed_time": 4.333362558,
                        "remaining_time": 12.6602161,
                        "test": [
                          41660645.66
                        ]
                      },
                      {
                        "learn": [
                          26079794.14
                        ],
                        "iteration": 255,
                        "passed_time": 4.355113823,
                        "remaining_time": 12.65704955,
                        "test": [
                          41650386.85
                        ]
                      },
                      {
                        "learn": [
                          26073662.73
                        ],
                        "iteration": 256,
                        "passed_time": 4.372667482,
                        "remaining_time": 12.64160288,
                        "test": [
                          41637255.03
                        ]
                      },
                      {
                        "learn": [
                          26042142.08
                        ],
                        "iteration": 257,
                        "passed_time": 4.386067136,
                        "remaining_time": 12.61419308,
                        "test": [
                          41609208.98
                        ]
                      },
                      {
                        "learn": [
                          26034722.01
                        ],
                        "iteration": 258,
                        "passed_time": 4.393050341,
                        "remaining_time": 12.56853399,
                        "test": [
                          41611608.44
                        ]
                      },
                      {
                        "learn": [
                          26029233.36
                        ],
                        "iteration": 259,
                        "passed_time": 4.402871241,
                        "remaining_time": 12.53124892,
                        "test": [
                          41599279.47
                        ]
                      },
                      {
                        "learn": [
                          26016895.57
                        ],
                        "iteration": 260,
                        "passed_time": 4.415200975,
                        "remaining_time": 12.50127786,
                        "test": [
                          41594401.2
                        ]
                      },
                      {
                        "learn": [
                          26013963.05
                        ],
                        "iteration": 261,
                        "passed_time": 4.425685207,
                        "remaining_time": 12.46624307,
                        "test": [
                          41594363.25
                        ]
                      },
                      {
                        "learn": [
                          26012575.67
                        ],
                        "iteration": 262,
                        "passed_time": 4.433196903,
                        "remaining_time": 12.42306509,
                        "test": [
                          41597785.53
                        ]
                      },
                      {
                        "learn": [
                          25984039.81
                        ],
                        "iteration": 263,
                        "passed_time": 4.444479128,
                        "remaining_time": 12.39066908,
                        "test": [
                          41581048.87
                        ]
                      },
                      {
                        "learn": [
                          25976073.3
                        ],
                        "iteration": 264,
                        "passed_time": 4.456301456,
                        "remaining_time": 12.35993045,
                        "test": [
                          41588493.57
                        ]
                      },
                      {
                        "learn": [
                          25954174.16
                        ],
                        "iteration": 265,
                        "passed_time": 4.466584306,
                        "remaining_time": 12.32508602,
                        "test": [
                          41579922.77
                        ]
                      },
                      {
                        "learn": [
                          25942206.96
                        ],
                        "iteration": 266,
                        "passed_time": 4.475282722,
                        "remaining_time": 12.28607579,
                        "test": [
                          41578335.16
                        ]
                      },
                      {
                        "learn": [
                          25892239.35
                        ],
                        "iteration": 267,
                        "passed_time": 4.487651611,
                        "remaining_time": 12.25731709,
                        "test": [
                          41565008.73
                        ]
                      },
                      {
                        "learn": [
                          25884262.28
                        ],
                        "iteration": 268,
                        "passed_time": 4.498913849,
                        "remaining_time": 12.22567295,
                        "test": [
                          41558602.44
                        ]
                      },
                      {
                        "learn": [
                          25870950.5
                        ],
                        "iteration": 269,
                        "passed_time": 4.505922946,
                        "remaining_time": 12.18268056,
                        "test": [
                          41558348.19
                        ]
                      },
                      {
                        "learn": [
                          25854300.73
                        ],
                        "iteration": 270,
                        "passed_time": 4.515173971,
                        "remaining_time": 12.14598459,
                        "test": [
                          41548016.29
                        ]
                      },
                      {
                        "learn": [
                          25842560.69
                        ],
                        "iteration": 271,
                        "passed_time": 4.523010315,
                        "remaining_time": 12.10570408,
                        "test": [
                          41537301.73
                        ]
                      },
                      {
                        "learn": [
                          25829659.19
                        ],
                        "iteration": 272,
                        "passed_time": 4.532147125,
                        "remaining_time": 12.0691244,
                        "test": [
                          41542502.02
                        ]
                      },
                      {
                        "learn": [
                          25802652.27
                        ],
                        "iteration": 273,
                        "passed_time": 4.543682419,
                        "remaining_time": 12.03910013,
                        "test": [
                          41534277.78
                        ]
                      },
                      {
                        "learn": [
                          25750794.03
                        ],
                        "iteration": 274,
                        "passed_time": 4.556252618,
                        "remaining_time": 12.01193872,
                        "test": [
                          41525529.37
                        ]
                      },
                      {
                        "learn": [
                          25739085
                        ],
                        "iteration": 275,
                        "passed_time": 4.566354123,
                        "remaining_time": 11.97840719,
                        "test": [
                          41525711.32
                        ]
                      },
                      {
                        "learn": [
                          25716063.3
                        ],
                        "iteration": 276,
                        "passed_time": 4.578244126,
                        "remaining_time": 11.94971301,
                        "test": [
                          41522943.49
                        ]
                      },
                      {
                        "learn": [
                          25656628.23
                        ],
                        "iteration": 277,
                        "passed_time": 4.590358267,
                        "remaining_time": 11.92172183,
                        "test": [
                          41491964.39
                        ]
                      },
                      {
                        "learn": [
                          25591389.81
                        ],
                        "iteration": 278,
                        "passed_time": 4.602029745,
                        "remaining_time": 11.89270052,
                        "test": [
                          41495209.4
                        ]
                      },
                      {
                        "learn": [
                          25552837.28
                        ],
                        "iteration": 279,
                        "passed_time": 4.617440428,
                        "remaining_time": 11.87341824,
                        "test": [
                          41481143.26
                        ]
                      },
                      {
                        "learn": [
                          25539366.97
                        ],
                        "iteration": 280,
                        "passed_time": 4.626738441,
                        "remaining_time": 11.83852291,
                        "test": [
                          41472838.52
                        ]
                      },
                      {
                        "learn": [
                          25530535.65
                        ],
                        "iteration": 281,
                        "passed_time": 4.638041132,
                        "remaining_time": 11.80891324,
                        "test": [
                          41467231.29
                        ]
                      },
                      {
                        "learn": [
                          25518400.28
                        ],
                        "iteration": 282,
                        "passed_time": 4.647966774,
                        "remaining_time": 11.77594409,
                        "test": [
                          41470806.73
                        ]
                      },
                      {
                        "learn": [
                          25507644.65
                        ],
                        "iteration": 283,
                        "passed_time": 4.657676816,
                        "remaining_time": 11.74259366,
                        "test": [
                          41474355.42
                        ]
                      },
                      {
                        "learn": [
                          25468185.27
                        ],
                        "iteration": 284,
                        "passed_time": 4.665688962,
                        "remaining_time": 11.7051495,
                        "test": [
                          41455680.34
                        ]
                      },
                      {
                        "learn": [
                          25434237.54
                        ],
                        "iteration": 285,
                        "passed_time": 4.672699797,
                        "remaining_time": 11.66541138,
                        "test": [
                          41444123.67
                        ]
                      },
                      {
                        "learn": [
                          25414665.69
                        ],
                        "iteration": 286,
                        "passed_time": 4.684272827,
                        "remaining_time": 11.63723528,
                        "test": [
                          41427539.35
                        ]
                      },
                      {
                        "learn": [
                          25371543.44
                        ],
                        "iteration": 287,
                        "passed_time": 4.695889531,
                        "remaining_time": 11.60928245,
                        "test": [
                          41418580.5
                        ]
                      },
                      {
                        "learn": [
                          25354748.19
                        ],
                        "iteration": 288,
                        "passed_time": 4.703326085,
                        "remaining_time": 11.57115864,
                        "test": [
                          41403946.29
                        ]
                      },
                      {
                        "learn": [
                          25301278.7
                        ],
                        "iteration": 289,
                        "passed_time": 4.715068839,
                        "remaining_time": 11.54378923,
                        "test": [
                          41385536.39
                        ]
                      },
                      {
                        "learn": [
                          25279092.68
                        ],
                        "iteration": 290,
                        "passed_time": 4.725877379,
                        "remaining_time": 11.51425107,
                        "test": [
                          41383785.8
                        ]
                      },
                      {
                        "learn": [
                          25267425.31
                        ],
                        "iteration": 291,
                        "passed_time": 4.738007558,
                        "remaining_time": 11.48804572,
                        "test": [
                          41375947.87
                        ]
                      },
                      {
                        "learn": [
                          25231599.69
                        ],
                        "iteration": 292,
                        "passed_time": 4.749010636,
                        "remaining_time": 11.45921679,
                        "test": [
                          41343971.18
                        ]
                      },
                      {
                        "learn": [
                          25225824.95
                        ],
                        "iteration": 293,
                        "passed_time": 4.75760721,
                        "remaining_time": 11.42473024,
                        "test": [
                          41343148.43
                        ]
                      },
                      {
                        "learn": [
                          25210128.31
                        ],
                        "iteration": 294,
                        "passed_time": 4.767891948,
                        "remaining_time": 11.39445364,
                        "test": [
                          41342088.7
                        ]
                      },
                      {
                        "learn": [
                          25188814.18
                        ],
                        "iteration": 295,
                        "passed_time": 4.779202652,
                        "remaining_time": 11.36675225,
                        "test": [
                          41335859.33
                        ]
                      },
                      {
                        "learn": [
                          25153706.83
                        ],
                        "iteration": 296,
                        "passed_time": 4.786041349,
                        "remaining_time": 11.32857599,
                        "test": [
                          41319944.54
                        ]
                      },
                      {
                        "learn": [
                          25140484.38
                        ],
                        "iteration": 297,
                        "passed_time": 4.797296236,
                        "remaining_time": 11.30101328,
                        "test": [
                          41316649.88
                        ]
                      },
                      {
                        "learn": [
                          25126413.28
                        ],
                        "iteration": 298,
                        "passed_time": 4.807348315,
                        "remaining_time": 11.2707397,
                        "test": [
                          41303865.79
                        ]
                      },
                      {
                        "learn": [
                          25114358.08
                        ],
                        "iteration": 299,
                        "passed_time": 4.814095687,
                        "remaining_time": 11.23288994,
                        "test": [
                          41292583.77
                        ]
                      },
                      {
                        "learn": [
                          25085514.81
                        ],
                        "iteration": 300,
                        "passed_time": 4.824455119,
                        "remaining_time": 11.20363498,
                        "test": [
                          41274188.8
                        ]
                      },
                      {
                        "learn": [
                          25082516.31
                        ],
                        "iteration": 301,
                        "passed_time": 4.831321051,
                        "remaining_time": 11.16643077,
                        "test": [
                          41273070.38
                        ]
                      },
                      {
                        "learn": [
                          25061448.09
                        ],
                        "iteration": 302,
                        "passed_time": 4.841681748,
                        "remaining_time": 11.13746594,
                        "test": [
                          41286178.55
                        ]
                      },
                      {
                        "learn": [
                          25032623.79
                        ],
                        "iteration": 303,
                        "passed_time": 4.851050119,
                        "remaining_time": 11.10635159,
                        "test": [
                          41281856.23
                        ]
                      },
                      {
                        "learn": [
                          25004450
                        ],
                        "iteration": 304,
                        "passed_time": 4.864208171,
                        "remaining_time": 11.08401534,
                        "test": [
                          41268161.49
                        ]
                      },
                      {
                        "learn": [
                          24988162.23
                        ],
                        "iteration": 305,
                        "passed_time": 4.87423865,
                        "remaining_time": 11.05464583,
                        "test": [
                          41266604.19
                        ]
                      },
                      {
                        "learn": [
                          24985420.01
                        ],
                        "iteration": 306,
                        "passed_time": 4.882660719,
                        "remaining_time": 11.02177159,
                        "test": [
                          41267138.65
                        ]
                      },
                      {
                        "learn": [
                          24974321.52
                        ],
                        "iteration": 307,
                        "passed_time": 4.893222382,
                        "remaining_time": 10.99386327,
                        "test": [
                          41263662.17
                        ]
                      },
                      {
                        "learn": [
                          24954709.19
                        ],
                        "iteration": 308,
                        "passed_time": 4.904033565,
                        "remaining_time": 10.96662522,
                        "test": [
                          41261382.57
                        ]
                      },
                      {
                        "learn": [
                          24926269.59
                        ],
                        "iteration": 309,
                        "passed_time": 4.914028699,
                        "remaining_time": 10.93767678,
                        "test": [
                          41274706.95
                        ]
                      },
                      {
                        "learn": [
                          24889599.84
                        ],
                        "iteration": 310,
                        "passed_time": 4.925859188,
                        "remaining_time": 10.91291634,
                        "test": [
                          41275961.86
                        ]
                      },
                      {
                        "learn": [
                          24875976.55
                        ],
                        "iteration": 311,
                        "passed_time": 4.936084927,
                        "remaining_time": 10.8847001,
                        "test": [
                          41265795.86
                        ]
                      },
                      {
                        "learn": [
                          24846312.76
                        ],
                        "iteration": 312,
                        "passed_time": 4.946909233,
                        "remaining_time": 10.8579126,
                        "test": [
                          41216787.07
                        ]
                      },
                      {
                        "learn": [
                          24844242.96
                        ],
                        "iteration": 313,
                        "passed_time": 4.95913651,
                        "remaining_time": 10.83429187,
                        "test": [
                          41216749.1
                        ]
                      },
                      {
                        "learn": [
                          24837602.01
                        ],
                        "iteration": 314,
                        "passed_time": 4.982821048,
                        "remaining_time": 10.83565847,
                        "test": [
                          41211779.24
                        ]
                      },
                      {
                        "learn": [
                          24814464.68
                        ],
                        "iteration": 315,
                        "passed_time": 5.000767414,
                        "remaining_time": 10.82444592,
                        "test": [
                          41208402.37
                        ]
                      },
                      {
                        "learn": [
                          24767231.17
                        ],
                        "iteration": 316,
                        "passed_time": 5.014438299,
                        "remaining_time": 10.80397905,
                        "test": [
                          41184861.29
                        ]
                      },
                      {
                        "learn": [
                          24761228.12
                        ],
                        "iteration": 317,
                        "passed_time": 5.02677362,
                        "remaining_time": 10.78069059,
                        "test": [
                          41184214
                        ]
                      },
                      {
                        "learn": [
                          24746278.18
                        ],
                        "iteration": 318,
                        "passed_time": 5.038204504,
                        "remaining_time": 10.75554002,
                        "test": [
                          41172167.93
                        ]
                      },
                      {
                        "learn": [
                          24714607.3
                        ],
                        "iteration": 319,
                        "passed_time": 5.045739278,
                        "remaining_time": 10.72219596,
                        "test": [
                          41157783.32
                        ]
                      },
                      {
                        "learn": [
                          24685510.28
                        ],
                        "iteration": 320,
                        "passed_time": 5.052931955,
                        "remaining_time": 10.68828909,
                        "test": [
                          41144311.89
                        ]
                      },
                      {
                        "learn": [
                          24665970.27
                        ],
                        "iteration": 321,
                        "passed_time": 5.063241382,
                        "remaining_time": 10.66111074,
                        "test": [
                          41141659.54
                        ]
                      },
                      {
                        "learn": [
                          24642475.6
                        ],
                        "iteration": 322,
                        "passed_time": 5.071409219,
                        "remaining_time": 10.62954812,
                        "test": [
                          41140591.06
                        ]
                      },
                      {
                        "learn": [
                          24606823.91
                        ],
                        "iteration": 323,
                        "passed_time": 5.081149776,
                        "remaining_time": 10.60141126,
                        "test": [
                          41142152.73
                        ]
                      },
                      {
                        "learn": [
                          24551804.21
                        ],
                        "iteration": 324,
                        "passed_time": 5.092629623,
                        "remaining_time": 10.57699999,
                        "test": [
                          41123424.34
                        ]
                      },
                      {
                        "learn": [
                          24530408.81
                        ],
                        "iteration": 325,
                        "passed_time": 5.105372654,
                        "remaining_time": 10.55527966,
                        "test": [
                          41109620.37
                        ]
                      },
                      {
                        "learn": [
                          24521492.56
                        ],
                        "iteration": 326,
                        "passed_time": 5.118391313,
                        "remaining_time": 10.53418151,
                        "test": [
                          41110710.53
                        ]
                      },
                      {
                        "learn": [
                          24508285.87
                        ],
                        "iteration": 327,
                        "passed_time": 5.129633453,
                        "remaining_time": 10.50949293,
                        "test": [
                          41098010.54
                        ]
                      },
                      {
                        "learn": [
                          24463075.7
                        ],
                        "iteration": 328,
                        "passed_time": 5.14112475,
                        "remaining_time": 10.48539425,
                        "test": [
                          41082942.41
                        ]
                      },
                      {
                        "learn": [
                          24436831.31
                        ],
                        "iteration": 329,
                        "passed_time": 5.149353922,
                        "remaining_time": 10.45474887,
                        "test": [
                          41070259.1
                        ]
                      },
                      {
                        "learn": [
                          24412553.27
                        ],
                        "iteration": 330,
                        "passed_time": 5.163384852,
                        "remaining_time": 10.43596515,
                        "test": [
                          41061554.27
                        ]
                      },
                      {
                        "learn": [
                          24408272.45
                        ],
                        "iteration": 331,
                        "passed_time": 5.172928194,
                        "remaining_time": 10.40818082,
                        "test": [
                          41062930.99
                        ]
                      },
                      {
                        "learn": [
                          24404353.02
                        ],
                        "iteration": 332,
                        "passed_time": 5.179685403,
                        "remaining_time": 10.37492542,
                        "test": [
                          41064387.81
                        ]
                      },
                      {
                        "learn": [
                          24388018.8
                        ],
                        "iteration": 333,
                        "passed_time": 5.190479436,
                        "remaining_time": 10.34987816,
                        "test": [
                          41045407.63
                        ]
                      },
                      {
                        "learn": [
                          24379096.3
                        ],
                        "iteration": 334,
                        "passed_time": 5.202350917,
                        "remaining_time": 10.32705481,
                        "test": [
                          41041669.22
                        ]
                      },
                      {
                        "learn": [
                          24365638.31
                        ],
                        "iteration": 335,
                        "passed_time": 5.213446452,
                        "remaining_time": 10.30276323,
                        "test": [
                          41032729.62
                        ]
                      },
                      {
                        "learn": [
                          24336634.4
                        ],
                        "iteration": 336,
                        "passed_time": 5.225052944,
                        "remaining_time": 10.2795552,
                        "test": [
                          41010869.47
                        ]
                      },
                      {
                        "learn": [
                          24332977.55
                        ],
                        "iteration": 337,
                        "passed_time": 5.233997244,
                        "remaining_time": 10.2512017,
                        "test": [
                          41012577.45
                        ]
                      },
                      {
                        "learn": [
                          24309038.58
                        ],
                        "iteration": 338,
                        "passed_time": 5.250220183,
                        "remaining_time": 10.23715499,
                        "test": [
                          40998143.17
                        ]
                      },
                      {
                        "learn": [
                          24288152.95
                        ],
                        "iteration": 339,
                        "passed_time": 5.260988276,
                        "remaining_time": 10.21250665,
                        "test": [
                          40994760.64
                        ]
                      },
                      {
                        "learn": [
                          24240330.53
                        ],
                        "iteration": 340,
                        "passed_time": 5.267935747,
                        "remaining_time": 10.18055618,
                        "test": [
                          40978927.08
                        ]
                      },
                      {
                        "learn": [
                          24225069.71
                        ],
                        "iteration": 341,
                        "passed_time": 5.279100603,
                        "remaining_time": 10.15686607,
                        "test": [
                          40977207.79
                        ]
                      },
                      {
                        "learn": [
                          24218624.55
                        ],
                        "iteration": 342,
                        "passed_time": 5.292019304,
                        "remaining_time": 10.1366084,
                        "test": [
                          40981126.57
                        ]
                      },
                      {
                        "learn": [
                          24202763.32
                        ],
                        "iteration": 343,
                        "passed_time": 5.30260333,
                        "remaining_time": 10.11194123,
                        "test": [
                          40971285.68
                        ]
                      },
                      {
                        "learn": [
                          24167153.13
                        ],
                        "iteration": 344,
                        "passed_time": 5.314110663,
                        "remaining_time": 10.08910865,
                        "test": [
                          40948469.57
                        ]
                      },
                      {
                        "learn": [
                          24145593.31
                        ],
                        "iteration": 345,
                        "passed_time": 5.325304079,
                        "remaining_time": 10.06574817,
                        "test": [
                          40954298.47
                        ]
                      },
                      {
                        "learn": [
                          24142416.41
                        ],
                        "iteration": 346,
                        "passed_time": 5.336299949,
                        "remaining_time": 10.04208607,
                        "test": [
                          40955775.14
                        ]
                      },
                      {
                        "learn": [
                          24090769.5
                        ],
                        "iteration": 347,
                        "passed_time": 5.347178425,
                        "remaining_time": 10.01827682,
                        "test": [
                          40970138.51
                        ]
                      },
                      {
                        "learn": [
                          24059095.09
                        ],
                        "iteration": 348,
                        "passed_time": 5.367562658,
                        "remaining_time": 10.01227304,
                        "test": [
                          40945866.1
                        ]
                      },
                      {
                        "learn": [
                          24031197.29
                        ],
                        "iteration": 349,
                        "passed_time": 5.386179072,
                        "remaining_time": 10.00290399,
                        "test": [
                          40961013.59
                        ]
                      },
                      {
                        "learn": [
                          23991209.45
                        ],
                        "iteration": 350,
                        "passed_time": 5.397902797,
                        "remaining_time": 9.980737651,
                        "test": [
                          40942790.71
                        ]
                      },
                      {
                        "learn": [
                          23976535.77
                        ],
                        "iteration": 351,
                        "passed_time": 5.407177878,
                        "remaining_time": 9.954122912,
                        "test": [
                          40933306.45
                        ]
                      },
                      {
                        "learn": [
                          23975835.84
                        ],
                        "iteration": 352,
                        "passed_time": 5.41567757,
                        "remaining_time": 9.926185235,
                        "test": [
                          40932484.97
                        ]
                      },
                      {
                        "learn": [
                          23950616.52
                        ],
                        "iteration": 353,
                        "passed_time": 5.425755623,
                        "remaining_time": 9.901237662,
                        "test": [
                          40939043.67
                        ]
                      },
                      {
                        "learn": [
                          23915113.45
                        ],
                        "iteration": 354,
                        "passed_time": 5.43742968,
                        "remaining_time": 9.879273645,
                        "test": [
                          40950732.66
                        ]
                      },
                      {
                        "learn": [
                          23902058.28
                        ],
                        "iteration": 355,
                        "passed_time": 5.447507903,
                        "remaining_time": 9.854480588,
                        "test": [
                          40942538.91
                        ]
                      },
                      {
                        "learn": [
                          23879066.67
                        ],
                        "iteration": 356,
                        "passed_time": 5.460561665,
                        "remaining_time": 9.835129274,
                        "test": [
                          40939355.36
                        ]
                      },
                      {
                        "learn": [
                          23861182.05
                        ],
                        "iteration": 357,
                        "passed_time": 5.470620963,
                        "remaining_time": 9.81044318,
                        "test": [
                          40940194.26
                        ]
                      },
                      {
                        "learn": [
                          23857078.04
                        ],
                        "iteration": 358,
                        "passed_time": 5.484230865,
                        "remaining_time": 9.79217823,
                        "test": [
                          40938404.95
                        ]
                      },
                      {
                        "learn": [
                          23825349.44
                        ],
                        "iteration": 359,
                        "passed_time": 5.491176464,
                        "remaining_time": 9.762091492,
                        "test": [
                          40951597.11
                        ]
                      },
                      {
                        "learn": [
                          23815035.04
                        ],
                        "iteration": 360,
                        "passed_time": 5.502759372,
                        "remaining_time": 9.740341381,
                        "test": [
                          40946273.64
                        ]
                      },
                      {
                        "learn": [
                          23805542.28
                        ],
                        "iteration": 361,
                        "passed_time": 5.510531438,
                        "remaining_time": 9.711931098,
                        "test": [
                          40943630.68
                        ]
                      },
                      {
                        "learn": [
                          23782301.71
                        ],
                        "iteration": 362,
                        "passed_time": 5.522658838,
                        "remaining_time": 9.691277355,
                        "test": [
                          40941024.09
                        ]
                      },
                      {
                        "learn": [
                          23767000.58
                        ],
                        "iteration": 363,
                        "passed_time": 5.535350675,
                        "remaining_time": 9.671656673,
                        "test": [
                          40935677.38
                        ]
                      },
                      {
                        "learn": [
                          23760613.07
                        ],
                        "iteration": 364,
                        "passed_time": 5.546656071,
                        "remaining_time": 9.649661932,
                        "test": [
                          40934341.65
                        ]
                      },
                      {
                        "learn": [
                          23714081.19
                        ],
                        "iteration": 365,
                        "passed_time": 5.557816291,
                        "remaining_time": 9.627474122,
                        "test": [
                          40935424.57
                        ]
                      },
                      {
                        "learn": [
                          23700455.14
                        ],
                        "iteration": 366,
                        "passed_time": 5.565130108,
                        "remaining_time": 9.598712148,
                        "test": [
                          40930851.25
                        ]
                      },
                      {
                        "learn": [
                          23675607.3
                        ],
                        "iteration": 367,
                        "passed_time": 5.576344929,
                        "remaining_time": 9.576766291,
                        "test": [
                          40923173.18
                        ]
                      },
                      {
                        "learn": [
                          23643777.95
                        ],
                        "iteration": 368,
                        "passed_time": 5.586383231,
                        "remaining_time": 9.552866717,
                        "test": [
                          40917184.9
                        ]
                      },
                      {
                        "learn": [
                          23634851.75
                        ],
                        "iteration": 369,
                        "passed_time": 5.596841055,
                        "remaining_time": 9.52975639,
                        "test": [
                          40914814.27
                        ]
                      },
                      {
                        "learn": [
                          23623015.56
                        ],
                        "iteration": 370,
                        "passed_time": 5.611148249,
                        "remaining_time": 9.513240562,
                        "test": [
                          40925282.89
                        ]
                      },
                      {
                        "learn": [
                          23605251.31
                        ],
                        "iteration": 371,
                        "passed_time": 5.621458337,
                        "remaining_time": 9.489988805,
                        "test": [
                          40922996.08
                        ]
                      },
                      {
                        "learn": [
                          23588187.33
                        ],
                        "iteration": 372,
                        "passed_time": 5.631218943,
                        "remaining_time": 9.46588278,
                        "test": [
                          40909180.11
                        ]
                      },
                      {
                        "learn": [
                          23575907.48
                        ],
                        "iteration": 373,
                        "passed_time": 5.640361799,
                        "remaining_time": 9.440819481,
                        "test": [
                          40907364.76
                        ]
                      },
                      {
                        "learn": [
                          23556031.45
                        ],
                        "iteration": 374,
                        "passed_time": 5.64921019,
                        "remaining_time": 9.415350316,
                        "test": [
                          40890669.72
                        ]
                      },
                      {
                        "learn": [
                          23542591.34
                        ],
                        "iteration": 375,
                        "passed_time": 5.659814572,
                        "remaining_time": 9.392883758,
                        "test": [
                          40890228.95
                        ]
                      },
                      {
                        "learn": [
                          23525527.95
                        ],
                        "iteration": 376,
                        "passed_time": 5.672172508,
                        "remaining_time": 9.373377911,
                        "test": [
                          40900845.81
                        ]
                      },
                      {
                        "learn": [
                          23520324.01
                        ],
                        "iteration": 377,
                        "passed_time": 5.683368215,
                        "remaining_time": 9.351997433,
                        "test": [
                          40895703.96
                        ]
                      },
                      {
                        "learn": [
                          23503938.16
                        ],
                        "iteration": 378,
                        "passed_time": 5.693400163,
                        "remaining_time": 9.328763855,
                        "test": [
                          40893091.27
                        ]
                      },
                      {
                        "learn": [
                          23481067.55
                        ],
                        "iteration": 379,
                        "passed_time": 5.701260804,
                        "remaining_time": 9.302057101,
                        "test": [
                          40889616.78
                        ]
                      },
                      {
                        "learn": [
                          23472608.37
                        ],
                        "iteration": 380,
                        "passed_time": 5.710261748,
                        "remaining_time": 9.277301895,
                        "test": [
                          40902413.33
                        ]
                      },
                      {
                        "learn": [
                          23422868.3
                        ],
                        "iteration": 381,
                        "passed_time": 5.721808406,
                        "remaining_time": 9.256747631,
                        "test": [
                          40920833.33
                        ]
                      },
                      {
                        "learn": [
                          23400421.4
                        ],
                        "iteration": 382,
                        "passed_time": 5.732328491,
                        "remaining_time": 9.234586629,
                        "test": [
                          40912071.66
                        ]
                      },
                      {
                        "learn": [
                          23399784.37
                        ],
                        "iteration": 383,
                        "passed_time": 5.741944218,
                        "remaining_time": 9.211035516,
                        "test": [
                          40913049.2
                        ]
                      },
                      {
                        "learn": [
                          23399201.5
                        ],
                        "iteration": 384,
                        "passed_time": 5.748603957,
                        "remaining_time": 9.182834893,
                        "test": [
                          40913975.72
                        ]
                      },
                      {
                        "learn": [
                          23393858.98
                        ],
                        "iteration": 385,
                        "passed_time": 5.759961509,
                        "remaining_time": 9.162218566,
                        "test": [
                          40915313.31
                        ]
                      },
                      {
                        "learn": [
                          23353124.85
                        ],
                        "iteration": 386,
                        "passed_time": 5.770693548,
                        "remaining_time": 9.140659289,
                        "test": [
                          40916749.12
                        ]
                      },
                      {
                        "learn": [
                          23342530.97
                        ],
                        "iteration": 387,
                        "passed_time": 5.782774168,
                        "remaining_time": 9.121282966,
                        "test": [
                          40921405.01
                        ]
                      },
                      {
                        "learn": [
                          23333166.61
                        ],
                        "iteration": 388,
                        "passed_time": 5.78951719,
                        "remaining_time": 9.09356042,
                        "test": [
                          40925867.51
                        ]
                      },
                      {
                        "learn": [
                          23315876.19
                        ],
                        "iteration": 389,
                        "passed_time": 5.800932686,
                        "remaining_time": 9.073253689,
                        "test": [
                          40892785.9
                        ]
                      },
                      {
                        "learn": [
                          23313872.43
                        ],
                        "iteration": 390,
                        "passed_time": 5.811782234,
                        "remaining_time": 9.052110947,
                        "test": [
                          40889711.86
                        ]
                      },
                      {
                        "learn": [
                          23277538
                        ],
                        "iteration": 391,
                        "passed_time": 5.824371844,
                        "remaining_time": 9.033719595,
                        "test": [
                          40873774.39
                        ]
                      },
                      {
                        "learn": [
                          23246249.53
                        ],
                        "iteration": 392,
                        "passed_time": 5.834498511,
                        "remaining_time": 9.01155368,
                        "test": [
                          40858614.94
                        ]
                      },
                      {
                        "learn": [
                          23229531.06
                        ],
                        "iteration": 393,
                        "passed_time": 5.845434486,
                        "remaining_time": 8.990693651,
                        "test": [
                          40856482.09
                        ]
                      },
                      {
                        "learn": [
                          23181265.65
                        ],
                        "iteration": 394,
                        "passed_time": 5.852727959,
                        "remaining_time": 8.964304849,
                        "test": [
                          40858453.01
                        ]
                      },
                      {
                        "learn": [
                          23174049.14
                        ],
                        "iteration": 395,
                        "passed_time": 5.863240778,
                        "remaining_time": 8.942922803,
                        "test": [
                          40854702.24
                        ]
                      },
                      {
                        "learn": [
                          23120278.04
                        ],
                        "iteration": 396,
                        "passed_time": 5.87468417,
                        "remaining_time": 8.923008954,
                        "test": [
                          40849048.79
                        ]
                      },
                      {
                        "learn": [
                          23119834.54
                        ],
                        "iteration": 397,
                        "passed_time": 5.883597295,
                        "remaining_time": 8.899310481,
                        "test": [
                          40848956.96
                        ]
                      },
                      {
                        "learn": [
                          23119423.5
                        ],
                        "iteration": 398,
                        "passed_time": 5.888752381,
                        "remaining_time": 8.870025516,
                        "test": [
                          40848862.22
                        ]
                      },
                      {
                        "learn": [
                          23072186.87
                        ],
                        "iteration": 399,
                        "passed_time": 5.897760215,
                        "remaining_time": 8.846640322,
                        "test": [
                          40837461.2
                        ]
                      },
                      {
                        "learn": [
                          23042768.97
                        ],
                        "iteration": 400,
                        "passed_time": 5.909032326,
                        "remaining_time": 8.826709136,
                        "test": [
                          40831905.66
                        ]
                      },
                      {
                        "learn": [
                          23031631.77
                        ],
                        "iteration": 401,
                        "passed_time": 5.918249304,
                        "remaining_time": 8.80376389,
                        "test": [
                          40828743.23
                        ]
                      },
                      {
                        "learn": [
                          23002084.65
                        ],
                        "iteration": 402,
                        "passed_time": 5.928782091,
                        "remaining_time": 8.782836001,
                        "test": [
                          40825901.54
                        ]
                      },
                      {
                        "learn": [
                          22991373.23
                        ],
                        "iteration": 403,
                        "passed_time": 5.941573606,
                        "remaining_time": 8.765291756,
                        "test": [
                          40818813.29
                        ]
                      },
                      {
                        "learn": [
                          22960213.23
                        ],
                        "iteration": 404,
                        "passed_time": 5.955343627,
                        "remaining_time": 8.749208538,
                        "test": [
                          40823420.28
                        ]
                      },
                      {
                        "learn": [
                          22941967.08
                        ],
                        "iteration": 405,
                        "passed_time": 5.966604343,
                        "remaining_time": 8.729465467,
                        "test": [
                          40820003.18
                        ]
                      },
                      {
                        "learn": [
                          22934836.68
                        ],
                        "iteration": 406,
                        "passed_time": 6.002869149,
                        "remaining_time": 8.7461951,
                        "test": [
                          40818411.31
                        ]
                      },
                      {
                        "learn": [
                          22891852.31
                        ],
                        "iteration": 407,
                        "passed_time": 6.020807588,
                        "remaining_time": 8.736073755,
                        "test": [
                          40813591.86
                        ]
                      },
                      {
                        "learn": [
                          22849215.14
                        ],
                        "iteration": 408,
                        "passed_time": 6.027930674,
                        "remaining_time": 8.710286132,
                        "test": [
                          40794812.1
                        ]
                      },
                      {
                        "learn": [
                          22845177.3
                        ],
                        "iteration": 409,
                        "passed_time": 6.037182667,
                        "remaining_time": 8.687653106,
                        "test": [
                          40796079.64
                        ]
                      },
                      {
                        "learn": [
                          22840631.56
                        ],
                        "iteration": 410,
                        "passed_time": 6.047656891,
                        "remaining_time": 8.666836761,
                        "test": [
                          40800195.96
                        ]
                      },
                      {
                        "learn": [
                          22810854
                        ],
                        "iteration": 411,
                        "passed_time": 6.059018113,
                        "remaining_time": 8.64733653,
                        "test": [
                          40788491.03
                        ]
                      },
                      {
                        "learn": [
                          22784058.03
                        ],
                        "iteration": 412,
                        "passed_time": 6.070465838,
                        "remaining_time": 8.627998661,
                        "test": [
                          40797312.88
                        ]
                      },
                      {
                        "learn": [
                          22750929.94
                        ],
                        "iteration": 413,
                        "passed_time": 6.080549372,
                        "remaining_time": 8.606767951,
                        "test": [
                          40787252
                        ]
                      },
                      {
                        "learn": [
                          22730894.68
                        ],
                        "iteration": 414,
                        "passed_time": 6.092740094,
                        "remaining_time": 8.588561337,
                        "test": [
                          40770027.09
                        ]
                      },
                      {
                        "learn": [
                          22691633.22
                        ],
                        "iteration": 415,
                        "passed_time": 6.10362521,
                        "remaining_time": 8.568550775,
                        "test": [
                          40754870.95
                        ]
                      },
                      {
                        "learn": [
                          22663284.67
                        ],
                        "iteration": 416,
                        "passed_time": 6.115304967,
                        "remaining_time": 8.549694953,
                        "test": [
                          40723648.99
                        ]
                      },
                      {
                        "learn": [
                          22639719.92
                        ],
                        "iteration": 417,
                        "passed_time": 6.126759956,
                        "remaining_time": 8.530560513,
                        "test": [
                          40709684.46
                        ]
                      },
                      {
                        "learn": [
                          22631822.48
                        ],
                        "iteration": 418,
                        "passed_time": 6.135870658,
                        "remaining_time": 8.508212059,
                        "test": [
                          40708752.25
                        ]
                      },
                      {
                        "learn": [
                          22617699.69
                        ],
                        "iteration": 419,
                        "passed_time": 6.145477318,
                        "remaining_time": 8.486611535,
                        "test": [
                          40703308.14
                        ]
                      },
                      {
                        "learn": [
                          22595632.58
                        ],
                        "iteration": 420,
                        "passed_time": 6.155898634,
                        "remaining_time": 8.466188383,
                        "test": [
                          40694747.57
                        ]
                      },
                      {
                        "learn": [
                          22575022.71
                        ],
                        "iteration": 421,
                        "passed_time": 6.167933224,
                        "remaining_time": 8.448022283,
                        "test": [
                          40685462.78
                        ]
                      },
                      {
                        "learn": [
                          22569798.5
                        ],
                        "iteration": 422,
                        "passed_time": 6.177926334,
                        "remaining_time": 8.427100461,
                        "test": [
                          40679973.41
                        ]
                      },
                      {
                        "learn": [
                          22540616.15
                        ],
                        "iteration": 423,
                        "passed_time": 6.188825923,
                        "remaining_time": 8.407461631,
                        "test": [
                          40664285.65
                        ]
                      },
                      {
                        "learn": [
                          22521681.25
                        ],
                        "iteration": 424,
                        "passed_time": 6.197639195,
                        "remaining_time": 8.385041264,
                        "test": [
                          40663397.4
                        ]
                      },
                      {
                        "learn": [
                          22514654.14
                        ],
                        "iteration": 425,
                        "passed_time": 6.208708929,
                        "remaining_time": 8.365725177,
                        "test": [
                          40665596.43
                        ]
                      },
                      {
                        "learn": [
                          22493824.33
                        ],
                        "iteration": 426,
                        "passed_time": 6.216859743,
                        "remaining_time": 8.342530755,
                        "test": [
                          40657924.31
                        ]
                      },
                      {
                        "learn": [
                          22483485.56
                        ],
                        "iteration": 427,
                        "passed_time": 6.226976176,
                        "remaining_time": 8.322033581,
                        "test": [
                          40650888.04
                        ]
                      },
                      {
                        "learn": [
                          22474452.67
                        ],
                        "iteration": 428,
                        "passed_time": 6.23813971,
                        "remaining_time": 8.302978495,
                        "test": [
                          40648323.11
                        ]
                      },
                      {
                        "learn": [
                          22465428.9
                        ],
                        "iteration": 429,
                        "passed_time": 6.246432593,
                        "remaining_time": 8.280154833,
                        "test": [
                          40647668.16
                        ]
                      },
                      {
                        "learn": [
                          22452455.03
                        ],
                        "iteration": 430,
                        "passed_time": 6.256973558,
                        "remaining_time": 8.260366484,
                        "test": [
                          40657951.07
                        ]
                      },
                      {
                        "learn": [
                          22411470.51
                        ],
                        "iteration": 431,
                        "passed_time": 6.269733183,
                        "remaining_time": 8.243538075,
                        "test": [
                          40659401.6
                        ]
                      },
                      {
                        "learn": [
                          22390219.36
                        ],
                        "iteration": 432,
                        "passed_time": 6.280832677,
                        "remaining_time": 8.224554568,
                        "test": [
                          40666378.58
                        ]
                      },
                      {
                        "learn": [
                          22352849.41
                        ],
                        "iteration": 433,
                        "passed_time": 6.29119867,
                        "remaining_time": 8.2046508,
                        "test": [
                          40662147.75
                        ]
                      },
                      {
                        "learn": [
                          22351655.61
                        ],
                        "iteration": 434,
                        "passed_time": 6.303847829,
                        "remaining_time": 8.187756375,
                        "test": [
                          40661000.77
                        ]
                      },
                      {
                        "learn": [
                          22321813.11
                        ],
                        "iteration": 435,
                        "passed_time": 6.315118677,
                        "remaining_time": 8.169098472,
                        "test": [
                          40651240.18
                        ]
                      },
                      {
                        "learn": [
                          22291644.37
                        ],
                        "iteration": 436,
                        "passed_time": 6.330175135,
                        "remaining_time": 8.155351489,
                        "test": [
                          40629604.65
                        ]
                      },
                      {
                        "learn": [
                          22277023.75
                        ],
                        "iteration": 437,
                        "passed_time": 6.341092369,
                        "remaining_time": 8.136287469,
                        "test": [
                          40642438.66
                        ]
                      },
                      {
                        "learn": [
                          22253549.21
                        ],
                        "iteration": 438,
                        "passed_time": 6.352818984,
                        "remaining_time": 8.118294874,
                        "test": [
                          40647164.29
                        ]
                      },
                      {
                        "learn": [
                          22229467.66
                        ],
                        "iteration": 439,
                        "passed_time": 6.362933046,
                        "remaining_time": 8.098278422,
                        "test": [
                          40648329.72
                        ]
                      },
                      {
                        "learn": [
                          22200599.53
                        ],
                        "iteration": 440,
                        "passed_time": 6.380088341,
                        "remaining_time": 8.08723216,
                        "test": [
                          40632716.64
                        ]
                      },
                      {
                        "learn": [
                          22192506.85
                        ],
                        "iteration": 441,
                        "passed_time": 6.399859441,
                        "remaining_time": 8.079460562,
                        "test": [
                          40630286.45
                        ]
                      },
                      {
                        "learn": [
                          22169656.73
                        ],
                        "iteration": 442,
                        "passed_time": 6.410991905,
                        "remaining_time": 8.060773117,
                        "test": [
                          40627246.18
                        ]
                      },
                      {
                        "learn": [
                          22157390.29
                        ],
                        "iteration": 443,
                        "passed_time": 6.422332147,
                        "remaining_time": 8.042379896,
                        "test": [
                          40623961.72
                        ]
                      },
                      {
                        "learn": [
                          22128911.46
                        ],
                        "iteration": 444,
                        "passed_time": 6.433834816,
                        "remaining_time": 8.02422095,
                        "test": [
                          40615130.99
                        ]
                      },
                      {
                        "learn": [
                          22114251.02
                        ],
                        "iteration": 445,
                        "passed_time": 6.445483386,
                        "remaining_time": 8.006273085,
                        "test": [
                          40607025.62
                        ]
                      },
                      {
                        "learn": [
                          22088179.55
                        ],
                        "iteration": 446,
                        "passed_time": 6.457240703,
                        "remaining_time": 7.988487939,
                        "test": [
                          40618910.9
                        ]
                      },
                      {
                        "learn": [
                          22087002.6
                        ],
                        "iteration": 447,
                        "passed_time": 6.467210061,
                        "remaining_time": 7.968526682,
                        "test": [
                          40619157.12
                        ]
                      },
                      {
                        "learn": [
                          22080379.82
                        ],
                        "iteration": 448,
                        "passed_time": 6.478546434,
                        "remaining_time": 7.950287495,
                        "test": [
                          40618266.73
                        ]
                      },
                      {
                        "learn": [
                          22079327.92
                        ],
                        "iteration": 449,
                        "passed_time": 6.487057035,
                        "remaining_time": 7.928625265,
                        "test": [
                          40618599.53
                        ]
                      },
                      {
                        "learn": [
                          22078339.85
                        ],
                        "iteration": 450,
                        "passed_time": 6.494166917,
                        "remaining_time": 7.905316269,
                        "test": [
                          40618918.75
                        ]
                      },
                      {
                        "learn": [
                          22072190.62
                        ],
                        "iteration": 451,
                        "passed_time": 6.50540869,
                        "remaining_time": 7.887088412,
                        "test": [
                          40618205.38
                        ]
                      },
                      {
                        "learn": [
                          22071705.62
                        ],
                        "iteration": 452,
                        "passed_time": 6.51411123,
                        "remaining_time": 7.865825261,
                        "test": [
                          40617520.82
                        ]
                      },
                      {
                        "learn": [
                          22060757.82
                        ],
                        "iteration": 453,
                        "passed_time": 6.528695879,
                        "remaining_time": 7.85169152,
                        "test": [
                          40615982.26
                        ]
                      },
                      {
                        "learn": [
                          22045966.29
                        ],
                        "iteration": 454,
                        "passed_time": 6.540309613,
                        "remaining_time": 7.833997228,
                        "test": [
                          40611594.3
                        ]
                      },
                      {
                        "learn": [
                          22033142.42
                        ],
                        "iteration": 455,
                        "passed_time": 6.550806892,
                        "remaining_time": 7.814997695,
                        "test": [
                          40603486.1
                        ]
                      },
                      {
                        "learn": [
                          22032925.9
                        ],
                        "iteration": 456,
                        "passed_time": 6.559252365,
                        "remaining_time": 7.793597449,
                        "test": [
                          40603456.34
                        ]
                      },
                      {
                        "learn": [
                          22016053.37
                        ],
                        "iteration": 457,
                        "passed_time": 6.569046739,
                        "remaining_time": 7.773850071,
                        "test": [
                          40597496.54
                        ]
                      },
                      {
                        "learn": [
                          21973799.89
                        ],
                        "iteration": 458,
                        "passed_time": 6.580471551,
                        "remaining_time": 7.756067775,
                        "test": [
                          40582713.8
                        ]
                      },
                      {
                        "learn": [
                          21972060.43
                        ],
                        "iteration": 459,
                        "passed_time": 6.595975478,
                        "remaining_time": 7.743101648,
                        "test": [
                          40570815.39
                        ]
                      },
                      {
                        "learn": [
                          21954574.57
                        ],
                        "iteration": 460,
                        "passed_time": 6.607425503,
                        "remaining_time": 7.725384699,
                        "test": [
                          40573242.45
                        ]
                      },
                      {
                        "learn": [
                          21945331.04
                        ],
                        "iteration": 461,
                        "passed_time": 6.619028395,
                        "remaining_time": 7.707872893,
                        "test": [
                          40573758.79
                        ]
                      },
                      {
                        "learn": [
                          21934014.75
                        ],
                        "iteration": 462,
                        "passed_time": 6.629704677,
                        "remaining_time": 7.689311904,
                        "test": [
                          40567811.02
                        ]
                      },
                      {
                        "learn": [
                          21921449.37
                        ],
                        "iteration": 463,
                        "passed_time": 6.641017511,
                        "remaining_time": 7.671520229,
                        "test": [
                          40568403.71
                        ]
                      },
                      {
                        "learn": [
                          21912350.08
                        ],
                        "iteration": 464,
                        "passed_time": 6.652057855,
                        "remaining_time": 7.653442908,
                        "test": [
                          40564430.67
                        ]
                      },
                      {
                        "learn": [
                          21900976.82
                        ],
                        "iteration": 465,
                        "passed_time": 6.662114065,
                        "remaining_time": 7.634268049,
                        "test": [
                          40558195.56
                        ]
                      },
                      {
                        "learn": [
                          21880504.29
                        ],
                        "iteration": 466,
                        "passed_time": 6.673546119,
                        "remaining_time": 7.61670253,
                        "test": [
                          40556788.65
                        ]
                      },
                      {
                        "learn": [
                          21847021.28
                        ],
                        "iteration": 467,
                        "passed_time": 6.684652023,
                        "remaining_time": 7.59879247,
                        "test": [
                          40535713.96
                        ]
                      },
                      {
                        "learn": [
                          21846740.14
                        ],
                        "iteration": 468,
                        "passed_time": 6.693601426,
                        "remaining_time": 7.578469845,
                        "test": [
                          40535305.57
                        ]
                      },
                      {
                        "learn": [
                          21818192.68
                        ],
                        "iteration": 469,
                        "passed_time": 6.705366364,
                        "remaining_time": 7.561370581,
                        "test": [
                          40524032.77
                        ]
                      },
                      {
                        "learn": [
                          21802551.26
                        ],
                        "iteration": 470,
                        "passed_time": 6.717098601,
                        "remaining_time": 7.544257239,
                        "test": [
                          40521988.2
                        ]
                      },
                      {
                        "learn": [
                          21783859.63
                        ],
                        "iteration": 471,
                        "passed_time": 6.724056978,
                        "remaining_time": 7.52182645,
                        "test": [
                          40521569.82
                        ]
                      },
                      {
                        "learn": [
                          21753660.58
                        ],
                        "iteration": 472,
                        "passed_time": 6.735362545,
                        "remaining_time": 7.504304569,
                        "test": [
                          40512662.29
                        ]
                      },
                      {
                        "learn": [
                          21742004.71
                        ],
                        "iteration": 473,
                        "passed_time": 6.744379144,
                        "remaining_time": 7.484268839,
                        "test": [
                          40504149.06
                        ]
                      },
                      {
                        "learn": [
                          21730115.06
                        ],
                        "iteration": 474,
                        "passed_time": 6.754666114,
                        "remaining_time": 7.4656836,
                        "test": [
                          40520436.4
                        ]
                      },
                      {
                        "learn": [
                          21706308.41
                        ],
                        "iteration": 475,
                        "passed_time": 6.762876444,
                        "remaining_time": 7.444847178,
                        "test": [
                          40506726.98
                        ]
                      },
                      {
                        "learn": [
                          21706014.51
                        ],
                        "iteration": 476,
                        "passed_time": 6.768334844,
                        "remaining_time": 7.42104638,
                        "test": [
                          40506804.84
                        ]
                      },
                      {
                        "learn": [
                          21685303.44
                        ],
                        "iteration": 477,
                        "passed_time": 6.778902973,
                        "remaining_time": 7.40290241,
                        "test": [
                          40497962.89
                        ]
                      },
                      {
                        "learn": [
                          21676709.37
                        ],
                        "iteration": 478,
                        "passed_time": 6.791594746,
                        "remaining_time": 7.387099922,
                        "test": [
                          40494724.67
                        ]
                      },
                      {
                        "learn": [
                          21669296.87
                        ],
                        "iteration": 479,
                        "passed_time": 6.802933792,
                        "remaining_time": 7.369844942,
                        "test": [
                          40499255.75
                        ]
                      },
                      {
                        "learn": [
                          21636872.94
                        ],
                        "iteration": 480,
                        "passed_time": 6.81411341,
                        "remaining_time": 7.352442536,
                        "test": [
                          40470965.98
                        ]
                      },
                      {
                        "learn": [
                          21627271.06
                        ],
                        "iteration": 481,
                        "passed_time": 6.825392716,
                        "remaining_time": 7.335173084,
                        "test": [
                          40489955.95
                        ]
                      },
                      {
                        "learn": [
                          21627007.73
                        ],
                        "iteration": 482,
                        "passed_time": 6.831319002,
                        "remaining_time": 7.312198601,
                        "test": [
                          40489767.15
                        ]
                      },
                      {
                        "learn": [
                          21610446.66
                        ],
                        "iteration": 483,
                        "passed_time": 6.843133017,
                        "remaining_time": 7.295571564,
                        "test": [
                          40487701.97
                        ]
                      },
                      {
                        "learn": [
                          21602172.06
                        ],
                        "iteration": 484,
                        "passed_time": 6.854868047,
                        "remaining_time": 7.278880503,
                        "test": [
                          40487035.64
                        ]
                      },
                      {
                        "learn": [
                          21581833.7
                        ],
                        "iteration": 485,
                        "passed_time": 6.864469396,
                        "remaining_time": 7.25995323,
                        "test": [
                          40492405.28
                        ]
                      },
                      {
                        "learn": [
                          21561992.61
                        ],
                        "iteration": 486,
                        "passed_time": 6.874426517,
                        "remaining_time": 7.241439021,
                        "test": [
                          40499195.04
                        ]
                      },
                      {
                        "learn": [
                          21554130.26
                        ],
                        "iteration": 487,
                        "passed_time": 6.885130266,
                        "remaining_time": 7.22374323,
                        "test": [
                          40496061.26
                        ]
                      },
                      {
                        "learn": [
                          21550773.06
                        ],
                        "iteration": 488,
                        "passed_time": 6.895742551,
                        "remaining_time": 7.205980457,
                        "test": [
                          40487932.99
                        ]
                      },
                      {
                        "learn": [
                          21543195.36
                        ],
                        "iteration": 489,
                        "passed_time": 6.905359815,
                        "remaining_time": 7.187211236,
                        "test": [
                          40491021.94
                        ]
                      },
                      {
                        "learn": [
                          21516207.8
                        ],
                        "iteration": 490,
                        "passed_time": 6.916815805,
                        "remaining_time": 7.170385428,
                        "test": [
                          40489504.21
                        ]
                      },
                      {
                        "learn": [
                          21509927.67
                        ],
                        "iteration": 491,
                        "passed_time": 6.932794884,
                        "remaining_time": 7.158251628,
                        "test": [
                          40488391.98
                        ]
                      },
                      {
                        "learn": [
                          21509698.58
                        ],
                        "iteration": 492,
                        "passed_time": 6.940589887,
                        "remaining_time": 7.137685746,
                        "test": [
                          40488045.64
                        ]
                      },
                      {
                        "learn": [
                          21494775.66
                        ],
                        "iteration": 493,
                        "passed_time": 6.954343553,
                        "remaining_time": 7.123274975,
                        "test": [
                          40470318.49
                        ]
                      },
                      {
                        "learn": [
                          21479948.84
                        ],
                        "iteration": 494,
                        "passed_time": 6.964593612,
                        "remaining_time": 7.105292472,
                        "test": [
                          40467083.71
                        ]
                      },
                      {
                        "learn": [
                          21475542.3
                        ],
                        "iteration": 495,
                        "passed_time": 6.995058797,
                        "remaining_time": 7.107882326,
                        "test": [
                          40466087.15
                        ]
                      },
                      {
                        "learn": [
                          21471575.34
                        ],
                        "iteration": 496,
                        "passed_time": 7.01116286,
                        "remaining_time": 7.095804665,
                        "test": [
                          40465252.89
                        ]
                      },
                      {
                        "learn": [
                          21465207.62
                        ],
                        "iteration": 497,
                        "passed_time": 7.028582714,
                        "remaining_time": 7.085037194,
                        "test": [
                          40472621.13
                        ]
                      },
                      {
                        "learn": [
                          21444035.21
                        ],
                        "iteration": 498,
                        "passed_time": 7.038145696,
                        "remaining_time": 7.066354697,
                        "test": [
                          40478709.61
                        ]
                      },
                      {
                        "learn": [
                          21436021.94
                        ],
                        "iteration": 499,
                        "passed_time": 7.045921276,
                        "remaining_time": 7.045921276,
                        "test": [
                          40485777.87
                        ]
                      },
                      {
                        "learn": [
                          21420033.99
                        ],
                        "iteration": 500,
                        "passed_time": 7.055798331,
                        "remaining_time": 7.027631471,
                        "test": [
                          40481658.81
                        ]
                      },
                      {
                        "learn": [
                          21397330.88
                        ],
                        "iteration": 501,
                        "passed_time": 7.067690523,
                        "remaining_time": 7.011374264,
                        "test": [
                          40468966.12
                        ]
                      },
                      {
                        "learn": [
                          21379706.4
                        ],
                        "iteration": 502,
                        "passed_time": 7.077617271,
                        "remaining_time": 6.993192413,
                        "test": [
                          40466640.72
                        ]
                      },
                      {
                        "learn": [
                          21370263.19
                        ],
                        "iteration": 503,
                        "passed_time": 7.088039121,
                        "remaining_time": 6.975530564,
                        "test": [
                          40467382.8
                        ]
                      },
                      {
                        "learn": [
                          21332729.35
                        ],
                        "iteration": 504,
                        "passed_time": 7.099448663,
                        "remaining_time": 6.958865521,
                        "test": [
                          40472010.41
                        ]
                      },
                      {
                        "learn": [
                          21326962.91
                        ],
                        "iteration": 505,
                        "passed_time": 7.109574886,
                        "remaining_time": 6.940968367,
                        "test": [
                          40471943.3
                        ]
                      },
                      {
                        "learn": [
                          21301912.12
                        ],
                        "iteration": 506,
                        "passed_time": 7.120278679,
                        "remaining_time": 6.923663489,
                        "test": [
                          40461392.65
                        ]
                      },
                      {
                        "learn": [
                          21292467.61
                        ],
                        "iteration": 507,
                        "passed_time": 7.131863409,
                        "remaining_time": 6.90723779,
                        "test": [
                          40455058.93
                        ]
                      },
                      {
                        "learn": [
                          21267868.39
                        ],
                        "iteration": 508,
                        "passed_time": 7.143139502,
                        "remaining_time": 6.89053339,
                        "test": [
                          40453227.62
                        ]
                      },
                      {
                        "learn": [
                          21250542.46
                        ],
                        "iteration": 509,
                        "passed_time": 7.14990799,
                        "remaining_time": 6.869519441,
                        "test": [
                          40449946.3
                        ]
                      },
                      {
                        "learn": [
                          21235616.51
                        ],
                        "iteration": 510,
                        "passed_time": 7.162828389,
                        "remaining_time": 6.854448302,
                        "test": [
                          40452799.18
                        ]
                      },
                      {
                        "learn": [
                          21221923.63
                        ],
                        "iteration": 511,
                        "passed_time": 7.173946501,
                        "remaining_time": 6.837667759,
                        "test": [
                          40453519.74
                        ]
                      },
                      {
                        "learn": [
                          21199333.84
                        ],
                        "iteration": 512,
                        "passed_time": 7.185821548,
                        "remaining_time": 6.821627863,
                        "test": [
                          40446344.97
                        ]
                      },
                      {
                        "learn": [
                          21189020.93
                        ],
                        "iteration": 513,
                        "passed_time": 7.197045143,
                        "remaining_time": 6.804988209,
                        "test": [
                          40442777.36
                        ]
                      },
                      {
                        "learn": [
                          21179792.23
                        ],
                        "iteration": 514,
                        "passed_time": 7.206406976,
                        "remaining_time": 6.786616278,
                        "test": [
                          40439039.15
                        ]
                      },
                      {
                        "learn": [
                          21156081.78
                        ],
                        "iteration": 515,
                        "passed_time": 7.216619042,
                        "remaining_time": 6.769076776,
                        "test": [
                          40438218.82
                        ]
                      },
                      {
                        "learn": [
                          21122281.59
                        ],
                        "iteration": 516,
                        "passed_time": 7.227504173,
                        "remaining_time": 6.75219442,
                        "test": [
                          40429376.65
                        ]
                      },
                      {
                        "learn": [
                          21114933
                        ],
                        "iteration": 517,
                        "passed_time": 7.240249556,
                        "remaining_time": 6.737066189,
                        "test": [
                          40418803.04
                        ]
                      },
                      {
                        "learn": [
                          21106234.19
                        ],
                        "iteration": 518,
                        "passed_time": 7.251127295,
                        "remaining_time": 6.72021624,
                        "test": [
                          40435579.57
                        ]
                      },
                      {
                        "learn": [
                          21104235.56
                        ],
                        "iteration": 519,
                        "passed_time": 7.260038602,
                        "remaining_time": 6.701574094,
                        "test": [
                          40435332.28
                        ]
                      },
                      {
                        "learn": [
                          21064110.08
                        ],
                        "iteration": 520,
                        "passed_time": 7.271520136,
                        "remaining_time": 6.685332332,
                        "test": [
                          40427168.39
                        ]
                      },
                      {
                        "learn": [
                          21057298.05
                        ],
                        "iteration": 521,
                        "passed_time": 7.283743862,
                        "remaining_time": 6.669788441,
                        "test": [
                          40442300.33
                        ]
                      },
                      {
                        "learn": [
                          21037295.11
                        ],
                        "iteration": 522,
                        "passed_time": 7.293784958,
                        "remaining_time": 6.652266587,
                        "test": [
                          40447558.84
                        ]
                      },
                      {
                        "learn": [
                          21020940.49
                        ],
                        "iteration": 523,
                        "passed_time": 7.303880951,
                        "remaining_time": 6.634823154,
                        "test": [
                          40447829.87
                        ]
                      },
                      {
                        "learn": [
                          21006482.08
                        ],
                        "iteration": 524,
                        "passed_time": 7.313443303,
                        "remaining_time": 6.616924893,
                        "test": [
                          40438515.49
                        ]
                      },
                      {
                        "learn": [
                          21004655.11
                        ],
                        "iteration": 525,
                        "passed_time": 7.32095858,
                        "remaining_time": 6.597213626,
                        "test": [
                          40437212.63
                        ]
                      },
                      {
                        "learn": [
                          21002497.59
                        ],
                        "iteration": 526,
                        "passed_time": 7.327554458,
                        "remaining_time": 6.576723451,
                        "test": [
                          40437251.06
                        ]
                      },
                      {
                        "learn": [
                          20998100.83
                        ],
                        "iteration": 527,
                        "passed_time": 7.334848255,
                        "remaining_time": 6.556909803,
                        "test": [
                          40435874.24
                        ]
                      },
                      {
                        "learn": [
                          20978802.92
                        ],
                        "iteration": 528,
                        "passed_time": 7.34685765,
                        "remaining_time": 6.541342066,
                        "test": [
                          40428090.52
                        ]
                      },
                      {
                        "learn": [
                          20952286.44
                        ],
                        "iteration": 529,
                        "passed_time": 7.357763355,
                        "remaining_time": 6.524809013,
                        "test": [
                          40421940.02
                        ]
                      },
                      {
                        "learn": [
                          20940402.72
                        ],
                        "iteration": 530,
                        "passed_time": 7.368363593,
                        "remaining_time": 6.508027354,
                        "test": [
                          40419607.26
                        ]
                      },
                      {
                        "learn": [
                          20934290.35
                        ],
                        "iteration": 531,
                        "passed_time": 7.382287195,
                        "remaining_time": 6.494192495,
                        "test": [
                          40408904.94
                        ]
                      },
                      {
                        "learn": [
                          20924138.22
                        ],
                        "iteration": 532,
                        "passed_time": 7.394326192,
                        "remaining_time": 6.478706063,
                        "test": [
                          40401427.23
                        ]
                      },
                      {
                        "learn": [
                          20902032.14
                        ],
                        "iteration": 533,
                        "passed_time": 7.408250349,
                        "remaining_time": 6.464877645,
                        "test": [
                          40392984.19
                        ]
                      },
                      {
                        "learn": [
                          20885816.73
                        ],
                        "iteration": 534,
                        "passed_time": 7.417766773,
                        "remaining_time": 6.447217849,
                        "test": [
                          40397021.53
                        ]
                      },
                      {
                        "learn": [
                          20871164.69
                        ],
                        "iteration": 535,
                        "passed_time": 7.424729609,
                        "remaining_time": 6.427377871,
                        "test": [
                          40397092.26
                        ]
                      },
                      {
                        "learn": [
                          20853035.33
                        ],
                        "iteration": 536,
                        "passed_time": 7.43574295,
                        "remaining_time": 6.411078186,
                        "test": [
                          40398468.52
                        ]
                      },
                      {
                        "learn": [
                          20843228.76
                        ],
                        "iteration": 537,
                        "passed_time": 7.445693743,
                        "remaining_time": 6.393885705,
                        "test": [
                          40396370.42
                        ]
                      },
                      {
                        "learn": [
                          20815500.61
                        ],
                        "iteration": 538,
                        "passed_time": 7.456870476,
                        "remaining_time": 6.377768626,
                        "test": [
                          40408556.76
                        ]
                      },
                      {
                        "learn": [
                          20802674.53
                        ],
                        "iteration": 539,
                        "passed_time": 7.470432184,
                        "remaining_time": 6.36370149,
                        "test": [
                          40404064.72
                        ]
                      },
                      {
                        "learn": [
                          20786502.84
                        ],
                        "iteration": 540,
                        "passed_time": 7.482107699,
                        "remaining_time": 6.348035922,
                        "test": [
                          40397682.19
                        ]
                      },
                      {
                        "learn": [
                          20743928.78
                        ],
                        "iteration": 541,
                        "passed_time": 7.493208206,
                        "remaining_time": 6.331899185,
                        "test": [
                          40386130.87
                        ]
                      },
                      {
                        "learn": [
                          20727019.08
                        ],
                        "iteration": 542,
                        "passed_time": 7.504193179,
                        "remaining_time": 6.315683762,
                        "test": [
                          40383193.56
                        ]
                      },
                      {
                        "learn": [
                          20717092.17
                        ],
                        "iteration": 543,
                        "passed_time": 7.515352131,
                        "remaining_time": 6.299633404,
                        "test": [
                          40382409.5
                        ]
                      },
                      {
                        "learn": [
                          20697231.85
                        ],
                        "iteration": 544,
                        "passed_time": 7.525987444,
                        "remaining_time": 6.283163829,
                        "test": [
                          40386816.23
                        ]
                      },
                      {
                        "learn": [
                          20678789.19
                        ],
                        "iteration": 545,
                        "passed_time": 7.537510359,
                        "remaining_time": 6.267453668,
                        "test": [
                          40376900.6
                        ]
                      },
                      {
                        "learn": [
                          20656431.49
                        ],
                        "iteration": 546,
                        "passed_time": 7.548899772,
                        "remaining_time": 6.251648257,
                        "test": [
                          40371409.92
                        ]
                      },
                      {
                        "learn": [
                          20653102.31
                        ],
                        "iteration": 547,
                        "passed_time": 7.556655047,
                        "remaining_time": 6.232861462,
                        "test": [
                          40380633.6
                        ]
                      },
                      {
                        "learn": [
                          20651196.84
                        ],
                        "iteration": 548,
                        "passed_time": 7.56330637,
                        "remaining_time": 6.213207965,
                        "test": [
                          40380586.86
                        ]
                      },
                      {
                        "learn": [
                          20636402.76
                        ],
                        "iteration": 549,
                        "passed_time": 7.575455773,
                        "remaining_time": 6.198100178,
                        "test": [
                          40380428.13
                        ]
                      },
                      {
                        "learn": [
                          20628478.16
                        ],
                        "iteration": 550,
                        "passed_time": 7.586952114,
                        "remaining_time": 6.18247096,
                        "test": [
                          40380082.8
                        ]
                      },
                      {
                        "learn": [
                          20627126.84
                        ],
                        "iteration": 551,
                        "passed_time": 7.594359649,
                        "remaining_time": 6.163538266,
                        "test": [
                          40380093.32
                        ]
                      },
                      {
                        "learn": [
                          20618140.6
                        ],
                        "iteration": 552,
                        "passed_time": 7.605785599,
                        "remaining_time": 6.147895411,
                        "test": [
                          40370064.92
                        ]
                      },
                      {
                        "learn": [
                          20616925.57
                        ],
                        "iteration": 553,
                        "passed_time": 7.612667863,
                        "remaining_time": 6.128609868,
                        "test": [
                          40368911.68
                        ]
                      },
                      {
                        "learn": [
                          20563680.77
                        ],
                        "iteration": 554,
                        "passed_time": 7.624485698,
                        "remaining_time": 6.113326371,
                        "test": [
                          40379259.08
                        ]
                      },
                      {
                        "learn": [
                          20542532.02
                        ],
                        "iteration": 555,
                        "passed_time": 7.636429529,
                        "remaining_time": 6.098155955,
                        "test": [
                          40382649.47
                        ]
                      },
                      {
                        "learn": [
                          20537198.34
                        ],
                        "iteration": 556,
                        "passed_time": 7.643859795,
                        "remaining_time": 6.079407342,
                        "test": [
                          40375353.81
                        ]
                      },
                      {
                        "learn": [
                          20517248.41
                        ],
                        "iteration": 557,
                        "passed_time": 7.654191326,
                        "remaining_time": 6.062997431,
                        "test": [
                          40364945.24
                        ]
                      },
                      {
                        "learn": [
                          20509453.48
                        ],
                        "iteration": 558,
                        "passed_time": 7.661408193,
                        "remaining_time": 6.044152081,
                        "test": [
                          40356511.51
                        ]
                      },
                      {
                        "learn": [
                          20480895.21
                        ],
                        "iteration": 559,
                        "passed_time": 7.673060701,
                        "remaining_time": 6.028833408,
                        "test": [
                          40355030.37
                        ]
                      },
                      {
                        "learn": [
                          20456138.27
                        ],
                        "iteration": 560,
                        "passed_time": 7.684162217,
                        "remaining_time": 6.013096637,
                        "test": [
                          40367279.71
                        ]
                      },
                      {
                        "learn": [
                          20430189.57
                        ],
                        "iteration": 561,
                        "passed_time": 7.69579191,
                        "remaining_time": 5.997788001,
                        "test": [
                          40359376.9
                        ]
                      },
                      {
                        "learn": [
                          20416831.21
                        ],
                        "iteration": 562,
                        "passed_time": 7.707199163,
                        "remaining_time": 5.982319777,
                        "test": [
                          40359108.28
                        ]
                      },
                      {
                        "learn": [
                          20415737.11
                        ],
                        "iteration": 563,
                        "passed_time": 7.714354477,
                        "remaining_time": 5.963578993,
                        "test": [
                          40359289.85
                        ]
                      },
                      {
                        "learn": [
                          20413448.29
                        ],
                        "iteration": 564,
                        "passed_time": 7.72113912,
                        "remaining_time": 5.944593836,
                        "test": [
                          40355824.74
                        ]
                      },
                      {
                        "learn": [
                          20410353.21
                        ],
                        "iteration": 565,
                        "passed_time": 7.727914692,
                        "remaining_time": 5.925644834,
                        "test": [
                          40355727.51
                        ]
                      },
                      {
                        "learn": [
                          20400651.17
                        ],
                        "iteration": 566,
                        "passed_time": 7.739926053,
                        "remaining_time": 5.91073718,
                        "test": [
                          40343568.51
                        ]
                      },
                      {
                        "learn": [
                          20396182.18
                        ],
                        "iteration": 567,
                        "passed_time": 7.75130328,
                        "remaining_time": 5.895357424,
                        "test": [
                          40337421.33
                        ]
                      },
                      {
                        "learn": [
                          20388956.78
                        ],
                        "iteration": 568,
                        "passed_time": 7.763004156,
                        "remaining_time": 5.880236892,
                        "test": [
                          40330426.07
                        ]
                      },
                      {
                        "learn": [
                          20372400.73
                        ],
                        "iteration": 569,
                        "passed_time": 7.773548564,
                        "remaining_time": 5.864255934,
                        "test": [
                          40333865.64
                        ]
                      },
                      {
                        "learn": [
                          20367438.07
                        ],
                        "iteration": 570,
                        "passed_time": 7.784964845,
                        "remaining_time": 5.848949069,
                        "test": [
                          40328972.81
                        ]
                      },
                      {
                        "learn": [
                          20359991.24
                        ],
                        "iteration": 571,
                        "passed_time": 7.792494982,
                        "remaining_time": 5.830747994,
                        "test": [
                          40330456.9
                        ]
                      },
                      {
                        "learn": [
                          20358006.7
                        ],
                        "iteration": 572,
                        "passed_time": 7.79950292,
                        "remaining_time": 5.812195021,
                        "test": [
                          40327219.49
                        ]
                      },
                      {
                        "learn": [
                          20357214.31
                        ],
                        "iteration": 573,
                        "passed_time": 7.806098095,
                        "remaining_time": 5.793375938,
                        "test": [
                          40326359.19
                        ]
                      },
                      {
                        "learn": [
                          20347989.68
                        ],
                        "iteration": 574,
                        "passed_time": 7.814664006,
                        "remaining_time": 5.776056004,
                        "test": [
                          40328557.79
                        ]
                      },
                      {
                        "learn": [
                          20337226.95
                        ],
                        "iteration": 575,
                        "passed_time": 7.824549633,
                        "remaining_time": 5.759737925,
                        "test": [
                          40334694.78
                        ]
                      },
                      {
                        "learn": [
                          20332353.11
                        ],
                        "iteration": 576,
                        "passed_time": 7.833506328,
                        "remaining_time": 5.742761138,
                        "test": [
                          40334448.45
                        ]
                      },
                      {
                        "learn": [
                          20316888
                        ],
                        "iteration": 577,
                        "passed_time": 7.844713899,
                        "remaining_time": 5.727455477,
                        "test": [
                          40338561.62
                        ]
                      },
                      {
                        "learn": [
                          20309608.78
                        ],
                        "iteration": 578,
                        "passed_time": 7.857170355,
                        "remaining_time": 5.713072054,
                        "test": [
                          40339773.57
                        ]
                      },
                      {
                        "learn": [
                          20303521.65
                        ],
                        "iteration": 579,
                        "passed_time": 7.867458343,
                        "remaining_time": 5.697125007,
                        "test": [
                          40334339.18
                        ]
                      },
                      {
                        "learn": [
                          20259853.47
                        ],
                        "iteration": 580,
                        "passed_time": 7.879151014,
                        "remaining_time": 5.682210456,
                        "test": [
                          40321897.85
                        ]
                      },
                      {
                        "learn": [
                          20252099.86
                        ],
                        "iteration": 581,
                        "passed_time": 7.89252897,
                        "remaining_time": 5.66851737,
                        "test": [
                          40314270.94
                        ]
                      },
                      {
                        "learn": [
                          20236945.7
                        ],
                        "iteration": 582,
                        "passed_time": 7.904818976,
                        "remaining_time": 5.654047192,
                        "test": [
                          40311156.93
                        ]
                      },
                      {
                        "learn": [
                          20227038.19
                        ],
                        "iteration": 583,
                        "passed_time": 7.915640952,
                        "remaining_time": 5.638538761,
                        "test": [
                          40315760.37
                        ]
                      },
                      {
                        "learn": [
                          20223798.07
                        ],
                        "iteration": 584,
                        "passed_time": 7.928186419,
                        "remaining_time": 5.624268998,
                        "test": [
                          40316243.89
                        ]
                      },
                      {
                        "learn": [
                          20218319.03
                        ],
                        "iteration": 585,
                        "passed_time": 7.94033274,
                        "remaining_time": 5.60972313,
                        "test": [
                          40314369.68
                        ]
                      },
                      {
                        "learn": [
                          20194102.67
                        ],
                        "iteration": 586,
                        "passed_time": 7.950585474,
                        "remaining_time": 5.593853153,
                        "test": [
                          40291620.89
                        ]
                      },
                      {
                        "learn": [
                          20175224.73
                        ],
                        "iteration": 587,
                        "passed_time": 7.960551935,
                        "remaining_time": 5.577801696,
                        "test": [
                          40284801.29
                        ]
                      },
                      {
                        "learn": [
                          20155294.52
                        ],
                        "iteration": 588,
                        "passed_time": 7.9839601,
                        "remaining_time": 5.571150427,
                        "test": [
                          40282259.04
                        ]
                      },
                      {
                        "learn": [
                          20130232.75
                        ],
                        "iteration": 589,
                        "passed_time": 8.019915945,
                        "remaining_time": 5.573161928,
                        "test": [
                          40277927.4
                        ]
                      },
                      {
                        "learn": [
                          20103873.44
                        ],
                        "iteration": 590,
                        "passed_time": 8.036554366,
                        "remaining_time": 5.561676372,
                        "test": [
                          40271777.29
                        ]
                      },
                      {
                        "learn": [
                          20102594.68
                        ],
                        "iteration": 591,
                        "passed_time": 8.047954844,
                        "remaining_time": 5.546563474,
                        "test": [
                          40272135.99
                        ]
                      },
                      {
                        "learn": [
                          20097623.46
                        ],
                        "iteration": 592,
                        "passed_time": 8.057999714,
                        "remaining_time": 5.530532687,
                        "test": [
                          40266839.75
                        ]
                      },
                      {
                        "learn": [
                          20079942.56
                        ],
                        "iteration": 593,
                        "passed_time": 8.068590632,
                        "remaining_time": 5.514895281,
                        "test": [
                          40261142.66
                        ]
                      },
                      {
                        "learn": [
                          20062740.87
                        ],
                        "iteration": 594,
                        "passed_time": 8.080153633,
                        "remaining_time": 5.499936507,
                        "test": [
                          40254942.16
                        ]
                      },
                      {
                        "learn": [
                          20029057.13
                        ],
                        "iteration": 595,
                        "passed_time": 8.091701629,
                        "remaining_time": 5.484978957,
                        "test": [
                          40244163.38
                        ]
                      },
                      {
                        "learn": [
                          20005757.82
                        ],
                        "iteration": 596,
                        "passed_time": 8.103609858,
                        "remaining_time": 5.470276002,
                        "test": [
                          40256682.48
                        ]
                      },
                      {
                        "learn": [
                          19984933.01
                        ],
                        "iteration": 597,
                        "passed_time": 8.114900258,
                        "remaining_time": 5.455167063,
                        "test": [
                          40252020.07
                        ]
                      },
                      {
                        "learn": [
                          19976478.97
                        ],
                        "iteration": 598,
                        "passed_time": 8.122849959,
                        "remaining_time": 5.437834446,
                        "test": [
                          40243285.54
                        ]
                      },
                      {
                        "learn": [
                          19963900.42
                        ],
                        "iteration": 599,
                        "passed_time": 8.131054374,
                        "remaining_time": 5.420702916,
                        "test": [
                          40234208.06
                        ]
                      },
                      {
                        "learn": [
                          19959894
                        ],
                        "iteration": 600,
                        "passed_time": 8.142094589,
                        "remaining_time": 5.405483762,
                        "test": [
                          40228052.81
                        ]
                      },
                      {
                        "learn": [
                          19948621.04
                        ],
                        "iteration": 601,
                        "passed_time": 8.149020671,
                        "remaining_time": 5.387558516,
                        "test": [
                          40220081.58
                        ]
                      },
                      {
                        "learn": [
                          19936393.45
                        ],
                        "iteration": 602,
                        "passed_time": 8.15843552,
                        "remaining_time": 5.371308294,
                        "test": [
                          40217729.36
                        ]
                      },
                      {
                        "learn": [
                          19915850.63
                        ],
                        "iteration": 603,
                        "passed_time": 8.170403498,
                        "remaining_time": 5.356754612,
                        "test": [
                          40229545.5
                        ]
                      },
                      {
                        "learn": [
                          19871810.33
                        ],
                        "iteration": 604,
                        "passed_time": 8.180670801,
                        "remaining_time": 5.341099118,
                        "test": [
                          40199192.77
                        ]
                      },
                      {
                        "learn": [
                          19848087.95
                        ],
                        "iteration": 605,
                        "passed_time": 8.192570527,
                        "remaining_time": 5.326522752,
                        "test": [
                          40193907.69
                        ]
                      },
                      {
                        "learn": [
                          19828606.08
                        ],
                        "iteration": 606,
                        "passed_time": 8.202587568,
                        "remaining_time": 5.310736267,
                        "test": [
                          40204208.76
                        ]
                      },
                      {
                        "learn": [
                          19813237.47
                        ],
                        "iteration": 607,
                        "passed_time": 8.211427926,
                        "remaining_time": 5.29421011,
                        "test": [
                          40194767.08
                        ]
                      },
                      {
                        "learn": [
                          19793669.66
                        ],
                        "iteration": 608,
                        "passed_time": 8.223220671,
                        "remaining_time": 5.279604733,
                        "test": [
                          40189126.27
                        ]
                      },
                      {
                        "learn": [
                          19780938.38
                        ],
                        "iteration": 609,
                        "passed_time": 8.234118301,
                        "remaining_time": 5.264436291,
                        "test": [
                          40190806.91
                        ]
                      },
                      {
                        "learn": [
                          19766949.72
                        ],
                        "iteration": 610,
                        "passed_time": 8.244915441,
                        "remaining_time": 5.24921785,
                        "test": [
                          40192778.35
                        ]
                      },
                      {
                        "learn": [
                          19744500.5
                        ],
                        "iteration": 611,
                        "passed_time": 8.256138405,
                        "remaining_time": 5.234283826,
                        "test": [
                          40191952.69
                        ]
                      },
                      {
                        "learn": [
                          19726760.03
                        ],
                        "iteration": 612,
                        "passed_time": 8.265098949,
                        "remaining_time": 5.217933594,
                        "test": [
                          40159544.86
                        ]
                      },
                      {
                        "learn": [
                          19716513.79
                        ],
                        "iteration": 613,
                        "passed_time": 8.273361816,
                        "remaining_time": 5.201168829,
                        "test": [
                          40158659.72
                        ]
                      },
                      {
                        "learn": [
                          19710251.23
                        ],
                        "iteration": 614,
                        "passed_time": 8.28508653,
                        "remaining_time": 5.186598884,
                        "test": [
                          40161579.96
                        ]
                      },
                      {
                        "learn": [
                          19699660.9
                        ],
                        "iteration": 615,
                        "passed_time": 8.298835009,
                        "remaining_time": 5.173299746,
                        "test": [
                          40165409.3
                        ]
                      },
                      {
                        "learn": [
                          19688488.93
                        ],
                        "iteration": 616,
                        "passed_time": 8.311676859,
                        "remaining_time": 5.159436365,
                        "test": [
                          40159533.61
                        ]
                      },
                      {
                        "learn": [
                          19673690.45
                        ],
                        "iteration": 617,
                        "passed_time": 8.323205059,
                        "remaining_time": 5.144764292,
                        "test": [
                          40159437.39
                        ]
                      },
                      {
                        "learn": [
                          19635644.36
                        ],
                        "iteration": 618,
                        "passed_time": 8.336113136,
                        "remaining_time": 5.130951704,
                        "test": [
                          40158505.38
                        ]
                      },
                      {
                        "learn": [
                          19628141.33
                        ],
                        "iteration": 619,
                        "passed_time": 8.347022262,
                        "remaining_time": 5.11591687,
                        "test": [
                          40153981.59
                        ]
                      },
                      {
                        "learn": [
                          19593479.61
                        ],
                        "iteration": 620,
                        "passed_time": 8.359386231,
                        "remaining_time": 5.101783223,
                        "test": [
                          40133909.77
                        ]
                      },
                      {
                        "learn": [
                          19593321.63
                        ],
                        "iteration": 621,
                        "passed_time": 8.369128957,
                        "remaining_time": 5.086062292,
                        "test": [
                          40133588.08
                        ]
                      },
                      {
                        "learn": [
                          19584175.97
                        ],
                        "iteration": 622,
                        "passed_time": 8.379543444,
                        "remaining_time": 5.07076706,
                        "test": [
                          40135568.34
                        ]
                      },
                      {
                        "learn": [
                          19567596.79
                        ],
                        "iteration": 623,
                        "passed_time": 8.386822714,
                        "remaining_time": 5.053598302,
                        "test": [
                          40140936.44
                        ]
                      },
                      {
                        "learn": [
                          19561983.59
                        ],
                        "iteration": 624,
                        "passed_time": 8.394373526,
                        "remaining_time": 5.036624115,
                        "test": [
                          40143629.15
                        ]
                      },
                      {
                        "learn": [
                          19560151.4
                        ],
                        "iteration": 625,
                        "passed_time": 8.409396732,
                        "remaining_time": 5.024144373,
                        "test": [
                          40137169.75
                        ]
                      },
                      {
                        "learn": [
                          19559997.64
                        ],
                        "iteration": 626,
                        "passed_time": 8.415715817,
                        "remaining_time": 5.006478468,
                        "test": [
                          40136838.19
                        ]
                      },
                      {
                        "learn": [
                          19550158.2
                        ],
                        "iteration": 627,
                        "passed_time": 8.429206818,
                        "remaining_time": 4.993097032,
                        "test": [
                          40129592.59
                        ]
                      },
                      {
                        "learn": [
                          19530137.43
                        ],
                        "iteration": 628,
                        "passed_time": 8.43987661,
                        "remaining_time": 4.978051228,
                        "test": [
                          40129071.18
                        ]
                      },
                      {
                        "learn": [
                          19505154.45
                        ],
                        "iteration": 629,
                        "passed_time": 8.451446065,
                        "remaining_time": 4.963547689,
                        "test": [
                          40144902.86
                        ]
                      },
                      {
                        "learn": [
                          19500034.3
                        ],
                        "iteration": 630,
                        "passed_time": 8.458602985,
                        "remaining_time": 4.946473061,
                        "test": [
                          40147693.18
                        ]
                      },
                      {
                        "learn": [
                          19487392.54
                        ],
                        "iteration": 631,
                        "passed_time": 8.466188676,
                        "remaining_time": 4.929679482,
                        "test": [
                          40148019.51
                        ]
                      },
                      {
                        "learn": [
                          19482825.62
                        ],
                        "iteration": 632,
                        "passed_time": 8.474196568,
                        "remaining_time": 4.913159779,
                        "test": [
                          40142822.17
                        ]
                      },
                      {
                        "learn": [
                          19473444.95
                        ],
                        "iteration": 633,
                        "passed_time": 8.482729924,
                        "remaining_time": 4.896970271,
                        "test": [
                          40144325.24
                        ]
                      },
                      {
                        "learn": [
                          19466352.41
                        ],
                        "iteration": 634,
                        "passed_time": 8.494563435,
                        "remaining_time": 4.882701817,
                        "test": [
                          40145538.15
                        ]
                      },
                      {
                        "learn": [
                          19462409.72
                        ],
                        "iteration": 635,
                        "passed_time": 8.502521451,
                        "remaining_time": 4.866222969,
                        "test": [
                          40134918.23
                        ]
                      },
                      {
                        "learn": [
                          19452488.86
                        ],
                        "iteration": 636,
                        "passed_time": 8.514072406,
                        "remaining_time": 4.851818341,
                        "test": [
                          40123843.61
                        ]
                      },
                      {
                        "learn": [
                          19440539.63
                        ],
                        "iteration": 637,
                        "passed_time": 8.523482122,
                        "remaining_time": 4.836207725,
                        "test": [
                          40121763.46
                        ]
                      },
                      {
                        "learn": [
                          19430835.14
                        ],
                        "iteration": 638,
                        "passed_time": 8.530870878,
                        "remaining_time": 4.819474784,
                        "test": [
                          40116642.62
                        ]
                      },
                      {
                        "learn": [
                          19424983.69
                        ],
                        "iteration": 639,
                        "passed_time": 8.540971649,
                        "remaining_time": 4.804296553,
                        "test": [
                          40104417.15
                        ]
                      },
                      {
                        "learn": [
                          19409247.08
                        ],
                        "iteration": 640,
                        "passed_time": 8.553135393,
                        "remaining_time": 4.790289557,
                        "test": [
                          40100828.83
                        ]
                      },
                      {
                        "learn": [
                          19398811.25
                        ],
                        "iteration": 641,
                        "passed_time": 8.565812519,
                        "remaining_time": 4.776574582,
                        "test": [
                          40099320.61
                        ]
                      },
                      {
                        "learn": [
                          19382626.51
                        ],
                        "iteration": 642,
                        "passed_time": 8.581728706,
                        "remaining_time": 4.764661194,
                        "test": [
                          40091477.69
                        ]
                      },
                      {
                        "learn": [
                          19375217.95
                        ],
                        "iteration": 643,
                        "passed_time": 8.589857648,
                        "remaining_time": 4.748430626,
                        "test": [
                          40091787.41
                        ]
                      },
                      {
                        "learn": [
                          19370487.17
                        ],
                        "iteration": 644,
                        "passed_time": 8.600992559,
                        "remaining_time": 4.733879625,
                        "test": [
                          40088398.14
                        ]
                      },
                      {
                        "learn": [
                          19366781.35
                        ],
                        "iteration": 645,
                        "passed_time": 8.613241914,
                        "remaining_time": 4.719949904,
                        "test": [
                          40088170.82
                        ]
                      },
                      {
                        "learn": [
                          19360705.64
                        ],
                        "iteration": 646,
                        "passed_time": 8.623564112,
                        "remaining_time": 4.704973928,
                        "test": [
                          40079124.05
                        ]
                      },
                      {
                        "learn": [
                          19332673.89
                        ],
                        "iteration": 647,
                        "passed_time": 8.633376559,
                        "remaining_time": 4.689735415,
                        "test": [
                          40085458.89
                        ]
                      },
                      {
                        "learn": [
                          19303748.71
                        ],
                        "iteration": 648,
                        "passed_time": 8.644135154,
                        "remaining_time": 4.67502533,
                        "test": [
                          40086907.05
                        ]
                      },
                      {
                        "learn": [
                          19294645.12
                        ],
                        "iteration": 649,
                        "passed_time": 8.655753736,
                        "remaining_time": 4.660790473,
                        "test": [
                          40084887.75
                        ]
                      },
                      {
                        "learn": [
                          19269667.14
                        ],
                        "iteration": 650,
                        "passed_time": 8.667404055,
                        "remaining_time": 4.646580668,
                        "test": [
                          40057325.91
                        ]
                      },
                      {
                        "learn": [
                          19255953.39
                        ],
                        "iteration": 651,
                        "passed_time": 8.678764284,
                        "remaining_time": 4.632223881,
                        "test": [
                          40054336.79
                        ]
                      },
                      {
                        "learn": [
                          19241372.64
                        ],
                        "iteration": 652,
                        "passed_time": 8.690322615,
                        "remaining_time": 4.617981543,
                        "test": [
                          40057173.47
                        ]
                      },
                      {
                        "learn": [
                          19237123.81
                        ],
                        "iteration": 653,
                        "passed_time": 8.701683234,
                        "remaining_time": 4.603642812,
                        "test": [
                          40063295.64
                        ]
                      },
                      {
                        "learn": [
                          19230824.71
                        ],
                        "iteration": 654,
                        "passed_time": 8.712434795,
                        "remaining_time": 4.588992373,
                        "test": [
                          40054688.8
                        ]
                      },
                      {
                        "learn": [
                          19205451.55
                        ],
                        "iteration": 655,
                        "passed_time": 8.719751555,
                        "remaining_time": 4.572552645,
                        "test": [
                          40056575.55
                        ]
                      },
                      {
                        "learn": [
                          19189885.67
                        ],
                        "iteration": 656,
                        "passed_time": 8.729044842,
                        "remaining_time": 4.557172574,
                        "test": [
                          40060252.5
                        ]
                      },
                      {
                        "learn": [
                          19184721.18
                        ],
                        "iteration": 657,
                        "passed_time": 8.738585856,
                        "remaining_time": 4.541939761,
                        "test": [
                          40058232.05
                        ]
                      },
                      {
                        "learn": [
                          19177076.6
                        ],
                        "iteration": 658,
                        "passed_time": 8.74890547,
                        "remaining_time": 4.52712711,
                        "test": [
                          40058088.51
                        ]
                      },
                      {
                        "learn": [
                          19173415.73
                        ],
                        "iteration": 659,
                        "passed_time": 8.757671614,
                        "remaining_time": 4.511527801,
                        "test": [
                          40057990.63
                        ]
                      },
                      {
                        "learn": [
                          19154726.93
                        ],
                        "iteration": 660,
                        "passed_time": 8.767950801,
                        "remaining_time": 4.496725146,
                        "test": [
                          40068039.92
                        ]
                      },
                      {
                        "learn": [
                          19143430.59
                        ],
                        "iteration": 661,
                        "passed_time": 8.779406009,
                        "remaining_time": 4.482536603,
                        "test": [
                          40067959.02
                        ]
                      },
                      {
                        "learn": [
                          19135328
                        ],
                        "iteration": 662,
                        "passed_time": 8.78942242,
                        "remaining_time": 4.467624971,
                        "test": [
                          40062521.4
                        ]
                      },
                      {
                        "learn": [
                          19128392.52
                        ],
                        "iteration": 663,
                        "passed_time": 8.800787857,
                        "remaining_time": 4.453410723,
                        "test": [
                          40067058.32
                        ]
                      },
                      {
                        "learn": [
                          19114591.45
                        ],
                        "iteration": 664,
                        "passed_time": 8.808143911,
                        "remaining_time": 4.437185279,
                        "test": [
                          40070587.28
                        ]
                      },
                      {
                        "learn": [
                          19108067.38
                        ],
                        "iteration": 665,
                        "passed_time": 8.821581832,
                        "remaining_time": 4.424036534,
                        "test": [
                          40069243.64
                        ]
                      },
                      {
                        "learn": [
                          19091467.22
                        ],
                        "iteration": 666,
                        "passed_time": 8.833023794,
                        "remaining_time": 4.40989044,
                        "test": [
                          40074691.85
                        ]
                      },
                      {
                        "learn": [
                          19062318.28
                        ],
                        "iteration": 667,
                        "passed_time": 8.8434061,
                        "remaining_time": 4.395225786,
                        "test": [
                          40059324.56
                        ]
                      },
                      {
                        "learn": [
                          19051546.08
                        ],
                        "iteration": 668,
                        "passed_time": 8.853563849,
                        "remaining_time": 4.380462831,
                        "test": [
                          40063713.89
                        ]
                      },
                      {
                        "learn": [
                          19045981.01
                        ],
                        "iteration": 669,
                        "passed_time": 8.863940895,
                        "remaining_time": 4.365821635,
                        "test": [
                          40058566.79
                        ]
                      },
                      {
                        "learn": [
                          19012934.3
                        ],
                        "iteration": 670,
                        "passed_time": 8.876359732,
                        "remaining_time": 4.352194265,
                        "test": [
                          40058374.66
                        ]
                      },
                      {
                        "learn": [
                          19009203.33
                        ],
                        "iteration": 671,
                        "passed_time": 8.887912432,
                        "remaining_time": 4.338147735,
                        "test": [
                          40063701.86
                        ]
                      },
                      {
                        "learn": [
                          18993123.65
                        ],
                        "iteration": 672,
                        "passed_time": 8.899411789,
                        "remaining_time": 4.324082697,
                        "test": [
                          40065976.95
                        ]
                      },
                      {
                        "learn": [
                          18980614.82
                        ],
                        "iteration": 673,
                        "passed_time": 8.909755166,
                        "remaining_time": 4.309466149,
                        "test": [
                          40061038.07
                        ]
                      },
                      {
                        "learn": [
                          18941652.19
                        ],
                        "iteration": 674,
                        "passed_time": 8.92137135,
                        "remaining_time": 4.295475094,
                        "test": [
                          40064235.41
                        ]
                      },
                      {
                        "learn": [
                          18925019.21
                        ],
                        "iteration": 675,
                        "passed_time": 8.931860972,
                        "remaining_time": 4.280951117,
                        "test": [
                          40063757.92
                        ]
                      },
                      {
                        "learn": [
                          18916364.89
                        ],
                        "iteration": 676,
                        "passed_time": 8.94155194,
                        "remaining_time": 4.266058016,
                        "test": [
                          40059567.93
                        ]
                      },
                      {
                        "learn": [
                          18913237.77
                        ],
                        "iteration": 677,
                        "passed_time": 8.950857485,
                        "remaining_time": 4.250997213,
                        "test": [
                          40059424.55
                        ]
                      },
                      {
                        "learn": [
                          18910158.1
                        ],
                        "iteration": 678,
                        "passed_time": 8.960534214,
                        "remaining_time": 4.236128841,
                        "test": [
                          40057381.77
                        ]
                      },
                      {
                        "learn": [
                          18903891.18
                        ],
                        "iteration": 679,
                        "passed_time": 8.97208287,
                        "remaining_time": 4.222156644,
                        "test": [
                          40061954.21
                        ]
                      },
                      {
                        "learn": [
                          18896426.23
                        ],
                        "iteration": 680,
                        "passed_time": 9.008645022,
                        "remaining_time": 4.219908608,
                        "test": [
                          40062617.73
                        ]
                      },
                      {
                        "learn": [
                          18886978.22
                        ],
                        "iteration": 681,
                        "passed_time": 9.02685591,
                        "remaining_time": 4.209003196,
                        "test": [
                          40059854.77
                        ]
                      },
                      {
                        "learn": [
                          18852134.24
                        ],
                        "iteration": 682,
                        "passed_time": 9.048123235,
                        "remaining_time": 4.199494971,
                        "test": [
                          40064055.93
                        ]
                      },
                      {
                        "learn": [
                          18844250.91
                        ],
                        "iteration": 683,
                        "passed_time": 9.061285687,
                        "remaining_time": 4.186208007,
                        "test": [
                          40057769.25
                        ]
                      },
                      {
                        "learn": [
                          18837503.28
                        ],
                        "iteration": 684,
                        "passed_time": 9.071899225,
                        "remaining_time": 4.171749279,
                        "test": [
                          40050205.17
                        ]
                      },
                      {
                        "learn": [
                          18836322.62
                        ],
                        "iteration": 685,
                        "passed_time": 9.082371687,
                        "remaining_time": 4.157237186,
                        "test": [
                          40047450.95
                        ]
                      },
                      {
                        "learn": [
                          18826621.21
                        ],
                        "iteration": 686,
                        "passed_time": 9.093845031,
                        "remaining_time": 4.14319286,
                        "test": [
                          40041128.52
                        ]
                      },
                      {
                        "learn": [
                          18811426.13
                        ],
                        "iteration": 687,
                        "passed_time": 9.103149642,
                        "remaining_time": 4.128172512,
                        "test": [
                          40042646.43
                        ]
                      },
                      {
                        "learn": [
                          18780598.64
                        ],
                        "iteration": 688,
                        "passed_time": 9.114831155,
                        "remaining_time": 4.114241639,
                        "test": [
                          40039259.68
                        ]
                      },
                      {
                        "learn": [
                          18776402.04
                        ],
                        "iteration": 689,
                        "passed_time": 9.123258558,
                        "remaining_time": 4.098855294,
                        "test": [
                          40040785.47
                        ]
                      },
                      {
                        "learn": [
                          18769808.17
                        ],
                        "iteration": 690,
                        "passed_time": 9.133125747,
                        "remaining_time": 4.084132932,
                        "test": [
                          40046413.69
                        ]
                      },
                      {
                        "learn": [
                          18764211.09
                        ],
                        "iteration": 691,
                        "passed_time": 9.143105013,
                        "remaining_time": 4.069474486,
                        "test": [
                          40050945.45
                        ]
                      },
                      {
                        "learn": [
                          18741826.76
                        ],
                        "iteration": 692,
                        "passed_time": 9.152553807,
                        "remaining_time": 4.054594544,
                        "test": [
                          40051154.59
                        ]
                      },
                      {
                        "learn": [
                          18728098.62
                        ],
                        "iteration": 693,
                        "passed_time": 9.16146947,
                        "remaining_time": 4.039495184,
                        "test": [
                          40048403.79
                        ]
                      },
                      {
                        "learn": [
                          18727030.02
                        ],
                        "iteration": 694,
                        "passed_time": 9.168267192,
                        "remaining_time": 4.023484164,
                        "test": [
                          40045798.77
                        ]
                      },
                      {
                        "learn": [
                          18718246.32
                        ],
                        "iteration": 695,
                        "passed_time": 9.179725209,
                        "remaining_time": 4.009535149,
                        "test": [
                          40040582.67
                        ]
                      },
                      {
                        "learn": [
                          18713009.33
                        ],
                        "iteration": 696,
                        "passed_time": 9.189520276,
                        "remaining_time": 3.994870364,
                        "test": [
                          40034386.83
                        ]
                      },
                      {
                        "learn": [
                          18710348.07
                        ],
                        "iteration": 697,
                        "passed_time": 9.198425657,
                        "remaining_time": 3.979834596,
                        "test": [
                          40034785.61
                        ]
                      },
                      {
                        "learn": [
                          18701490.35
                        ],
                        "iteration": 698,
                        "passed_time": 9.209803987,
                        "remaining_time": 3.965881259,
                        "test": [
                          40032784.42
                        ]
                      },
                      {
                        "learn": [
                          18686047.1
                        ],
                        "iteration": 699,
                        "passed_time": 9.21914028,
                        "remaining_time": 3.95106012,
                        "test": [
                          40034386.78
                        ]
                      },
                      {
                        "learn": [
                          18679648.3
                        ],
                        "iteration": 700,
                        "passed_time": 9.22928288,
                        "remaining_time": 3.936598546,
                        "test": [
                          40032179.27
                        ]
                      },
                      {
                        "learn": [
                          18661993.6
                        ],
                        "iteration": 701,
                        "passed_time": 9.238438179,
                        "remaining_time": 3.921730167,
                        "test": [
                          40033234.34
                        ]
                      },
                      {
                        "learn": [
                          18657893.78
                        ],
                        "iteration": 702,
                        "passed_time": 9.246241381,
                        "remaining_time": 3.906306814,
                        "test": [
                          40030797.7
                        ]
                      },
                      {
                        "learn": [
                          18651270.77
                        ],
                        "iteration": 703,
                        "passed_time": 9.257325121,
                        "remaining_time": 3.892284426,
                        "test": [
                          40022978.82
                        ]
                      },
                      {
                        "learn": [
                          18647741.77
                        ],
                        "iteration": 704,
                        "passed_time": 9.266807501,
                        "remaining_time": 3.877600302,
                        "test": [
                          40023656.9
                        ]
                      },
                      {
                        "learn": [
                          18632523.52
                        ],
                        "iteration": 705,
                        "passed_time": 9.279701367,
                        "remaining_time": 3.864351561,
                        "test": [
                          40018560.14
                        ]
                      },
                      {
                        "learn": [
                          18617053.84
                        ],
                        "iteration": 706,
                        "passed_time": 9.291569387,
                        "remaining_time": 3.850678685,
                        "test": [
                          40012470.8
                        ]
                      },
                      {
                        "learn": [
                          18598019.97
                        ],
                        "iteration": 707,
                        "passed_time": 9.306309836,
                        "remaining_time": 3.838195582,
                        "test": [
                          40011250.24
                        ]
                      },
                      {
                        "learn": [
                          18591080.83
                        ],
                        "iteration": 708,
                        "passed_time": 9.316666776,
                        "remaining_time": 3.823906956,
                        "test": [
                          40017735.57
                        ]
                      },
                      {
                        "learn": [
                          18583541.31
                        ],
                        "iteration": 709,
                        "passed_time": 9.326745015,
                        "remaining_time": 3.809515569,
                        "test": [
                          40012696.83
                        ]
                      },
                      {
                        "learn": [
                          18578275.6
                        ],
                        "iteration": 710,
                        "passed_time": 9.336759002,
                        "remaining_time": 3.795110199,
                        "test": [
                          40003903.23
                        ]
                      },
                      {
                        "learn": [
                          18567400.85
                        ],
                        "iteration": 711,
                        "passed_time": 9.348818031,
                        "remaining_time": 3.781544372,
                        "test": [
                          40009132.08
                        ]
                      },
                      {
                        "learn": [
                          18559799.06
                        ],
                        "iteration": 712,
                        "passed_time": 9.360499007,
                        "remaining_time": 3.767830596,
                        "test": [
                          40008237.02
                        ]
                      },
                      {
                        "learn": [
                          18539393.01
                        ],
                        "iteration": 713,
                        "passed_time": 9.372349333,
                        "remaining_time": 3.754190349,
                        "test": [
                          39992722.17
                        ]
                      },
                      {
                        "learn": [
                          18513169.44
                        ],
                        "iteration": 714,
                        "passed_time": 9.384377695,
                        "remaining_time": 3.740626074,
                        "test": [
                          39991662.14
                        ]
                      },
                      {
                        "learn": [
                          18507633.83
                        ],
                        "iteration": 715,
                        "passed_time": 9.396012822,
                        "remaining_time": 3.726910114,
                        "test": [
                          39985576.83
                        ]
                      },
                      {
                        "learn": [
                          18501865.1
                        ],
                        "iteration": 716,
                        "passed_time": 9.405912926,
                        "remaining_time": 3.712515144,
                        "test": [
                          39988201.22
                        ]
                      },
                      {
                        "learn": [
                          18487711.32
                        ],
                        "iteration": 717,
                        "passed_time": 9.416107264,
                        "remaining_time": 3.698248257,
                        "test": [
                          39978786.01
                        ]
                      },
                      {
                        "learn": [
                          18482753.31
                        ],
                        "iteration": 718,
                        "passed_time": 9.427683826,
                        "remaining_time": 3.6845329,
                        "test": [
                          39973315.25
                        ]
                      },
                      {
                        "learn": [
                          18480310.95
                        ],
                        "iteration": 719,
                        "passed_time": 9.450228902,
                        "remaining_time": 3.675089018,
                        "test": [
                          39973044.77
                        ]
                      },
                      {
                        "learn": [
                          18471566.98
                        ],
                        "iteration": 720,
                        "passed_time": 9.460390429,
                        "remaining_time": 3.660816823,
                        "test": [
                          39970700.86
                        ]
                      },
                      {
                        "learn": [
                          18464470.95
                        ],
                        "iteration": 721,
                        "passed_time": 9.470658756,
                        "remaining_time": 3.646597139,
                        "test": [
                          39969437.85
                        ]
                      },
                      {
                        "learn": [
                          18453220.73
                        ],
                        "iteration": 722,
                        "passed_time": 9.488359702,
                        "remaining_time": 3.635236013,
                        "test": [
                          39970317.61
                        ]
                      },
                      {
                        "learn": [
                          18448869.28
                        ],
                        "iteration": 723,
                        "passed_time": 9.499205989,
                        "remaining_time": 3.621244272,
                        "test": [
                          39969466.4
                        ]
                      },
                      {
                        "learn": [
                          18433200.6
                        ],
                        "iteration": 724,
                        "passed_time": 9.510966019,
                        "remaining_time": 3.6076078,
                        "test": [
                          39963255.87
                        ]
                      },
                      {
                        "learn": [
                          18409617.06
                        ],
                        "iteration": 725,
                        "passed_time": 9.517968264,
                        "remaining_time": 3.59218086,
                        "test": [
                          39963917.83
                        ]
                      },
                      {
                        "learn": [
                          18399984.7
                        ],
                        "iteration": 726,
                        "passed_time": 9.529623076,
                        "remaining_time": 3.578524209,
                        "test": [
                          39963171.96
                        ]
                      },
                      {
                        "learn": [
                          18391997.76
                        ],
                        "iteration": 727,
                        "passed_time": 9.539895896,
                        "remaining_time": 3.564356708,
                        "test": [
                          39961084.52
                        ]
                      },
                      {
                        "learn": [
                          18387695.2
                        ],
                        "iteration": 728,
                        "passed_time": 9.551782307,
                        "remaining_time": 3.550799733,
                        "test": [
                          39960089.08
                        ]
                      },
                      {
                        "learn": [
                          18375465.41
                        ],
                        "iteration": 729,
                        "passed_time": 9.562176199,
                        "remaining_time": 3.536695306,
                        "test": [
                          39962795.54
                        ]
                      },
                      {
                        "learn": [
                          18363136.4
                        ],
                        "iteration": 730,
                        "passed_time": 9.575851089,
                        "remaining_time": 3.523808404,
                        "test": [
                          39953593.49
                        ]
                      },
                      {
                        "learn": [
                          18351728.8
                        ],
                        "iteration": 731,
                        "passed_time": 9.587191675,
                        "remaining_time": 3.510064712,
                        "test": [
                          39948460.81
                        ]
                      },
                      {
                        "learn": [
                          18347606.25
                        ],
                        "iteration": 732,
                        "passed_time": 9.598678538,
                        "remaining_time": 3.496380859,
                        "test": [
                          39943199.31
                        ]
                      },
                      {
                        "learn": [
                          18332689.1
                        ],
                        "iteration": 733,
                        "passed_time": 9.61076569,
                        "remaining_time": 3.482920536,
                        "test": [
                          39932514.1
                        ]
                      },
                      {
                        "learn": [
                          18326148.97
                        ],
                        "iteration": 734,
                        "passed_time": 9.621717466,
                        "remaining_time": 3.469054597,
                        "test": [
                          39933534
                        ]
                      },
                      {
                        "learn": [
                          18320625.57
                        ],
                        "iteration": 735,
                        "passed_time": 9.633445383,
                        "remaining_time": 3.455474974,
                        "test": [
                          39924954.7
                        ]
                      },
                      {
                        "learn": [
                          18298328.1
                        ],
                        "iteration": 736,
                        "passed_time": 9.644862536,
                        "remaining_time": 3.44178948,
                        "test": [
                          39917318.45
                        ]
                      },
                      {
                        "learn": [
                          18290905.92
                        ],
                        "iteration": 737,
                        "passed_time": 9.654245414,
                        "remaining_time": 3.427387938,
                        "test": [
                          39916463.79
                        ]
                      },
                      {
                        "learn": [
                          18282159.77
                        ],
                        "iteration": 738,
                        "passed_time": 9.663174543,
                        "remaining_time": 3.412839724,
                        "test": [
                          39912683.06
                        ]
                      },
                      {
                        "learn": [
                          18275982.53
                        ],
                        "iteration": 739,
                        "passed_time": 9.675120991,
                        "remaining_time": 3.399366835,
                        "test": [
                          39908776.2
                        ]
                      },
                      {
                        "learn": [
                          18275225.05
                        ],
                        "iteration": 740,
                        "passed_time": 9.684065696,
                        "remaining_time": 3.384848874,
                        "test": [
                          39909719.29
                        ]
                      },
                      {
                        "learn": [
                          18254947.91
                        ],
                        "iteration": 741,
                        "passed_time": 9.697087736,
                        "remaining_time": 3.37176366,
                        "test": [
                          39920365.22
                        ]
                      },
                      {
                        "learn": [
                          18243091.79
                        ],
                        "iteration": 742,
                        "passed_time": 9.708836191,
                        "remaining_time": 3.35823809,
                        "test": [
                          39918693.42
                        ]
                      },
                      {
                        "learn": [
                          18240914.58
                        ],
                        "iteration": 743,
                        "passed_time": 9.715488214,
                        "remaining_time": 3.342963687,
                        "test": [
                          39919358.9
                        ]
                      },
                      {
                        "learn": [
                          18235602.53
                        ],
                        "iteration": 744,
                        "passed_time": 9.726096468,
                        "remaining_time": 3.329066576,
                        "test": [
                          39914724.5
                        ]
                      },
                      {
                        "learn": [
                          18232042.94
                        ],
                        "iteration": 745,
                        "passed_time": 9.73285848,
                        "remaining_time": 3.313868705,
                        "test": [
                          39909934.56
                        ]
                      },
                      {
                        "learn": [
                          18226028.51
                        ],
                        "iteration": 746,
                        "passed_time": 9.74398266,
                        "remaining_time": 3.300170834,
                        "test": [
                          39899206.43
                        ]
                      },
                      {
                        "learn": [
                          18213964.57
                        ],
                        "iteration": 747,
                        "passed_time": 9.753233687,
                        "remaining_time": 3.285848782,
                        "test": [
                          39902961.67
                        ]
                      },
                      {
                        "learn": [
                          18213611.59
                        ],
                        "iteration": 748,
                        "passed_time": 9.763760509,
                        "remaining_time": 3.271967807,
                        "test": [
                          39902268.18
                        ]
                      },
                      {
                        "learn": [
                          18200591.5
                        ],
                        "iteration": 749,
                        "passed_time": 9.776264744,
                        "remaining_time": 3.258754915,
                        "test": [
                          39905619.71
                        ]
                      },
                      {
                        "learn": [
                          18180756.91
                        ],
                        "iteration": 750,
                        "passed_time": 9.78629832,
                        "remaining_time": 3.244724742,
                        "test": [
                          39897799.19
                        ]
                      },
                      {
                        "learn": [
                          18163479.54
                        ],
                        "iteration": 751,
                        "passed_time": 9.797723482,
                        "remaining_time": 3.231164127,
                        "test": [
                          39888388.08
                        ]
                      },
                      {
                        "learn": [
                          18150261.88
                        ],
                        "iteration": 752,
                        "passed_time": 9.805474259,
                        "remaining_time": 3.216403907,
                        "test": [
                          39890891.64
                        ]
                      },
                      {
                        "learn": [
                          18135696.7
                        ],
                        "iteration": 753,
                        "passed_time": 9.814958098,
                        "remaining_time": 3.202227708,
                        "test": [
                          39894536.84
                        ]
                      },
                      {
                        "learn": [
                          18131181.5
                        ],
                        "iteration": 754,
                        "passed_time": 9.824241847,
                        "remaining_time": 3.18799901,
                        "test": [
                          39890825.21
                        ]
                      },
                      {
                        "learn": [
                          18122634.49
                        ],
                        "iteration": 755,
                        "passed_time": 9.835223511,
                        "remaining_time": 3.174331398,
                        "test": [
                          39885473.97
                        ]
                      },
                      {
                        "learn": [
                          18116288.26
                        ],
                        "iteration": 756,
                        "passed_time": 9.843458267,
                        "remaining_time": 3.159789113,
                        "test": [
                          39882575.46
                        ]
                      },
                      {
                        "learn": [
                          18100137.2
                        ],
                        "iteration": 757,
                        "passed_time": 9.853105328,
                        "remaining_time": 3.145714366,
                        "test": [
                          39878940.59
                        ]
                      },
                      {
                        "learn": [
                          18087421.05
                        ],
                        "iteration": 758,
                        "passed_time": 9.861780281,
                        "remaining_time": 3.131342619,
                        "test": [
                          39888371.66
                        ]
                      },
                      {
                        "learn": [
                          18080529.99
                        ],
                        "iteration": 759,
                        "passed_time": 9.872954658,
                        "remaining_time": 3.117775155,
                        "test": [
                          39893369.36
                        ]
                      },
                      {
                        "learn": [
                          18075744.13
                        ],
                        "iteration": 760,
                        "passed_time": 9.883343793,
                        "remaining_time": 3.103967367,
                        "test": [
                          39891798.03
                        ]
                      },
                      {
                        "learn": [
                          18062375.63
                        ],
                        "iteration": 761,
                        "passed_time": 9.894114206,
                        "remaining_time": 3.090287639,
                        "test": [
                          39890190.74
                        ]
                      },
                      {
                        "learn": [
                          18050465.15
                        ],
                        "iteration": 762,
                        "passed_time": 9.901184528,
                        "remaining_time": 3.07546623,
                        "test": [
                          39893304.76
                        ]
                      },
                      {
                        "learn": [
                          18049866.54
                        ],
                        "iteration": 763,
                        "passed_time": 9.912591111,
                        "remaining_time": 3.062004584,
                        "test": [
                          39892971.68
                        ]
                      },
                      {
                        "learn": [
                          18033431.34
                        ],
                        "iteration": 764,
                        "passed_time": 9.922880952,
                        "remaining_time": 3.04820526,
                        "test": [
                          39895849.05
                        ]
                      },
                      {
                        "learn": [
                          18029957.1
                        ],
                        "iteration": 765,
                        "passed_time": 9.933720579,
                        "remaining_time": 3.034583049,
                        "test": [
                          39890742.39
                        ]
                      },
                      {
                        "learn": [
                          18019540.84
                        ],
                        "iteration": 766,
                        "passed_time": 9.943096253,
                        "remaining_time": 3.020523373,
                        "test": [
                          39891394.24
                        ]
                      },
                      {
                        "learn": [
                          18018211.17
                        ],
                        "iteration": 767,
                        "passed_time": 9.953692039,
                        "remaining_time": 3.00684447,
                        "test": [
                          39891319.52
                        ]
                      },
                      {
                        "learn": [
                          18003913.33
                        ],
                        "iteration": 768,
                        "passed_time": 9.960583745,
                        "remaining_time": 2.992060917,
                        "test": [
                          39894387.57
                        ]
                      },
                      {
                        "learn": [
                          18001444.75
                        ],
                        "iteration": 769,
                        "passed_time": 9.97385021,
                        "remaining_time": 2.979202011,
                        "test": [
                          39893991.76
                        ]
                      },
                      {
                        "learn": [
                          17983205.88
                        ],
                        "iteration": 770,
                        "passed_time": 9.984379999,
                        "remaining_time": 2.965529208,
                        "test": [
                          39890117.81
                        ]
                      },
                      {
                        "learn": [
                          17971933.08
                        ],
                        "iteration": 771,
                        "passed_time": 10.02099832,
                        "remaining_time": 2.959569452,
                        "test": [
                          39897530.87
                        ]
                      },
                      {
                        "learn": [
                          17969613.22
                        ],
                        "iteration": 772,
                        "passed_time": 10.04315672,
                        "remaining_time": 2.949284056,
                        "test": [
                          39897170.99
                        ]
                      },
                      {
                        "learn": [
                          17937376.16
                        ],
                        "iteration": 773,
                        "passed_time": 10.06200836,
                        "remaining_time": 2.938002442,
                        "test": [
                          39887240.37
                        ]
                      },
                      {
                        "learn": [
                          17931623.99
                        ],
                        "iteration": 774,
                        "passed_time": 10.07307315,
                        "remaining_time": 2.924440592,
                        "test": [
                          39885893.13
                        ]
                      },
                      {
                        "learn": [
                          17921285.58
                        ],
                        "iteration": 775,
                        "passed_time": 10.08445001,
                        "remaining_time": 2.91097526,
                        "test": [
                          39878697.93
                        ]
                      },
                      {
                        "learn": [
                          17904198.43
                        ],
                        "iteration": 776,
                        "passed_time": 10.09734408,
                        "remaining_time": 2.897950747,
                        "test": [
                          39888062
                        ]
                      },
                      {
                        "learn": [
                          17895999.63
                        ],
                        "iteration": 777,
                        "passed_time": 10.11997426,
                        "remaining_time": 2.887704738,
                        "test": [
                          39883427.67
                        ]
                      },
                      {
                        "learn": [
                          17874421.78
                        ],
                        "iteration": 778,
                        "passed_time": 10.13612187,
                        "remaining_time": 2.875587848,
                        "test": [
                          39876318.4
                        ]
                      },
                      {
                        "learn": [
                          17869455.26
                        ],
                        "iteration": 779,
                        "passed_time": 10.14665358,
                        "remaining_time": 2.861876652,
                        "test": [
                          39874779.55
                        ]
                      },
                      {
                        "learn": [
                          17858034.56
                        ],
                        "iteration": 780,
                        "passed_time": 10.15825553,
                        "remaining_time": 2.848473702,
                        "test": [
                          39880026.76
                        ]
                      },
                      {
                        "learn": [
                          17847195.99
                        ],
                        "iteration": 781,
                        "passed_time": 10.16835103,
                        "remaining_time": 2.834655402,
                        "test": [
                          39865538.76
                        ]
                      },
                      {
                        "learn": [
                          17841266.18
                        ],
                        "iteration": 782,
                        "passed_time": 10.17771317,
                        "remaining_time": 2.82064337,
                        "test": [
                          39868865.64
                        ]
                      },
                      {
                        "learn": [
                          17837865.85
                        ],
                        "iteration": 783,
                        "passed_time": 10.18554332,
                        "remaining_time": 2.806221119,
                        "test": [
                          39868932.78
                        ]
                      },
                      {
                        "learn": [
                          17822689.51
                        ],
                        "iteration": 784,
                        "passed_time": 10.19604771,
                        "remaining_time": 2.792548099,
                        "test": [
                          39873843.96
                        ]
                      },
                      {
                        "learn": [
                          17813328.77
                        ],
                        "iteration": 785,
                        "passed_time": 10.20667659,
                        "remaining_time": 2.778917035,
                        "test": [
                          39874629.27
                        ]
                      },
                      {
                        "learn": [
                          17800529.3
                        ],
                        "iteration": 786,
                        "passed_time": 10.2172248,
                        "remaining_time": 2.76527177,
                        "test": [
                          39864904.21
                        ]
                      },
                      {
                        "learn": [
                          17796689.06
                        ],
                        "iteration": 787,
                        "passed_time": 10.22757392,
                        "remaining_time": 2.751580801,
                        "test": [
                          39859350.05
                        ]
                      },
                      {
                        "learn": [
                          17789016.68
                        ],
                        "iteration": 788,
                        "passed_time": 10.23927644,
                        "remaining_time": 2.738260239,
                        "test": [
                          39853731.06
                        ]
                      },
                      {
                        "learn": [
                          17779176.79
                        ],
                        "iteration": 789,
                        "passed_time": 10.25271933,
                        "remaining_time": 2.725406405,
                        "test": [
                          39854238.42
                        ]
                      },
                      {
                        "learn": [
                          17759516.42
                        ],
                        "iteration": 790,
                        "passed_time": 10.26468768,
                        "remaining_time": 2.712161473,
                        "test": [
                          39846336.02
                        ]
                      },
                      {
                        "learn": [
                          17756910.57
                        ],
                        "iteration": 791,
                        "passed_time": 10.27566321,
                        "remaining_time": 2.698659025,
                        "test": [
                          39845664.97
                        ]
                      },
                      {
                        "learn": [
                          17749653.07
                        ],
                        "iteration": 792,
                        "passed_time": 10.28703152,
                        "remaining_time": 2.685265478,
                        "test": [
                          39841854.26
                        ]
                      },
                      {
                        "learn": [
                          17743090.56
                        ],
                        "iteration": 793,
                        "passed_time": 10.29380827,
                        "remaining_time": 2.670685772,
                        "test": [
                          39838699.78
                        ]
                      },
                      {
                        "learn": [
                          17737391.95
                        ],
                        "iteration": 794,
                        "passed_time": 10.30490921,
                        "remaining_time": 2.657240739,
                        "test": [
                          39836518.25
                        ]
                      },
                      {
                        "learn": [
                          17727893.73
                        ],
                        "iteration": 795,
                        "passed_time": 10.31327207,
                        "remaining_time": 2.643099876,
                        "test": [
                          39835754.46
                        ]
                      },
                      {
                        "learn": [
                          17720929.8
                        ],
                        "iteration": 796,
                        "passed_time": 10.32573212,
                        "remaining_time": 2.630017089,
                        "test": [
                          39830362.4
                        ]
                      },
                      {
                        "learn": [
                          17709701.21
                        ],
                        "iteration": 797,
                        "passed_time": 10.33716925,
                        "remaining_time": 2.616676928,
                        "test": [
                          39828350.23
                        ]
                      },
                      {
                        "learn": [
                          17692019.33
                        ],
                        "iteration": 798,
                        "passed_time": 10.34780877,
                        "remaining_time": 2.603140879,
                        "test": [
                          39819013.85
                        ]
                      },
                      {
                        "learn": [
                          17679359.59
                        ],
                        "iteration": 799,
                        "passed_time": 10.3573256,
                        "remaining_time": 2.5893314,
                        "test": [
                          39817787.93
                        ]
                      },
                      {
                        "learn": [
                          17663477.7
                        ],
                        "iteration": 800,
                        "passed_time": 10.36873824,
                        "remaining_time": 2.576003634,
                        "test": [
                          39796997.34
                        ]
                      },
                      {
                        "learn": [
                          17650743.38
                        ],
                        "iteration": 801,
                        "passed_time": 10.37930994,
                        "remaining_time": 2.562473026,
                        "test": [
                          39797397.04
                        ]
                      },
                      {
                        "learn": [
                          17641390.05
                        ],
                        "iteration": 802,
                        "passed_time": 10.38942999,
                        "remaining_time": 2.548838988,
                        "test": [
                          39801842.56
                        ]
                      },
                      {
                        "learn": [
                          17638016.03
                        ],
                        "iteration": 803,
                        "passed_time": 10.40096112,
                        "remaining_time": 2.535557687,
                        "test": [
                          39803194.31
                        ]
                      },
                      {
                        "learn": [
                          17624039.29
                        ],
                        "iteration": 804,
                        "passed_time": 10.41168095,
                        "remaining_time": 2.522084204,
                        "test": [
                          39802188.49
                        ]
                      },
                      {
                        "learn": [
                          17621001.01
                        ],
                        "iteration": 805,
                        "passed_time": 10.42116947,
                        "remaining_time": 2.508321186,
                        "test": [
                          39802364.44
                        ]
                      },
                      {
                        "learn": [
                          17618610.74
                        ],
                        "iteration": 806,
                        "passed_time": 10.43132407,
                        "remaining_time": 2.494728061,
                        "test": [
                          39802413.04
                        ]
                      },
                      {
                        "learn": [
                          17609284.08
                        ],
                        "iteration": 807,
                        "passed_time": 10.45238407,
                        "remaining_time": 2.483734828,
                        "test": [
                          39799570.71
                        ]
                      },
                      {
                        "learn": [
                          17607766.23
                        ],
                        "iteration": 808,
                        "passed_time": 10.47280263,
                        "remaining_time": 2.472565269,
                        "test": [
                          39797990.55
                        ]
                      },
                      {
                        "learn": [
                          17591568.2
                        ],
                        "iteration": 809,
                        "passed_time": 10.48406178,
                        "remaining_time": 2.459224368,
                        "test": [
                          39795022.02
                        ]
                      },
                      {
                        "learn": [
                          17577161.62
                        ],
                        "iteration": 810,
                        "passed_time": 10.49095596,
                        "remaining_time": 2.444871364,
                        "test": [
                          39792477.63
                        ]
                      },
                      {
                        "learn": [
                          17573554.71
                        ],
                        "iteration": 811,
                        "passed_time": 10.50091496,
                        "remaining_time": 2.431246322,
                        "test": [
                          39790677.06
                        ]
                      },
                      {
                        "learn": [
                          17569084.39
                        ],
                        "iteration": 812,
                        "passed_time": 10.51241448,
                        "remaining_time": 2.417984635,
                        "test": [
                          39781654.96
                        ]
                      },
                      {
                        "learn": [
                          17556076.11
                        ],
                        "iteration": 813,
                        "passed_time": 10.52265436,
                        "remaining_time": 2.404439447,
                        "test": [
                          39785939.85
                        ]
                      },
                      {
                        "learn": [
                          17536380.74
                        ],
                        "iteration": 814,
                        "passed_time": 10.53437197,
                        "remaining_time": 2.39123781,
                        "test": [
                          39777969.35
                        ]
                      },
                      {
                        "learn": [
                          17518216.01
                        ],
                        "iteration": 815,
                        "passed_time": 10.54431885,
                        "remaining_time": 2.377640526,
                        "test": [
                          39775203.75
                        ]
                      },
                      {
                        "learn": [
                          17506375.62
                        ],
                        "iteration": 816,
                        "passed_time": 10.55557213,
                        "remaining_time": 2.364344798,
                        "test": [
                          39753344.44
                        ]
                      },
                      {
                        "learn": [
                          17492056.27
                        ],
                        "iteration": 817,
                        "passed_time": 10.5698339,
                        "remaining_time": 2.351723434,
                        "test": [
                          39751390.86
                        ]
                      },
                      {
                        "learn": [
                          17476491.35
                        ],
                        "iteration": 818,
                        "passed_time": 10.58052709,
                        "remaining_time": 2.338309405,
                        "test": [
                          39737575.64
                        ]
                      },
                      {
                        "learn": [
                          17470053.6
                        ],
                        "iteration": 819,
                        "passed_time": 10.59058807,
                        "remaining_time": 2.324763235,
                        "test": [
                          39738963.87
                        ]
                      },
                      {
                        "learn": [
                          17468071.55
                        ],
                        "iteration": 820,
                        "passed_time": 10.59810901,
                        "remaining_time": 2.310671758,
                        "test": [
                          39737152.16
                        ]
                      },
                      {
                        "learn": [
                          17465086.5
                        ],
                        "iteration": 821,
                        "passed_time": 10.60732448,
                        "remaining_time": 2.296963209,
                        "test": [
                          39738972.27
                        ]
                      },
                      {
                        "learn": [
                          17459022.94
                        ],
                        "iteration": 822,
                        "passed_time": 10.61927791,
                        "remaining_time": 2.283854422,
                        "test": [
                          39741343.34
                        ]
                      },
                      {
                        "learn": [
                          17456114.68
                        ],
                        "iteration": 823,
                        "passed_time": 10.62830627,
                        "remaining_time": 2.270123669,
                        "test": [
                          39744977.42
                        ]
                      },
                      {
                        "learn": [
                          17452678.38
                        ],
                        "iteration": 824,
                        "passed_time": 10.64162361,
                        "remaining_time": 2.257314099,
                        "test": [
                          39743716.31
                        ]
                      },
                      {
                        "learn": [
                          17443382.57
                        ],
                        "iteration": 825,
                        "passed_time": 10.65038237,
                        "remaining_time": 2.243543018,
                        "test": [
                          39745078.49
                        ]
                      },
                      {
                        "learn": [
                          17429372.97
                        ],
                        "iteration": 826,
                        "passed_time": 10.65912581,
                        "remaining_time": 2.229780853,
                        "test": [
                          39743414.99
                        ]
                      },
                      {
                        "learn": [
                          17412147
                        ],
                        "iteration": 827,
                        "passed_time": 10.67014808,
                        "remaining_time": 2.216504191,
                        "test": [
                          39741678.8
                        ]
                      },
                      {
                        "learn": [
                          17405555.18
                        ],
                        "iteration": 828,
                        "passed_time": 10.68167884,
                        "remaining_time": 2.203337854,
                        "test": [
                          39739619.01
                        ]
                      },
                      {
                        "learn": [
                          17398757.38
                        ],
                        "iteration": 829,
                        "passed_time": 10.69297221,
                        "remaining_time": 2.190126838,
                        "test": [
                          39744065.49
                        ]
                      },
                      {
                        "learn": [
                          17389553.72
                        ],
                        "iteration": 830,
                        "passed_time": 10.70347418,
                        "remaining_time": 2.17675949,
                        "test": [
                          39733514.86
                        ]
                      },
                      {
                        "learn": [
                          17385229.01
                        ],
                        "iteration": 831,
                        "passed_time": 10.71460347,
                        "remaining_time": 2.1635257,
                        "test": [
                          39733819.5
                        ]
                      },
                      {
                        "learn": [
                          17369737.5
                        ],
                        "iteration": 832,
                        "passed_time": 10.72536223,
                        "remaining_time": 2.150222681,
                        "test": [
                          39732623.43
                        ]
                      },
                      {
                        "learn": [
                          17366646.68
                        ],
                        "iteration": 833,
                        "passed_time": 10.73689201,
                        "remaining_time": 2.137079225,
                        "test": [
                          39731245.2
                        ]
                      },
                      {
                        "learn": [
                          17339362.49
                        ],
                        "iteration": 834,
                        "passed_time": 10.74930125,
                        "remaining_time": 2.124113421,
                        "test": [
                          39741819.79
                        ]
                      },
                      {
                        "learn": [
                          17334216.96
                        ],
                        "iteration": 835,
                        "passed_time": 10.76042706,
                        "remaining_time": 2.110897175,
                        "test": [
                          39743978.62
                        ]
                      },
                      {
                        "learn": [
                          17324625.55
                        ],
                        "iteration": 836,
                        "passed_time": 10.77155429,
                        "remaining_time": 2.097686199,
                        "test": [
                          39744606.34
                        ]
                      },
                      {
                        "learn": [
                          17297722.62
                        ],
                        "iteration": 837,
                        "passed_time": 10.78312045,
                        "remaining_time": 2.084565052,
                        "test": [
                          39745503.76
                        ]
                      },
                      {
                        "learn": [
                          17288616.53
                        ],
                        "iteration": 838,
                        "passed_time": 10.79376033,
                        "remaining_time": 2.071269861,
                        "test": [
                          39739293.25
                        ]
                      },
                      {
                        "learn": [
                          17271372.07
                        ],
                        "iteration": 839,
                        "passed_time": 10.8032993,
                        "remaining_time": 2.057771295,
                        "test": [
                          39729952.36
                        ]
                      },
                      {
                        "learn": [
                          17259119.45
                        ],
                        "iteration": 840,
                        "passed_time": 10.81457438,
                        "remaining_time": 2.044610377,
                        "test": [
                          39728743.84
                        ]
                      },
                      {
                        "learn": [
                          17242836.44
                        ],
                        "iteration": 841,
                        "passed_time": 10.82526072,
                        "remaining_time": 2.03134346,
                        "test": [
                          39726691.86
                        ]
                      },
                      {
                        "learn": [
                          17227830.73
                        ],
                        "iteration": 842,
                        "passed_time": 10.83685174,
                        "remaining_time": 2.018251155,
                        "test": [
                          39734587.3
                        ]
                      },
                      {
                        "learn": [
                          17218295.5
                        ],
                        "iteration": 843,
                        "passed_time": 10.84645986,
                        "remaining_time": 2.004795897,
                        "test": [
                          39740311.02
                        ]
                      },
                      {
                        "learn": [
                          17212269.04
                        ],
                        "iteration": 844,
                        "passed_time": 10.85828646,
                        "remaining_time": 1.991756687,
                        "test": [
                          39741235.83
                        ]
                      },
                      {
                        "learn": [
                          17201457.07
                        ],
                        "iteration": 845,
                        "passed_time": 10.86572222,
                        "remaining_time": 1.977921065,
                        "test": [
                          39740503.85
                        ]
                      },
                      {
                        "learn": [
                          17181188.31
                        ],
                        "iteration": 846,
                        "passed_time": 10.87769889,
                        "remaining_time": 1.964920816,
                        "test": [
                          39747823.79
                        ]
                      },
                      {
                        "learn": [
                          17171499.88
                        ],
                        "iteration": 847,
                        "passed_time": 10.88830097,
                        "remaining_time": 1.95167659,
                        "test": [
                          39743938.56
                        ]
                      },
                      {
                        "learn": [
                          17168324.33
                        ],
                        "iteration": 848,
                        "passed_time": 10.89736028,
                        "remaining_time": 1.938164195,
                        "test": [
                          39740356.84
                        ]
                      },
                      {
                        "learn": [
                          17164066.81
                        ],
                        "iteration": 849,
                        "passed_time": 10.90902988,
                        "remaining_time": 1.925122919,
                        "test": [
                          39740135.99
                        ]
                      },
                      {
                        "learn": [
                          17158543.64
                        ],
                        "iteration": 850,
                        "passed_time": 10.91979481,
                        "remaining_time": 1.911926472,
                        "test": [
                          39741176.91
                        ]
                      },
                      {
                        "learn": [
                          17156535.86
                        ],
                        "iteration": 851,
                        "passed_time": 10.93028282,
                        "remaining_time": 1.898687626,
                        "test": [
                          39741090.08
                        ]
                      },
                      {
                        "learn": [
                          17145285.53
                        ],
                        "iteration": 852,
                        "passed_time": 10.93812981,
                        "remaining_time": 1.885000095,
                        "test": [
                          39739451.33
                        ]
                      },
                      {
                        "learn": [
                          17131092.36
                        ],
                        "iteration": 853,
                        "passed_time": 10.94937176,
                        "remaining_time": 1.871906648,
                        "test": [
                          39739683.73
                        ]
                      },
                      {
                        "learn": [
                          17116593.55
                        ],
                        "iteration": 854,
                        "passed_time": 10.95664695,
                        "remaining_time": 1.858144805,
                        "test": [
                          39740407.95
                        ]
                      },
                      {
                        "learn": [
                          17104547.07
                        ],
                        "iteration": 855,
                        "passed_time": 10.96899471,
                        "remaining_time": 1.845251447,
                        "test": [
                          39739660.82
                        ]
                      },
                      {
                        "learn": [
                          17101657.58
                        ],
                        "iteration": 856,
                        "passed_time": 10.97887852,
                        "remaining_time": 1.831948224,
                        "test": [
                          39738782.23
                        ]
                      },
                      {
                        "learn": [
                          17095161.73
                        ],
                        "iteration": 857,
                        "passed_time": 10.98732665,
                        "remaining_time": 1.818415366,
                        "test": [
                          39730434.11
                        ]
                      },
                      {
                        "learn": [
                          17093225.16
                        ],
                        "iteration": 858,
                        "passed_time": 10.99409655,
                        "remaining_time": 1.804618875,
                        "test": [
                          39729692.28
                        ]
                      },
                      {
                        "learn": [
                          17086019.98
                        ],
                        "iteration": 859,
                        "passed_time": 11.02106649,
                        "remaining_time": 1.794127103,
                        "test": [
                          39729315.62
                        ]
                      },
                      {
                        "learn": [
                          17081447.05
                        ],
                        "iteration": 860,
                        "passed_time": 11.04553061,
                        "remaining_time": 1.783192515,
                        "test": [
                          39728127.82
                        ]
                      },
                      {
                        "learn": [
                          17068489.91
                        ],
                        "iteration": 861,
                        "passed_time": 11.06828849,
                        "remaining_time": 1.771953378,
                        "test": [
                          39719573.96
                        ]
                      },
                      {
                        "learn": [
                          17056634.92
                        ],
                        "iteration": 862,
                        "passed_time": 11.08646809,
                        "remaining_time": 1.759960752,
                        "test": [
                          39722854.02
                        ]
                      },
                      {
                        "learn": [
                          17050441.3
                        ],
                        "iteration": 863,
                        "passed_time": 11.0985511,
                        "remaining_time": 1.746994154,
                        "test": [
                          39723355.36
                        ]
                      },
                      {
                        "learn": [
                          17048356.67
                        ],
                        "iteration": 864,
                        "passed_time": 11.10830364,
                        "remaining_time": 1.733665887,
                        "test": [
                          39721688.93
                        ]
                      },
                      {
                        "learn": [
                          17044614.53
                        ],
                        "iteration": 865,
                        "passed_time": 11.12199817,
                        "remaining_time": 1.720955837,
                        "test": [
                          39713289.59
                        ]
                      },
                      {
                        "learn": [
                          17035855.2
                        ],
                        "iteration": 866,
                        "passed_time": 11.13638889,
                        "remaining_time": 1.708350314,
                        "test": [
                          39709960.45
                        ]
                      },
                      {
                        "learn": [
                          17034973.27
                        ],
                        "iteration": 867,
                        "passed_time": 11.14583114,
                        "remaining_time": 1.694988145,
                        "test": [
                          39709706.44
                        ]
                      },
                      {
                        "learn": [
                          17027737.98
                        ],
                        "iteration": 868,
                        "passed_time": 11.15634588,
                        "remaining_time": 1.681796675,
                        "test": [
                          39712795.39
                        ]
                      },
                      {
                        "learn": [
                          17018995.24
                        ],
                        "iteration": 869,
                        "passed_time": 11.16586967,
                        "remaining_time": 1.668463285,
                        "test": [
                          39706428.04
                        ]
                      },
                      {
                        "learn": [
                          17014407.27
                        ],
                        "iteration": 870,
                        "passed_time": 11.17597218,
                        "remaining_time": 1.655224353,
                        "test": [
                          39702363.57
                        ]
                      },
                      {
                        "learn": [
                          17013379.32
                        ],
                        "iteration": 871,
                        "passed_time": 11.18706924,
                        "remaining_time": 1.642138604,
                        "test": [
                          39704516.05
                        ]
                      },
                      {
                        "learn": [
                          17004464.59
                        ],
                        "iteration": 872,
                        "passed_time": 11.19734444,
                        "remaining_time": 1.628937851,
                        "test": [
                          39705258.61
                        ]
                      },
                      {
                        "learn": [
                          16991125.96
                        ],
                        "iteration": 873,
                        "passed_time": 11.20723936,
                        "remaining_time": 1.61568897,
                        "test": [
                          39703892.85
                        ]
                      },
                      {
                        "learn": [
                          16976195.91
                        ],
                        "iteration": 874,
                        "passed_time": 11.21743035,
                        "remaining_time": 1.60249005,
                        "test": [
                          39709873.78
                        ]
                      },
                      {
                        "learn": [
                          16969377.52
                        ],
                        "iteration": 875,
                        "passed_time": 11.22859726,
                        "remaining_time": 1.589436141,
                        "test": [
                          39705871.74
                        ]
                      },
                      {
                        "learn": [
                          16968204.37
                        ],
                        "iteration": 876,
                        "passed_time": 11.23836854,
                        "remaining_time": 1.576190798,
                        "test": [
                          39705990.3
                        ]
                      },
                      {
                        "learn": [
                          16957356
                        ],
                        "iteration": 877,
                        "passed_time": 11.24803964,
                        "remaining_time": 1.562939449,
                        "test": [
                          39707183.07
                        ]
                      },
                      {
                        "learn": [
                          16949319.72
                        ],
                        "iteration": 878,
                        "passed_time": 11.2572424,
                        "remaining_time": 1.549631775,
                        "test": [
                          39706594.64
                        ]
                      },
                      {
                        "learn": [
                          16943826.19
                        ],
                        "iteration": 879,
                        "passed_time": 11.26985272,
                        "remaining_time": 1.536798098,
                        "test": [
                          39714050.55
                        ]
                      },
                      {
                        "learn": [
                          16931910.27
                        ],
                        "iteration": 880,
                        "passed_time": 11.28134633,
                        "remaining_time": 1.52381409,
                        "test": [
                          39706911.75
                        ]
                      },
                      {
                        "learn": [
                          16924021.32
                        ],
                        "iteration": 881,
                        "passed_time": 11.29034019,
                        "remaining_time": 1.510499028,
                        "test": [
                          39707769.12
                        ]
                      },
                      {
                        "learn": [
                          16914293.77
                        ],
                        "iteration": 882,
                        "passed_time": 11.3021964,
                        "remaining_time": 1.497573023,
                        "test": [
                          39704583.59
                        ]
                      },
                      {
                        "learn": [
                          16904093.99
                        ],
                        "iteration": 883,
                        "passed_time": 11.31184231,
                        "remaining_time": 1.484359398,
                        "test": [
                          39704023
                        ]
                      },
                      {
                        "learn": [
                          16900725.05
                        ],
                        "iteration": 884,
                        "passed_time": 11.3223225,
                        "remaining_time": 1.471262246,
                        "test": [
                          39703570.95
                        ]
                      },
                      {
                        "learn": [
                          16895239.88
                        ],
                        "iteration": 885,
                        "passed_time": 11.33154053,
                        "remaining_time": 1.458008601,
                        "test": [
                          39695950.53
                        ]
                      },
                      {
                        "learn": [
                          16884923.35
                        ],
                        "iteration": 886,
                        "passed_time": 11.34152473,
                        "remaining_time": 1.444861662,
                        "test": [
                          39694757.47
                        ]
                      },
                      {
                        "learn": [
                          16880117.89
                        ],
                        "iteration": 887,
                        "passed_time": 11.35125122,
                        "remaining_time": 1.431689343,
                        "test": [
                          39694614.61
                        ]
                      },
                      {
                        "learn": [
                          16877525.91
                        ],
                        "iteration": 888,
                        "passed_time": 11.36511559,
                        "remaining_time": 1.419041429,
                        "test": [
                          39694330.38
                        ]
                      },
                      {
                        "learn": [
                          16873275.44
                        ],
                        "iteration": 889,
                        "passed_time": 11.37358519,
                        "remaining_time": 1.405724012,
                        "test": [
                          39697573.05
                        ]
                      },
                      {
                        "learn": [
                          16858261.91
                        ],
                        "iteration": 890,
                        "passed_time": 11.3818488,
                        "remaining_time": 1.392392277,
                        "test": [
                          39694955.09
                        ]
                      },
                      {
                        "learn": [
                          16838796.12
                        ],
                        "iteration": 891,
                        "passed_time": 11.39371082,
                        "remaining_time": 1.379507589,
                        "test": [
                          39697479.88
                        ]
                      },
                      {
                        "learn": [
                          16837158.88
                        ],
                        "iteration": 892,
                        "passed_time": 11.40461669,
                        "remaining_time": 1.366510622,
                        "test": [
                          39694776.55
                        ]
                      },
                      {
                        "learn": [
                          16835684.03
                        ],
                        "iteration": 893,
                        "passed_time": 11.41160546,
                        "remaining_time": 1.353053891,
                        "test": [
                          39692203.84
                        ]
                      },
                      {
                        "learn": [
                          16821814.29
                        ],
                        "iteration": 894,
                        "passed_time": 11.42332521,
                        "remaining_time": 1.340166645,
                        "test": [
                          39696183.28
                        ]
                      },
                      {
                        "learn": [
                          16818078.77
                        ],
                        "iteration": 895,
                        "passed_time": 11.43567484,
                        "remaining_time": 1.327355116,
                        "test": [
                          39695793.62
                        ]
                      },
                      {
                        "learn": [
                          16808758.76
                        ],
                        "iteration": 896,
                        "passed_time": 11.44808458,
                        "remaining_time": 1.314551518,
                        "test": [
                          39702144.94
                        ]
                      },
                      {
                        "learn": [
                          16803603.27
                        ],
                        "iteration": 897,
                        "passed_time": 11.46173535,
                        "remaining_time": 1.301889762,
                        "test": [
                          39703002.94
                        ]
                      },
                      {
                        "learn": [
                          16794601.9
                        ],
                        "iteration": 898,
                        "passed_time": 11.48446256,
                        "remaining_time": 1.290245515,
                        "test": [
                          39707802.45
                        ]
                      },
                      {
                        "learn": [
                          16788159.7
                        ],
                        "iteration": 899,
                        "passed_time": 11.49485937,
                        "remaining_time": 1.277206597,
                        "test": [
                          39706050.61
                        ]
                      },
                      {
                        "learn": [
                          16784216.94
                        ],
                        "iteration": 900,
                        "passed_time": 11.50683103,
                        "remaining_time": 1.264346584,
                        "test": [
                          39704431.06
                        ]
                      },
                      {
                        "learn": [
                          16778502.21
                        ],
                        "iteration": 901,
                        "passed_time": 11.51895884,
                        "remaining_time": 1.251505506,
                        "test": [
                          39703552.38
                        ]
                      },
                      {
                        "learn": [
                          16769558.1
                        ],
                        "iteration": 902,
                        "passed_time": 11.52888039,
                        "remaining_time": 1.238429012,
                        "test": [
                          39709924.47
                        ]
                      },
                      {
                        "learn": [
                          16758266.25
                        ],
                        "iteration": 903,
                        "passed_time": 11.54047309,
                        "remaining_time": 1.225536965,
                        "test": [
                          39705631.2
                        ]
                      },
                      {
                        "learn": [
                          16752728.3
                        ],
                        "iteration": 904,
                        "passed_time": 11.55330325,
                        "remaining_time": 1.21277769,
                        "test": [
                          39700347.51
                        ]
                      },
                      {
                        "learn": [
                          16745502.15
                        ],
                        "iteration": 905,
                        "passed_time": 11.563369,
                        "remaining_time": 1.199731441,
                        "test": [
                          39700882.14
                        ]
                      },
                      {
                        "learn": [
                          16736242.87
                        ],
                        "iteration": 906,
                        "passed_time": 11.5724571,
                        "remaining_time": 1.186591522,
                        "test": [
                          39697099.84
                        ]
                      },
                      {
                        "learn": [
                          16729334.19
                        ],
                        "iteration": 907,
                        "passed_time": 11.5819579,
                        "remaining_time": 1.173502342,
                        "test": [
                          39692932.09
                        ]
                      },
                      {
                        "learn": [
                          16720271.9
                        ],
                        "iteration": 908,
                        "passed_time": 11.59231845,
                        "remaining_time": 1.160507128,
                        "test": [
                          39690580.23
                        ]
                      },
                      {
                        "learn": [
                          16710230.9
                        ],
                        "iteration": 909,
                        "passed_time": 11.60212661,
                        "remaining_time": 1.147463072,
                        "test": [
                          39690526.97
                        ]
                      },
                      {
                        "learn": [
                          16700448.02
                        ],
                        "iteration": 910,
                        "passed_time": 11.61468908,
                        "remaining_time": 1.134695201,
                        "test": [
                          39687752.39
                        ]
                      },
                      {
                        "learn": [
                          16699671.03
                        ],
                        "iteration": 911,
                        "passed_time": 11.62554491,
                        "remaining_time": 1.121763105,
                        "test": [
                          39689597.5
                        ]
                      },
                      {
                        "learn": [
                          16683368.63
                        ],
                        "iteration": 912,
                        "passed_time": 11.63720349,
                        "remaining_time": 1.108912052,
                        "test": [
                          39679087.4
                        ]
                      },
                      {
                        "learn": [
                          16677763.95
                        ],
                        "iteration": 913,
                        "passed_time": 11.64772297,
                        "remaining_time": 1.095956428,
                        "test": [
                          39680457.97
                        ]
                      },
                      {
                        "learn": [
                          16664145.01
                        ],
                        "iteration": 914,
                        "passed_time": 11.65560506,
                        "remaining_time": 1.082761126,
                        "test": [
                          39678257.56
                        ]
                      },
                      {
                        "learn": [
                          16655236.74
                        ],
                        "iteration": 915,
                        "passed_time": 11.66627803,
                        "remaining_time": 1.069833357,
                        "test": [
                          39681392.97
                        ]
                      },
                      {
                        "learn": [
                          16652205.05
                        ],
                        "iteration": 916,
                        "passed_time": 11.68337737,
                        "remaining_time": 1.057492172,
                        "test": [
                          39681306.24
                        ]
                      },
                      {
                        "learn": [
                          16644892.37
                        ],
                        "iteration": 917,
                        "passed_time": 11.69382721,
                        "remaining_time": 1.044546657,
                        "test": [
                          39679870.54
                        ]
                      },
                      {
                        "learn": [
                          16638153.65
                        ],
                        "iteration": 918,
                        "passed_time": 11.70437754,
                        "remaining_time": 1.031615431,
                        "test": [
                          39674294.17
                        ]
                      },
                      {
                        "learn": [
                          16618954.05
                        ],
                        "iteration": 919,
                        "passed_time": 11.71401504,
                        "remaining_time": 1.018610004,
                        "test": [
                          39676096.49
                        ]
                      },
                      {
                        "learn": [
                          16618044.26
                        ],
                        "iteration": 920,
                        "passed_time": 11.72291979,
                        "remaining_time": 1.005549037,
                        "test": [
                          39678080.56
                        ]
                      },
                      {
                        "learn": [
                          16596286.76
                        ],
                        "iteration": 921,
                        "passed_time": 11.73264121,
                        "remaining_time": 0.9925661765,
                        "test": [
                          39679414.47
                        ]
                      },
                      {
                        "learn": [
                          16591565.68
                        ],
                        "iteration": 922,
                        "passed_time": 11.74573632,
                        "remaining_time": 0.9798718276,
                        "test": [
                          39686653.24
                        ]
                      },
                      {
                        "learn": [
                          16589019.49
                        ],
                        "iteration": 923,
                        "passed_time": 11.7562884,
                        "remaining_time": 0.9669674445,
                        "test": [
                          39688058.23
                        ]
                      },
                      {
                        "learn": [
                          16574577
                        ],
                        "iteration": 924,
                        "passed_time": 11.76868365,
                        "remaining_time": 0.9542175934,
                        "test": [
                          39684504.67
                        ]
                      },
                      {
                        "learn": [
                          16561856.77
                        ],
                        "iteration": 925,
                        "passed_time": 11.77906197,
                        "remaining_time": 0.941307328,
                        "test": [
                          39691003.63
                        ]
                      },
                      {
                        "learn": [
                          16556582.79
                        ],
                        "iteration": 926,
                        "passed_time": 11.79031602,
                        "remaining_time": 0.9284714878,
                        "test": [
                          39691058.92
                        ]
                      },
                      {
                        "learn": [
                          16549082.94
                        ],
                        "iteration": 927,
                        "passed_time": 11.80108704,
                        "remaining_time": 0.9156015809,
                        "test": [
                          39689206.19
                        ]
                      },
                      {
                        "learn": [
                          16529157.76
                        ],
                        "iteration": 928,
                        "passed_time": 11.8080663,
                        "remaining_time": 0.9024464018,
                        "test": [
                          39698336.16
                        ]
                      },
                      {
                        "learn": [
                          16521689.53
                        ],
                        "iteration": 929,
                        "passed_time": 11.81977183,
                        "remaining_time": 0.8896602454,
                        "test": [
                          39693215.36
                        ]
                      },
                      {
                        "learn": [
                          16502790.1
                        ],
                        "iteration": 930,
                        "passed_time": 11.83027428,
                        "remaining_time": 0.8767872452,
                        "test": [
                          39693657.14
                        ]
                      },
                      {
                        "learn": [
                          16495338.19
                        ],
                        "iteration": 931,
                        "passed_time": 11.83994637,
                        "remaining_time": 0.8638587482,
                        "test": [
                          39698901.92
                        ]
                      },
                      {
                        "learn": [
                          16483677.68
                        ],
                        "iteration": 932,
                        "passed_time": 11.84991688,
                        "remaining_time": 0.8509586616,
                        "test": [
                          39697856.18
                        ]
                      },
                      {
                        "learn": [
                          16476363.47
                        ],
                        "iteration": 933,
                        "passed_time": 11.86088351,
                        "remaining_time": 0.8381352375,
                        "test": [
                          39697083.18
                        ]
                      },
                      {
                        "learn": [
                          16472918.34
                        ],
                        "iteration": 934,
                        "passed_time": 11.87269271,
                        "remaining_time": 0.8253743593,
                        "test": [
                          39695710.8
                        ]
                      },
                      {
                        "learn": [
                          16470437.45
                        ],
                        "iteration": 935,
                        "passed_time": 11.88613759,
                        "remaining_time": 0.8127273567,
                        "test": [
                          39695159.93
                        ]
                      },
                      {
                        "learn": [
                          16463364.59
                        ],
                        "iteration": 936,
                        "passed_time": 11.89604374,
                        "remaining_time": 0.7998407212,
                        "test": [
                          39696908.53
                        ]
                      },
                      {
                        "learn": [
                          16448077.4
                        ],
                        "iteration": 937,
                        "passed_time": 11.90828162,
                        "remaining_time": 0.7871145636,
                        "test": [
                          39692813.08
                        ]
                      },
                      {
                        "learn": [
                          16442676.01
                        ],
                        "iteration": 938,
                        "passed_time": 11.91888868,
                        "remaining_time": 0.774283503,
                        "test": [
                          39686886.03
                        ]
                      },
                      {
                        "learn": [
                          16441758.69
                        ],
                        "iteration": 939,
                        "passed_time": 11.92994978,
                        "remaining_time": 0.7614861562,
                        "test": [
                          39688974.48
                        ]
                      },
                      {
                        "learn": [
                          16437620.11
                        ],
                        "iteration": 940,
                        "passed_time": 11.93776615,
                        "remaining_time": 0.748489057,
                        "test": [
                          39696008.65
                        ]
                      },
                      {
                        "learn": [
                          16434559
                        ],
                        "iteration": 941,
                        "passed_time": 11.94482659,
                        "remaining_time": 0.7354564145,
                        "test": [
                          39694804.55
                        ]
                      },
                      {
                        "learn": [
                          16426173.22
                        ],
                        "iteration": 942,
                        "passed_time": 11.95638107,
                        "remaining_time": 0.7227080817,
                        "test": [
                          39691029.67
                        ]
                      },
                      {
                        "learn": [
                          16421943
                        ],
                        "iteration": 943,
                        "passed_time": 11.96658035,
                        "remaining_time": 0.709881885,
                        "test": [
                          39691594.19
                        ]
                      },
                      {
                        "learn": [
                          16409859.42
                        ],
                        "iteration": 944,
                        "passed_time": 11.97605225,
                        "remaining_time": 0.6970189142,
                        "test": [
                          39695133.11
                        ]
                      },
                      {
                        "learn": [
                          16399803.11
                        ],
                        "iteration": 945,
                        "passed_time": 11.9858926,
                        "remaining_time": 0.6841841439,
                        "test": [
                          39694370.08
                        ]
                      },
                      {
                        "learn": [
                          16394410.02
                        ],
                        "iteration": 946,
                        "passed_time": 11.99634572,
                        "remaining_time": 0.671389993,
                        "test": [
                          39694685.94
                        ]
                      },
                      {
                        "learn": [
                          16383060.59
                        ],
                        "iteration": 947,
                        "passed_time": 12.0079855,
                        "remaining_time": 0.6586658713,
                        "test": [
                          39697571.25
                        ]
                      },
                      {
                        "learn": [
                          16381929.37
                        ],
                        "iteration": 948,
                        "passed_time": 12.01941549,
                        "remaining_time": 0.6459327609,
                        "test": [
                          39698684.76
                        ]
                      },
                      {
                        "learn": [
                          16377154.19
                        ],
                        "iteration": 949,
                        "passed_time": 12.06572914,
                        "remaining_time": 0.6350383755,
                        "test": [
                          39695621.43
                        ]
                      },
                      {
                        "learn": [
                          16371719.11
                        ],
                        "iteration": 950,
                        "passed_time": 12.08689026,
                        "remaining_time": 0.6227735253,
                        "test": [
                          39698427.31
                        ]
                      },
                      {
                        "learn": [
                          16361455.08
                        ],
                        "iteration": 951,
                        "passed_time": 12.11069817,
                        "remaining_time": 0.610623437,
                        "test": [
                          39695691.61
                        ]
                      },
                      {
                        "learn": [
                          16350597.44
                        ],
                        "iteration": 952,
                        "passed_time": 12.12232718,
                        "remaining_time": 0.5978482452,
                        "test": [
                          39687401.44
                        ]
                      },
                      {
                        "learn": [
                          16338368.61
                        ],
                        "iteration": 953,
                        "passed_time": 12.13052504,
                        "remaining_time": 0.5849100122,
                        "test": [
                          39683689.33
                        ]
                      },
                      {
                        "learn": [
                          16334326.46
                        ],
                        "iteration": 954,
                        "passed_time": 12.14200534,
                        "remaining_time": 0.5721363775,
                        "test": [
                          39675652.37
                        ]
                      },
                      {
                        "learn": [
                          16330179.93
                        ],
                        "iteration": 955,
                        "passed_time": 12.1532979,
                        "remaining_time": 0.5593568072,
                        "test": [
                          39674305.39
                        ]
                      },
                      {
                        "learn": [
                          16325605.97
                        ],
                        "iteration": 956,
                        "passed_time": 12.16233022,
                        "remaining_time": 0.5464787873,
                        "test": [
                          39674203.43
                        ]
                      },
                      {
                        "learn": [
                          16308331.93
                        ],
                        "iteration": 957,
                        "passed_time": 12.17302262,
                        "remaining_time": 0.5336815763,
                        "test": [
                          39674416.93
                        ]
                      },
                      {
                        "learn": [
                          16292235.49
                        ],
                        "iteration": 958,
                        "passed_time": 12.17993424,
                        "remaining_time": 0.5207271158,
                        "test": [
                          39674672.59
                        ]
                      },
                      {
                        "learn": [
                          16281483.14
                        ],
                        "iteration": 959,
                        "passed_time": 12.19107775,
                        "remaining_time": 0.5079615727,
                        "test": [
                          39671447.81
                        ]
                      },
                      {
                        "learn": [
                          16272496.28
                        ],
                        "iteration": 960,
                        "passed_time": 12.20045032,
                        "remaining_time": 0.4951275365,
                        "test": [
                          39661802.86
                        ]
                      },
                      {
                        "learn": [
                          16265794.64
                        ],
                        "iteration": 961,
                        "passed_time": 12.21086701,
                        "remaining_time": 0.4823419399,
                        "test": [
                          39658996.91
                        ]
                      },
                      {
                        "learn": [
                          16257646.12
                        ],
                        "iteration": 962,
                        "passed_time": 12.22176773,
                        "remaining_time": 0.4695798608,
                        "test": [
                          39655742.38
                        ]
                      },
                      {
                        "learn": [
                          16251571.36
                        ],
                        "iteration": 963,
                        "passed_time": 12.23208358,
                        "remaining_time": 0.4567998017,
                        "test": [
                          39655147.23
                        ]
                      },
                      {
                        "learn": [
                          16245626.46
                        ],
                        "iteration": 964,
                        "passed_time": 12.24172481,
                        "remaining_time": 0.4440003817,
                        "test": [
                          39651464.83
                        ]
                      },
                      {
                        "learn": [
                          16237469.79
                        ],
                        "iteration": 965,
                        "passed_time": 12.25323577,
                        "remaining_time": 0.4312733088,
                        "test": [
                          39652398.57
                        ]
                      },
                      {
                        "learn": [
                          16231833.32
                        ],
                        "iteration": 966,
                        "passed_time": 12.26340144,
                        "remaining_time": 0.4185028414,
                        "test": [
                          39650678.93
                        ]
                      },
                      {
                        "learn": [
                          16227005.97
                        ],
                        "iteration": 967,
                        "passed_time": 12.27076429,
                        "remaining_time": 0.4056451006,
                        "test": [
                          39653532.88
                        ]
                      },
                      {
                        "learn": [
                          16216179.9
                        ],
                        "iteration": 968,
                        "passed_time": 12.28204178,
                        "remaining_time": 0.3929239373,
                        "test": [
                          39653745.48
                        ]
                      },
                      {
                        "learn": [
                          16204381.93
                        ],
                        "iteration": 969,
                        "passed_time": 12.29343534,
                        "remaining_time": 0.3802093405,
                        "test": [
                          39651951.37
                        ]
                      },
                      {
                        "learn": [
                          16196189.05
                        ],
                        "iteration": 970,
                        "passed_time": 12.3022427,
                        "remaining_time": 0.3674202247,
                        "test": [
                          39651171.72
                        ]
                      },
                      {
                        "learn": [
                          16191246.89
                        ],
                        "iteration": 971,
                        "passed_time": 12.31518931,
                        "remaining_time": 0.3547585399,
                        "test": [
                          39652129.32
                        ]
                      },
                      {
                        "learn": [
                          16185308.67
                        ],
                        "iteration": 972,
                        "passed_time": 12.3258502,
                        "remaining_time": 0.342032842,
                        "test": [
                          39653076.57
                        ]
                      },
                      {
                        "learn": [
                          16179331.24
                        ],
                        "iteration": 973,
                        "passed_time": 12.33655584,
                        "remaining_time": 0.3293125788,
                        "test": [
                          39650727.83
                        ]
                      },
                      {
                        "learn": [
                          16171514.48
                        ],
                        "iteration": 974,
                        "passed_time": 12.34785519,
                        "remaining_time": 0.3166116714,
                        "test": [
                          39649769.69
                        ]
                      },
                      {
                        "learn": [
                          16154988.09
                        ],
                        "iteration": 975,
                        "passed_time": 12.35825937,
                        "remaining_time": 0.3038916239,
                        "test": [
                          39647619.67
                        ]
                      },
                      {
                        "learn": [
                          16141069.79
                        ],
                        "iteration": 976,
                        "passed_time": 12.36726742,
                        "remaining_time": 0.2911434499,
                        "test": [
                          39643049.7
                        ]
                      },
                      {
                        "learn": [
                          16135141.03
                        ],
                        "iteration": 977,
                        "passed_time": 12.37861019,
                        "remaining_time": 0.2784554439,
                        "test": [
                          39641878.53
                        ]
                      },
                      {
                        "learn": [
                          16130399.56
                        ],
                        "iteration": 978,
                        "passed_time": 12.38911515,
                        "remaining_time": 0.2657522146,
                        "test": [
                          39640316.07
                        ]
                      },
                      {
                        "learn": [
                          16125009.14
                        ],
                        "iteration": 979,
                        "passed_time": 12.39903341,
                        "remaining_time": 0.2530414983,
                        "test": [
                          39640314.01
                        ]
                      },
                      {
                        "learn": [
                          16116525.92
                        ],
                        "iteration": 980,
                        "passed_time": 12.40864578,
                        "remaining_time": 0.2403305503,
                        "test": [
                          39642615.03
                        ]
                      },
                      {
                        "learn": [
                          16107607.07
                        ],
                        "iteration": 981,
                        "passed_time": 12.41913934,
                        "remaining_time": 0.2276420653,
                        "test": [
                          39640305.23
                        ]
                      },
                      {
                        "learn": [
                          16099422.63
                        ],
                        "iteration": 982,
                        "passed_time": 12.42969101,
                        "remaining_time": 0.214959051,
                        "test": [
                          39638921.52
                        ]
                      },
                      {
                        "learn": [
                          16088639.7
                        ],
                        "iteration": 983,
                        "passed_time": 12.44436699,
                        "remaining_time": 0.2023474308,
                        "test": [
                          39637830.4
                        ]
                      },
                      {
                        "learn": [
                          16078200.85
                        ],
                        "iteration": 984,
                        "passed_time": 12.45594396,
                        "remaining_time": 0.1896844257,
                        "test": [
                          39636796.51
                        ]
                      },
                      {
                        "learn": [
                          16070779.94
                        ],
                        "iteration": 985,
                        "passed_time": 12.46508479,
                        "remaining_time": 0.1769890336,
                        "test": [
                          39631132
                        ]
                      },
                      {
                        "learn": [
                          16063249.98
                        ],
                        "iteration": 986,
                        "passed_time": 12.48126491,
                        "remaining_time": 0.1643935601,
                        "test": [
                          39634772
                        ]
                      },
                      {
                        "learn": [
                          16054215.21
                        ],
                        "iteration": 987,
                        "passed_time": 12.5025945,
                        "remaining_time": 0.1518533745,
                        "test": [
                          39640242.07
                        ]
                      },
                      {
                        "learn": [
                          16052649.89
                        ],
                        "iteration": 988,
                        "passed_time": 12.51652642,
                        "remaining_time": 0.1392131352,
                        "test": [
                          39638205.58
                        ]
                      },
                      {
                        "learn": [
                          16047156.46
                        ],
                        "iteration": 989,
                        "passed_time": 12.52785569,
                        "remaining_time": 0.1265439969,
                        "test": [
                          39636313.55
                        ]
                      },
                      {
                        "learn": [
                          16045056.56
                        ],
                        "iteration": 990,
                        "passed_time": 12.53855122,
                        "remaining_time": 0.1138718072,
                        "test": [
                          39636107.82
                        ]
                      },
                      {
                        "learn": [
                          16044373.3
                        ],
                        "iteration": 991,
                        "passed_time": 12.55277016,
                        "remaining_time": 0.1012320174,
                        "test": [
                          39636648.39
                        ]
                      },
                      {
                        "learn": [
                          16038465.67
                        ],
                        "iteration": 992,
                        "passed_time": 12.56475361,
                        "remaining_time": 0.08857328828,
                        "test": [
                          39635328.17
                        ]
                      },
                      {
                        "learn": [
                          16027823.32
                        ],
                        "iteration": 993,
                        "passed_time": 12.57665174,
                        "remaining_time": 0.07591540286,
                        "test": [
                          39632009.56
                        ]
                      },
                      {
                        "learn": [
                          16024579.19
                        ],
                        "iteration": 994,
                        "passed_time": 12.58894751,
                        "remaining_time": 0.06326104276,
                        "test": [
                          39631865.7
                        ]
                      },
                      {
                        "learn": [
                          16022264.06
                        ],
                        "iteration": 995,
                        "passed_time": 12.59699095,
                        "remaining_time": 0.05059032509,
                        "test": [
                          39632585.42
                        ]
                      },
                      {
                        "learn": [
                          16020142.11
                        ],
                        "iteration": 996,
                        "passed_time": 12.62025347,
                        "remaining_time": 0.03797468448,
                        "test": [
                          39632274.64
                        ]
                      },
                      {
                        "learn": [
                          16010342.92
                        ],
                        "iteration": 997,
                        "passed_time": 12.63805042,
                        "remaining_time": 0.02532675435,
                        "test": [
                          39632704.76
                        ]
                      },
                      {
                        "learn": [
                          15993199.77
                        ],
                        "iteration": 998,
                        "passed_time": 12.654365,
                        "remaining_time": 0.01266703203,
                        "test": [
                          39636623.25
                        ]
                      },
                      {
                        "learn": [
                          15984283.37
                        ],
                        "iteration": 999,
                        "passed_time": 12.67452514,
                        "remaining_time": 0,
                        "test": [
                          39633243.22
                        ]
                      }
                    ],
                    "meta": {
                      "test_sets": [
                        "test"
                      ],
                      "test_metrics": [
                        {
                          "best_value": "Min",
                          "name": "RMSE"
                        }
                      ],
                      "learn_metrics": [
                        {
                          "best_value": "Min",
                          "name": "RMSE"
                        }
                      ],
                      "launch_mode": "Train",
                      "parameters": "",
                      "iteration_count": 1000,
                      "learn_sets": [
                        "learn"
                      ],
                      "name": "experiment"
                    }
                  }
                }
              }
            },
            "layout": "IPY_MODEL_4fdd75d1f49941b8b39be7983e25cd41"
          }
        }
      }
    }
  },
  "cells": [
    {
      "cell_type": "markdown",
      "source": [
        "Импортирование библиотек"
      ],
      "metadata": {
        "id": "nP1ZjUymZ3cM"
      }
    },
    {
      "cell_type": "code",
      "source": [
        "!pip install catboost"
      ],
      "metadata": {
        "colab": {
          "base_uri": "https://localhost:8080/"
        },
        "id": "0dAbLkvnviCc",
        "outputId": "538eb36b-c558-406e-c590-8d6436a1825f"
      },
      "execution_count": null,
      "outputs": [
        {
          "output_type": "stream",
          "name": "stdout",
          "text": [
            "Collecting catboost\n",
            "  Downloading catboost-1.2.3-cp310-cp310-manylinux2014_x86_64.whl (98.5 MB)\n",
            "\u001b[2K     \u001b[90m━━━━━━━━━━━━━━━━━━━━━━━━━━━━━━━━━━━━━━━━\u001b[0m \u001b[32m98.5/98.5 MB\u001b[0m \u001b[31m2.8 MB/s\u001b[0m eta \u001b[36m0:00:00\u001b[0m\n",
            "\u001b[?25hRequirement already satisfied: graphviz in /usr/local/lib/python3.10/dist-packages (from catboost) (0.20.1)\n",
            "Requirement already satisfied: matplotlib in /usr/local/lib/python3.10/dist-packages (from catboost) (3.7.1)\n",
            "Requirement already satisfied: numpy>=1.16.0 in /usr/local/lib/python3.10/dist-packages (from catboost) (1.25.2)\n",
            "Requirement already satisfied: pandas>=0.24 in /usr/local/lib/python3.10/dist-packages (from catboost) (1.5.3)\n",
            "Requirement already satisfied: scipy in /usr/local/lib/python3.10/dist-packages (from catboost) (1.11.4)\n",
            "Requirement already satisfied: plotly in /usr/local/lib/python3.10/dist-packages (from catboost) (5.15.0)\n",
            "Requirement already satisfied: six in /usr/local/lib/python3.10/dist-packages (from catboost) (1.16.0)\n",
            "Requirement already satisfied: python-dateutil>=2.8.1 in /usr/local/lib/python3.10/dist-packages (from pandas>=0.24->catboost) (2.8.2)\n",
            "Requirement already satisfied: pytz>=2020.1 in /usr/local/lib/python3.10/dist-packages (from pandas>=0.24->catboost) (2023.4)\n",
            "Requirement already satisfied: contourpy>=1.0.1 in /usr/local/lib/python3.10/dist-packages (from matplotlib->catboost) (1.2.0)\n",
            "Requirement already satisfied: cycler>=0.10 in /usr/local/lib/python3.10/dist-packages (from matplotlib->catboost) (0.12.1)\n",
            "Requirement already satisfied: fonttools>=4.22.0 in /usr/local/lib/python3.10/dist-packages (from matplotlib->catboost) (4.49.0)\n",
            "Requirement already satisfied: kiwisolver>=1.0.1 in /usr/local/lib/python3.10/dist-packages (from matplotlib->catboost) (1.4.5)\n",
            "Requirement already satisfied: packaging>=20.0 in /usr/local/lib/python3.10/dist-packages (from matplotlib->catboost) (24.0)\n",
            "Requirement already satisfied: pillow>=6.2.0 in /usr/local/lib/python3.10/dist-packages (from matplotlib->catboost) (9.4.0)\n",
            "Requirement already satisfied: pyparsing>=2.3.1 in /usr/local/lib/python3.10/dist-packages (from matplotlib->catboost) (3.1.2)\n",
            "Requirement already satisfied: tenacity>=6.2.0 in /usr/local/lib/python3.10/dist-packages (from plotly->catboost) (8.2.3)\n",
            "Installing collected packages: catboost\n",
            "Successfully installed catboost-1.2.3\n"
          ]
        }
      ]
    },
    {
      "cell_type": "code",
      "execution_count": null,
      "metadata": {
        "id": "YiiqyhpK5-i6"
      },
      "outputs": [],
      "source": [
        "import pandas as pd\n",
        "import matplotlib.pyplot as plt\n",
        "import seaborn as sns\n",
        "from sklearn.model_selection import train_test_split\n",
        "from catboost import CatBoostRegressor, Pool, cv"
      ]
    },
    {
      "cell_type": "markdown",
      "source": [
        "Подключение датасета и вывод общей информации"
      ],
      "metadata": {
        "id": "Pcnnr-POZ8U3"
      }
    },
    {
      "cell_type": "code",
      "source": [
        "!gdown 1Y_LmSFF-v0WmF5HJknoo1_2UjrJuzbZV # временная ошибка"
      ],
      "metadata": {
        "id": "poicrFoCWAsl",
        "outputId": "50734c5a-1e4d-4a90-de1c-4ad045391fe1",
        "colab": {
          "base_uri": "https://localhost:8080/"
        }
      },
      "execution_count": null,
      "outputs": [
        {
          "output_type": "stream",
          "name": "stdout",
          "text": [
            "Downloading...\n",
            "From: https://drive.google.com/uc?id=1Y_LmSFF-v0WmF5HJknoo1_2UjrJuzbZV\n",
            "To: /content/data.csv\n",
            "\r  0% 0.00/2.21M [00:00<?, ?B/s]\r100% 2.21M/2.21M [00:00<00:00, 37.6MB/s]\n"
          ]
        }
      ]
    },
    {
      "cell_type": "code",
      "source": [
        "df = pd.read_csv('data.csv')"
      ],
      "metadata": {
        "id": "yzFu98l-66zR"
      },
      "execution_count": null,
      "outputs": []
    },
    {
      "cell_type": "code",
      "source": [
        "df.head(10)"
      ],
      "metadata": {
        "colab": {
          "base_uri": "https://localhost:8080/",
          "height": 554
        },
        "id": "30FDGaHL7CW5",
        "outputId": "feba4da8-0958-4007-e0f0-eaf2654dc3ae"
      },
      "execution_count": null,
      "outputs": [
        {
          "output_type": "execute_result",
          "data": {
            "text/plain": [
              "        Price Apartment type   Metro station  Minutes to metro         Region  \\\n",
              "0   6300000.0      Secondary         Опалиха               6.0  Moscow region   \n",
              "1   9000000.0      Secondary         Павшино               2.0  Moscow region   \n",
              "2  11090000.0      Secondary        Мякинино              14.0  Moscow region   \n",
              "3   8300000.0      Secondary        Строгино               8.0  Moscow region   \n",
              "4   6450000.0      Secondary         Опалиха               6.0  Moscow region   \n",
              "5   7150000.0      Secondary         Опалиха               6.0  Moscow region   \n",
              "6   7400000.0      Secondary        Нахабино              11.0  Moscow region   \n",
              "7   7500000.0      Secondary        Строгино              27.0  Moscow region   \n",
              "8   7800000.0      Secondary   Красногорская               6.0  Moscow region   \n",
              "9   7999999.0      Secondary       Тушинская              35.0  Moscow region   \n",
              "\n",
              "   Number of rooms  Area  Living area  Kitchen area  Floor  Number of floors  \\\n",
              "0              1.0  30.6         11.1           8.5   25.0                25   \n",
              "1              1.0  49.2         20.0          10.0    6.0                15   \n",
              "2              1.0  44.7         16.2          13.1   10.0                25   \n",
              "3              1.0  35.1         16.0          11.0   12.0                33   \n",
              "4              1.0  37.7         15.2           4.0    5.0                 5   \n",
              "5              1.0  38.4         18.0           8.0    8.0                18   \n",
              "6              1.0  33.0         16.0           8.0    7.0                 7   \n",
              "7              1.0  25.0         14.8           8.7   16.0                34   \n",
              "8              1.0  41.8         18.0          10.0    6.0                17   \n",
              "9              1.0  44.0         19.0          11.0   11.0                24   \n",
              "\n",
              "                  Renovation  \n",
              "0                   Cosmetic  \n",
              "1  European-style renovation  \n",
              "2                   Cosmetic  \n",
              "3  European-style renovation  \n",
              "4         Without renovation  \n",
              "5  European-style renovation  \n",
              "6  European-style renovation  \n",
              "7  European-style renovation  \n",
              "8                   Cosmetic  \n",
              "9                   Designer  "
            ],
            "text/html": [
              "\n",
              "  <div id=\"df-e420ea1a-5a16-4eae-992e-b5676219d2a3\" class=\"colab-df-container\">\n",
              "    <div>\n",
              "<style scoped>\n",
              "    .dataframe tbody tr th:only-of-type {\n",
              "        vertical-align: middle;\n",
              "    }\n",
              "\n",
              "    .dataframe tbody tr th {\n",
              "        vertical-align: top;\n",
              "    }\n",
              "\n",
              "    .dataframe thead th {\n",
              "        text-align: right;\n",
              "    }\n",
              "</style>\n",
              "<table border=\"1\" class=\"dataframe\">\n",
              "  <thead>\n",
              "    <tr style=\"text-align: right;\">\n",
              "      <th></th>\n",
              "      <th>Price</th>\n",
              "      <th>Apartment type</th>\n",
              "      <th>Metro station</th>\n",
              "      <th>Minutes to metro</th>\n",
              "      <th>Region</th>\n",
              "      <th>Number of rooms</th>\n",
              "      <th>Area</th>\n",
              "      <th>Living area</th>\n",
              "      <th>Kitchen area</th>\n",
              "      <th>Floor</th>\n",
              "      <th>Number of floors</th>\n",
              "      <th>Renovation</th>\n",
              "    </tr>\n",
              "  </thead>\n",
              "  <tbody>\n",
              "    <tr>\n",
              "      <th>0</th>\n",
              "      <td>6300000.0</td>\n",
              "      <td>Secondary</td>\n",
              "      <td>Опалиха</td>\n",
              "      <td>6.0</td>\n",
              "      <td>Moscow region</td>\n",
              "      <td>1.0</td>\n",
              "      <td>30.6</td>\n",
              "      <td>11.1</td>\n",
              "      <td>8.5</td>\n",
              "      <td>25.0</td>\n",
              "      <td>25</td>\n",
              "      <td>Cosmetic</td>\n",
              "    </tr>\n",
              "    <tr>\n",
              "      <th>1</th>\n",
              "      <td>9000000.0</td>\n",
              "      <td>Secondary</td>\n",
              "      <td>Павшино</td>\n",
              "      <td>2.0</td>\n",
              "      <td>Moscow region</td>\n",
              "      <td>1.0</td>\n",
              "      <td>49.2</td>\n",
              "      <td>20.0</td>\n",
              "      <td>10.0</td>\n",
              "      <td>6.0</td>\n",
              "      <td>15</td>\n",
              "      <td>European-style renovation</td>\n",
              "    </tr>\n",
              "    <tr>\n",
              "      <th>2</th>\n",
              "      <td>11090000.0</td>\n",
              "      <td>Secondary</td>\n",
              "      <td>Мякинино</td>\n",
              "      <td>14.0</td>\n",
              "      <td>Moscow region</td>\n",
              "      <td>1.0</td>\n",
              "      <td>44.7</td>\n",
              "      <td>16.2</td>\n",
              "      <td>13.1</td>\n",
              "      <td>10.0</td>\n",
              "      <td>25</td>\n",
              "      <td>Cosmetic</td>\n",
              "    </tr>\n",
              "    <tr>\n",
              "      <th>3</th>\n",
              "      <td>8300000.0</td>\n",
              "      <td>Secondary</td>\n",
              "      <td>Строгино</td>\n",
              "      <td>8.0</td>\n",
              "      <td>Moscow region</td>\n",
              "      <td>1.0</td>\n",
              "      <td>35.1</td>\n",
              "      <td>16.0</td>\n",
              "      <td>11.0</td>\n",
              "      <td>12.0</td>\n",
              "      <td>33</td>\n",
              "      <td>European-style renovation</td>\n",
              "    </tr>\n",
              "    <tr>\n",
              "      <th>4</th>\n",
              "      <td>6450000.0</td>\n",
              "      <td>Secondary</td>\n",
              "      <td>Опалиха</td>\n",
              "      <td>6.0</td>\n",
              "      <td>Moscow region</td>\n",
              "      <td>1.0</td>\n",
              "      <td>37.7</td>\n",
              "      <td>15.2</td>\n",
              "      <td>4.0</td>\n",
              "      <td>5.0</td>\n",
              "      <td>5</td>\n",
              "      <td>Without renovation</td>\n",
              "    </tr>\n",
              "    <tr>\n",
              "      <th>5</th>\n",
              "      <td>7150000.0</td>\n",
              "      <td>Secondary</td>\n",
              "      <td>Опалиха</td>\n",
              "      <td>6.0</td>\n",
              "      <td>Moscow region</td>\n",
              "      <td>1.0</td>\n",
              "      <td>38.4</td>\n",
              "      <td>18.0</td>\n",
              "      <td>8.0</td>\n",
              "      <td>8.0</td>\n",
              "      <td>18</td>\n",
              "      <td>European-style renovation</td>\n",
              "    </tr>\n",
              "    <tr>\n",
              "      <th>6</th>\n",
              "      <td>7400000.0</td>\n",
              "      <td>Secondary</td>\n",
              "      <td>Нахабино</td>\n",
              "      <td>11.0</td>\n",
              "      <td>Moscow region</td>\n",
              "      <td>1.0</td>\n",
              "      <td>33.0</td>\n",
              "      <td>16.0</td>\n",
              "      <td>8.0</td>\n",
              "      <td>7.0</td>\n",
              "      <td>7</td>\n",
              "      <td>European-style renovation</td>\n",
              "    </tr>\n",
              "    <tr>\n",
              "      <th>7</th>\n",
              "      <td>7500000.0</td>\n",
              "      <td>Secondary</td>\n",
              "      <td>Строгино</td>\n",
              "      <td>27.0</td>\n",
              "      <td>Moscow region</td>\n",
              "      <td>1.0</td>\n",
              "      <td>25.0</td>\n",
              "      <td>14.8</td>\n",
              "      <td>8.7</td>\n",
              "      <td>16.0</td>\n",
              "      <td>34</td>\n",
              "      <td>European-style renovation</td>\n",
              "    </tr>\n",
              "    <tr>\n",
              "      <th>8</th>\n",
              "      <td>7800000.0</td>\n",
              "      <td>Secondary</td>\n",
              "      <td>Красногорская</td>\n",
              "      <td>6.0</td>\n",
              "      <td>Moscow region</td>\n",
              "      <td>1.0</td>\n",
              "      <td>41.8</td>\n",
              "      <td>18.0</td>\n",
              "      <td>10.0</td>\n",
              "      <td>6.0</td>\n",
              "      <td>17</td>\n",
              "      <td>Cosmetic</td>\n",
              "    </tr>\n",
              "    <tr>\n",
              "      <th>9</th>\n",
              "      <td>7999999.0</td>\n",
              "      <td>Secondary</td>\n",
              "      <td>Тушинская</td>\n",
              "      <td>35.0</td>\n",
              "      <td>Moscow region</td>\n",
              "      <td>1.0</td>\n",
              "      <td>44.0</td>\n",
              "      <td>19.0</td>\n",
              "      <td>11.0</td>\n",
              "      <td>11.0</td>\n",
              "      <td>24</td>\n",
              "      <td>Designer</td>\n",
              "    </tr>\n",
              "  </tbody>\n",
              "</table>\n",
              "</div>\n",
              "    <div class=\"colab-df-buttons\">\n",
              "\n",
              "  <div class=\"colab-df-container\">\n",
              "    <button class=\"colab-df-convert\" onclick=\"convertToInteractive('df-e420ea1a-5a16-4eae-992e-b5676219d2a3')\"\n",
              "            title=\"Convert this dataframe to an interactive table.\"\n",
              "            style=\"display:none;\">\n",
              "\n",
              "  <svg xmlns=\"http://www.w3.org/2000/svg\" height=\"24px\" viewBox=\"0 -960 960 960\">\n",
              "    <path d=\"M120-120v-720h720v720H120Zm60-500h600v-160H180v160Zm220 220h160v-160H400v160Zm0 220h160v-160H400v160ZM180-400h160v-160H180v160Zm440 0h160v-160H620v160ZM180-180h160v-160H180v160Zm440 0h160v-160H620v160Z\"/>\n",
              "  </svg>\n",
              "    </button>\n",
              "\n",
              "  <style>\n",
              "    .colab-df-container {\n",
              "      display:flex;\n",
              "      gap: 12px;\n",
              "    }\n",
              "\n",
              "    .colab-df-convert {\n",
              "      background-color: #E8F0FE;\n",
              "      border: none;\n",
              "      border-radius: 50%;\n",
              "      cursor: pointer;\n",
              "      display: none;\n",
              "      fill: #1967D2;\n",
              "      height: 32px;\n",
              "      padding: 0 0 0 0;\n",
              "      width: 32px;\n",
              "    }\n",
              "\n",
              "    .colab-df-convert:hover {\n",
              "      background-color: #E2EBFA;\n",
              "      box-shadow: 0px 1px 2px rgba(60, 64, 67, 0.3), 0px 1px 3px 1px rgba(60, 64, 67, 0.15);\n",
              "      fill: #174EA6;\n",
              "    }\n",
              "\n",
              "    .colab-df-buttons div {\n",
              "      margin-bottom: 4px;\n",
              "    }\n",
              "\n",
              "    [theme=dark] .colab-df-convert {\n",
              "      background-color: #3B4455;\n",
              "      fill: #D2E3FC;\n",
              "    }\n",
              "\n",
              "    [theme=dark] .colab-df-convert:hover {\n",
              "      background-color: #434B5C;\n",
              "      box-shadow: 0px 1px 3px 1px rgba(0, 0, 0, 0.15);\n",
              "      filter: drop-shadow(0px 1px 2px rgba(0, 0, 0, 0.3));\n",
              "      fill: #FFFFFF;\n",
              "    }\n",
              "  </style>\n",
              "\n",
              "    <script>\n",
              "      const buttonEl =\n",
              "        document.querySelector('#df-e420ea1a-5a16-4eae-992e-b5676219d2a3 button.colab-df-convert');\n",
              "      buttonEl.style.display =\n",
              "        google.colab.kernel.accessAllowed ? 'block' : 'none';\n",
              "\n",
              "      async function convertToInteractive(key) {\n",
              "        const element = document.querySelector('#df-e420ea1a-5a16-4eae-992e-b5676219d2a3');\n",
              "        const dataTable =\n",
              "          await google.colab.kernel.invokeFunction('convertToInteractive',\n",
              "                                                    [key], {});\n",
              "        if (!dataTable) return;\n",
              "\n",
              "        const docLinkHtml = 'Like what you see? Visit the ' +\n",
              "          '<a target=\"_blank\" href=https://colab.research.google.com/notebooks/data_table.ipynb>data table notebook</a>'\n",
              "          + ' to learn more about interactive tables.';\n",
              "        element.innerHTML = '';\n",
              "        dataTable['output_type'] = 'display_data';\n",
              "        await google.colab.output.renderOutput(dataTable, element);\n",
              "        const docLink = document.createElement('div');\n",
              "        docLink.innerHTML = docLinkHtml;\n",
              "        element.appendChild(docLink);\n",
              "      }\n",
              "    </script>\n",
              "  </div>\n",
              "\n",
              "\n",
              "<div id=\"df-4e82de04-23fc-4b14-9577-330fe165c5bd\">\n",
              "  <button class=\"colab-df-quickchart\" onclick=\"quickchart('df-4e82de04-23fc-4b14-9577-330fe165c5bd')\"\n",
              "            title=\"Suggest charts\"\n",
              "            style=\"display:none;\">\n",
              "\n",
              "<svg xmlns=\"http://www.w3.org/2000/svg\" height=\"24px\"viewBox=\"0 0 24 24\"\n",
              "     width=\"24px\">\n",
              "    <g>\n",
              "        <path d=\"M19 3H5c-1.1 0-2 .9-2 2v14c0 1.1.9 2 2 2h14c1.1 0 2-.9 2-2V5c0-1.1-.9-2-2-2zM9 17H7v-7h2v7zm4 0h-2V7h2v10zm4 0h-2v-4h2v4z\"/>\n",
              "    </g>\n",
              "</svg>\n",
              "  </button>\n",
              "\n",
              "<style>\n",
              "  .colab-df-quickchart {\n",
              "      --bg-color: #E8F0FE;\n",
              "      --fill-color: #1967D2;\n",
              "      --hover-bg-color: #E2EBFA;\n",
              "      --hover-fill-color: #174EA6;\n",
              "      --disabled-fill-color: #AAA;\n",
              "      --disabled-bg-color: #DDD;\n",
              "  }\n",
              "\n",
              "  [theme=dark] .colab-df-quickchart {\n",
              "      --bg-color: #3B4455;\n",
              "      --fill-color: #D2E3FC;\n",
              "      --hover-bg-color: #434B5C;\n",
              "      --hover-fill-color: #FFFFFF;\n",
              "      --disabled-bg-color: #3B4455;\n",
              "      --disabled-fill-color: #666;\n",
              "  }\n",
              "\n",
              "  .colab-df-quickchart {\n",
              "    background-color: var(--bg-color);\n",
              "    border: none;\n",
              "    border-radius: 50%;\n",
              "    cursor: pointer;\n",
              "    display: none;\n",
              "    fill: var(--fill-color);\n",
              "    height: 32px;\n",
              "    padding: 0;\n",
              "    width: 32px;\n",
              "  }\n",
              "\n",
              "  .colab-df-quickchart:hover {\n",
              "    background-color: var(--hover-bg-color);\n",
              "    box-shadow: 0 1px 2px rgba(60, 64, 67, 0.3), 0 1px 3px 1px rgba(60, 64, 67, 0.15);\n",
              "    fill: var(--button-hover-fill-color);\n",
              "  }\n",
              "\n",
              "  .colab-df-quickchart-complete:disabled,\n",
              "  .colab-df-quickchart-complete:disabled:hover {\n",
              "    background-color: var(--disabled-bg-color);\n",
              "    fill: var(--disabled-fill-color);\n",
              "    box-shadow: none;\n",
              "  }\n",
              "\n",
              "  .colab-df-spinner {\n",
              "    border: 2px solid var(--fill-color);\n",
              "    border-color: transparent;\n",
              "    border-bottom-color: var(--fill-color);\n",
              "    animation:\n",
              "      spin 1s steps(1) infinite;\n",
              "  }\n",
              "\n",
              "  @keyframes spin {\n",
              "    0% {\n",
              "      border-color: transparent;\n",
              "      border-bottom-color: var(--fill-color);\n",
              "      border-left-color: var(--fill-color);\n",
              "    }\n",
              "    20% {\n",
              "      border-color: transparent;\n",
              "      border-left-color: var(--fill-color);\n",
              "      border-top-color: var(--fill-color);\n",
              "    }\n",
              "    30% {\n",
              "      border-color: transparent;\n",
              "      border-left-color: var(--fill-color);\n",
              "      border-top-color: var(--fill-color);\n",
              "      border-right-color: var(--fill-color);\n",
              "    }\n",
              "    40% {\n",
              "      border-color: transparent;\n",
              "      border-right-color: var(--fill-color);\n",
              "      border-top-color: var(--fill-color);\n",
              "    }\n",
              "    60% {\n",
              "      border-color: transparent;\n",
              "      border-right-color: var(--fill-color);\n",
              "    }\n",
              "    80% {\n",
              "      border-color: transparent;\n",
              "      border-right-color: var(--fill-color);\n",
              "      border-bottom-color: var(--fill-color);\n",
              "    }\n",
              "    90% {\n",
              "      border-color: transparent;\n",
              "      border-bottom-color: var(--fill-color);\n",
              "    }\n",
              "  }\n",
              "</style>\n",
              "\n",
              "  <script>\n",
              "    async function quickchart(key) {\n",
              "      const quickchartButtonEl =\n",
              "        document.querySelector('#' + key + ' button');\n",
              "      quickchartButtonEl.disabled = true;  // To prevent multiple clicks.\n",
              "      quickchartButtonEl.classList.add('colab-df-spinner');\n",
              "      try {\n",
              "        const charts = await google.colab.kernel.invokeFunction(\n",
              "            'suggestCharts', [key], {});\n",
              "      } catch (error) {\n",
              "        console.error('Error during call to suggestCharts:', error);\n",
              "      }\n",
              "      quickchartButtonEl.classList.remove('colab-df-spinner');\n",
              "      quickchartButtonEl.classList.add('colab-df-quickchart-complete');\n",
              "    }\n",
              "    (() => {\n",
              "      let quickchartButtonEl =\n",
              "        document.querySelector('#df-4e82de04-23fc-4b14-9577-330fe165c5bd button');\n",
              "      quickchartButtonEl.style.display =\n",
              "        google.colab.kernel.accessAllowed ? 'block' : 'none';\n",
              "    })();\n",
              "  </script>\n",
              "</div>\n",
              "    </div>\n",
              "  </div>\n"
            ],
            "application/vnd.google.colaboratory.intrinsic+json": {
              "type": "dataframe",
              "variable_name": "df",
              "summary": "{\n  \"name\": \"df\",\n  \"rows\": 22676,\n  \"fields\": [\n    {\n      \"column\": \"Price\",\n      \"properties\": {\n        \"dtype\": \"number\",\n        \"std\": 82825614.1756103,\n        \"min\": 1150000.0,\n        \"max\": 2455020000.0,\n        \"num_unique_values\": 9979,\n        \"samples\": [\n          10135683.0,\n          2856844.0,\n          97190760.0\n        ],\n        \"semantic_type\": \"\",\n        \"description\": \"\"\n      }\n    },\n    {\n      \"column\": \"Apartment type\",\n      \"properties\": {\n        \"dtype\": \"category\",\n        \"num_unique_values\": 2,\n        \"samples\": [\n          \"New building\",\n          \"Secondary\"\n        ],\n        \"semantic_type\": \"\",\n        \"description\": \"\"\n      }\n    },\n    {\n      \"column\": \"Metro station\",\n      \"properties\": {\n        \"dtype\": \"category\",\n        \"num_unique_values\": 547,\n        \"samples\": [\n          \" \\u0422\\u0440\\u043e\\u043f\\u0430\\u0440\\u0451\\u0432\\u043e\",\n          \" \\u0411\\u043e\\u0442\\u0430\\u043d\\u0438\\u0447\\u0435\\u0441\\u043a\\u0438\\u0439 \\u0441\\u0430\\u0434\"\n        ],\n        \"semantic_type\": \"\",\n        \"description\": \"\"\n      }\n    },\n    {\n      \"column\": \"Minutes to metro\",\n      \"properties\": {\n        \"dtype\": \"number\",\n        \"std\": 6.204456965622073,\n        \"min\": 0.0,\n        \"max\": 60.0,\n        \"num_unique_values\": 56,\n        \"samples\": [\n          6.0,\n          27.0\n        ],\n        \"semantic_type\": \"\",\n        \"description\": \"\"\n      }\n    },\n    {\n      \"column\": \"Region\",\n      \"properties\": {\n        \"dtype\": \"category\",\n        \"num_unique_values\": 2,\n        \"samples\": [\n          \"Moscow\",\n          \"Moscow region\"\n        ],\n        \"semantic_type\": \"\",\n        \"description\": \"\"\n      }\n    },\n    {\n      \"column\": \"Number of rooms\",\n      \"properties\": {\n        \"dtype\": \"number\",\n        \"std\": 1.5235862577058266,\n        \"min\": 0.0,\n        \"max\": 12.0,\n        \"num_unique_values\": 12,\n        \"samples\": [\n          12.0,\n          9.0\n        ],\n        \"semantic_type\": \"\",\n        \"description\": \"\"\n      }\n    },\n    {\n      \"column\": \"Area\",\n      \"properties\": {\n        \"dtype\": \"number\",\n        \"std\": 68.36860845335453,\n        \"min\": 6.0,\n        \"max\": 1117.0,\n        \"num_unique_values\": 3017,\n        \"samples\": [\n          126.2,\n          116.85\n        ],\n        \"semantic_type\": \"\",\n        \"description\": \"\"\n      }\n    },\n    {\n      \"column\": \"Living area\",\n      \"properties\": {\n        \"dtype\": \"number\",\n        \"std\": 38.12427814350796,\n        \"min\": 2.0,\n        \"max\": 566.8,\n        \"num_unique_values\": 1302,\n        \"samples\": [\n          28.5,\n          44.0\n        ],\n        \"semantic_type\": \"\",\n        \"description\": \"\"\n      }\n    },\n    {\n      \"column\": \"Kitchen area\",\n      \"properties\": {\n        \"dtype\": \"number\",\n        \"std\": 7.728074411063643,\n        \"min\": 1.0,\n        \"max\": 122.0,\n        \"num_unique_values\": 481,\n        \"samples\": [\n          23.0,\n          32.7\n        ],\n        \"semantic_type\": \"\",\n        \"description\": \"\"\n      }\n    },\n    {\n      \"column\": \"Floor\",\n      \"properties\": {\n        \"dtype\": \"number\",\n        \"std\": 7.549996177433723,\n        \"min\": 1.0,\n        \"max\": 92.0,\n        \"num_unique_values\": 72,\n        \"samples\": [\n          5.0,\n          43.0\n        ],\n        \"semantic_type\": \"\",\n        \"description\": \"\"\n      }\n    },\n    {\n      \"column\": \"Number of floors\",\n      \"properties\": {\n        \"dtype\": \"number\",\n        \"std\": 9,\n        \"min\": 1,\n        \"max\": 97,\n        \"num_unique_values\": 83,\n        \"samples\": [\n          27,\n          25\n        ],\n        \"semantic_type\": \"\",\n        \"description\": \"\"\n      }\n    },\n    {\n      \"column\": \"Renovation\",\n      \"properties\": {\n        \"dtype\": \"category\",\n        \"num_unique_values\": 4,\n        \"samples\": [\n          \"European-style renovation\",\n          \"Designer\"\n        ],\n        \"semantic_type\": \"\",\n        \"description\": \"\"\n      }\n    }\n  ]\n}"
            }
          },
          "metadata": {},
          "execution_count": 4
        }
      ]
    },
    {
      "cell_type": "code",
      "source": [
        "df.info()"
      ],
      "metadata": {
        "colab": {
          "base_uri": "https://localhost:8080/"
        },
        "id": "WWjOqIkG7boN",
        "outputId": "983ade30-e2e5-465a-d688-fc37aae1b046"
      },
      "execution_count": null,
      "outputs": [
        {
          "output_type": "stream",
          "name": "stdout",
          "text": [
            "<class 'pandas.core.frame.DataFrame'>\n",
            "RangeIndex: 22676 entries, 0 to 22675\n",
            "Data columns (total 12 columns):\n",
            " #   Column            Non-Null Count  Dtype  \n",
            "---  ------            --------------  -----  \n",
            " 0   Price             22676 non-null  float64\n",
            " 1   Apartment type    22676 non-null  object \n",
            " 2   Metro station     22676 non-null  object \n",
            " 3   Minutes to metro  22676 non-null  float64\n",
            " 4   Region            22676 non-null  object \n",
            " 5   Number of rooms   22676 non-null  float64\n",
            " 6   Area              22676 non-null  float64\n",
            " 7   Living area       22676 non-null  float64\n",
            " 8   Kitchen area      22676 non-null  float64\n",
            " 9   Floor             22676 non-null  float64\n",
            " 10  Number of floors  22676 non-null  int64  \n",
            " 11  Renovation        22676 non-null  object \n",
            "dtypes: float64(7), int64(1), object(4)\n",
            "memory usage: 2.1+ MB\n"
          ]
        }
      ]
    },
    {
      "cell_type": "code",
      "source": [
        "df.hist(figsize=(10,10), bins=20)"
      ],
      "metadata": {
        "colab": {
          "base_uri": "https://localhost:8080/",
          "height": 1000
        },
        "id": "YRQIUcpY_qV_",
        "outputId": "7d0e049a-0250-429d-b301-ad42c6fa9b20"
      },
      "execution_count": null,
      "outputs": [
        {
          "output_type": "execute_result",
          "data": {
            "text/plain": [
              "array([[<Axes: title={'center': 'Price'}>,\n",
              "        <Axes: title={'center': 'Minutes to metro'}>,\n",
              "        <Axes: title={'center': 'Number of rooms'}>],\n",
              "       [<Axes: title={'center': 'Area'}>,\n",
              "        <Axes: title={'center': 'Living area'}>,\n",
              "        <Axes: title={'center': 'Kitchen area'}>],\n",
              "       [<Axes: title={'center': 'Floor'}>,\n",
              "        <Axes: title={'center': 'Number of floors'}>, <Axes: >]],\n",
              "      dtype=object)"
            ]
          },
          "metadata": {},
          "execution_count": 6
        },
        {
          "output_type": "display_data",
          "data": {
            "text/plain": [
              "<Figure size 1000x1000 with 9 Axes>"
            ],
            "image/png": "[encoded data removed]"
          },
          "metadata": {}
        }
      ]
    },
    {
      "cell_type": "markdown",
      "source": [
        "Исправление ошибки с количеством станций метро"
      ],
      "metadata": {
        "id": "F7ZqPhIBaJKO"
      }
    },
    {
      "cell_type": "code",
      "source": [
        "df['Metro station'].nunique() # станций метро в Москве точно меньше"
      ],
      "metadata": {
        "colab": {
          "base_uri": "https://localhost:8080/"
        },
        "id": "9bP72Wo2jBUB",
        "outputId": "d782d4ab-55a8-425c-9910-8672fe257285"
      },
      "execution_count": null,
      "outputs": [
        {
          "output_type": "execute_result",
          "data": {
            "text/plain": [
              "547"
            ]
          },
          "metadata": {},
          "execution_count": 7
        }
      ]
    },
    {
      "cell_type": "code",
      "source": [
        "len(set(map(lambda x: x.strip().lower(), df['Metro station'])))"
      ],
      "metadata": {
        "id": "3Hj5gSXXjGQo",
        "colab": {
          "base_uri": "https://localhost:8080/"
        },
        "outputId": "6cc9160e-0ef6-4e43-ac8d-498b1fcf76ee"
      },
      "execution_count": null,
      "outputs": [
        {
          "output_type": "execute_result",
          "data": {
            "text/plain": [
              "310"
            ]
          },
          "metadata": {},
          "execution_count": 8
        }
      ]
    },
    {
      "cell_type": "code",
      "source": [
        "df['Metro station'] = list(map(lambda x: x.strip().lower(), df['Metro station']))"
      ],
      "metadata": {
        "id": "y7qy0y0VjIvO"
      },
      "execution_count": null,
      "outputs": []
    },
    {
      "cell_type": "code",
      "source": [
        "df['Metro station'].nunique()"
      ],
      "metadata": {
        "id": "pRNxZRxnjMLX",
        "colab": {
          "base_uri": "https://localhost:8080/"
        },
        "outputId": "a8149364-9d61-460f-950b-45d9be4181ff"
      },
      "execution_count": null,
      "outputs": [
        {
          "output_type": "execute_result",
          "data": {
            "text/plain": [
              "310"
            ]
          },
          "metadata": {},
          "execution_count": 10
        }
      ]
    },
    {
      "cell_type": "markdown",
      "source": [
        "Анализ значений"
      ],
      "metadata": {
        "id": "qI5l5W0Rq2Zv"
      }
    },
    {
      "cell_type": "code",
      "source": [
        "sns.heatmap(df.corr(), annot=True)"
      ],
      "metadata": {
        "colab": {
          "base_uri": "https://localhost:8080/",
          "height": 614
        },
        "id": "v7NOW-pUuK4w",
        "outputId": "f15bb2cb-bc8a-42f1-fadd-b2565b16ffec"
      },
      "execution_count": null,
      "outputs": [
        {
          "output_type": "stream",
          "name": "stderr",
          "text": [
            "<ipython-input-11-6dc1c4c1753e>:1: FutureWarning: The default value of numeric_only in DataFrame.corr is deprecated. In a future version, it will default to False. Select only valid columns or specify the value of numeric_only to silence this warning.\n",
            "  sns.heatmap(df.corr(), annot=True)\n"
          ]
        },
        {
          "output_type": "execute_result",
          "data": {
            "text/plain": [
              "<Axes: >"
            ]
          },
          "metadata": {},
          "execution_count": 11
        },
        {
          "output_type": "display_data",
          "data": {
            "text/plain": [
              "<Figure size 640x480 with 2 Axes>"
            ],
            "image/png": "[encoded data removed]"
          },
          "metadata": {}
        }
      ]
    },
    {
      "cell_type": "code",
      "source": [
        "plt.scatter(df['Area'], df['Price'])\n",
        "plt.xlabel('Area')\n",
        "plt.ylabel('Price')\n",
        "plt.title('Зависимость цены от площади = {x}'.format(x=round(df['Price'].corr(df['Area']), 2)))"
      ],
      "metadata": {
        "colab": {
          "base_uri": "https://localhost:8080/",
          "height": 489
        },
        "id": "M7Knici5q4gf",
        "outputId": "f18acc0f-210b-4820-b0d9-5063ca4721e0"
      },
      "execution_count": null,
      "outputs": [
        {
          "output_type": "execute_result",
          "data": {
            "text/plain": [
              "Text(0.5, 1.0, 'Зависимость цены от площади = 0.79')"
            ]
          },
          "metadata": {},
          "execution_count": 12
        },
        {
          "output_type": "display_data",
          "data": {
            "text/plain": [
              "<Figure size 640x480 with 1 Axes>"
            ],
            "image/png": "[encoded data removed]"
          },
          "metadata": {}
        }
      ]
    },
    {
      "cell_type": "code",
      "source": [
        "sns.boxplot(df, x='Number of rooms', y='Price', color='r')"
      ],
      "metadata": {
        "colab": {
          "base_uri": "https://localhost:8080/",
          "height": 482
        },
        "id": "SQlO7DYuve_Q",
        "outputId": "3eb4ceac-75e2-4f6f-b7a3-3911732bdd1a"
      },
      "execution_count": null,
      "outputs": [
        {
          "output_type": "execute_result",
          "data": {
            "text/plain": [
              "<Axes: xlabel='Number of rooms', ylabel='Price'>"
            ]
          },
          "metadata": {},
          "execution_count": 40
        },
        {
          "output_type": "display_data",
          "data": {
            "text/plain": [
              "<Figure size 640x480 with 1 Axes>"
            ],
            "image/png": "[encoded data removed]"
          },
          "metadata": {}
        }
      ]
    },
    {
      "cell_type": "code",
      "source": [
        "plt.hist(df['Price'], bins=50)\n",
        "plt.xlabel('Цена')\n",
        "plt.ylabel('Количество значений')"
      ],
      "metadata": {
        "colab": {
          "base_uri": "https://localhost:8080/",
          "height": 467
        },
        "id": "JFpoXuswZ817",
        "outputId": "0a185d7a-95f3-410c-e608-fc47d9284c91"
      },
      "execution_count": null,
      "outputs": [
        {
          "output_type": "execute_result",
          "data": {
            "text/plain": [
              "Text(0, 0.5, 'Количество значений')"
            ]
          },
          "metadata": {},
          "execution_count": 28
        },
        {
          "output_type": "display_data",
          "data": {
            "text/plain": [
              "<Figure size 640x480 with 1 Axes>"
            ],
            "image/png": "[encoded data removed]"
          },
          "metadata": {}
        }
      ]
    },
    {
      "cell_type": "code",
      "source": [
        "unpopular = df[df['Price'] >= 0.3 * 10**9] # посмотрим на распределение значений при непопулярных ценах на квартиру\n",
        "sns.histplot(unpopular['Price'], color='y', bins=40)"
      ],
      "metadata": {
        "colab": {
          "base_uri": "https://localhost:8080/",
          "height": 466
        },
        "id": "vgcpzdiQbSGs",
        "outputId": "f8892d2d-82ff-4bcf-aa07-448478c49731"
      },
      "execution_count": null,
      "outputs": [
        {
          "output_type": "execute_result",
          "data": {
            "text/plain": [
              "<Axes: xlabel='Price', ylabel='Count'>"
            ]
          },
          "metadata": {},
          "execution_count": 46
        },
        {
          "output_type": "display_data",
          "data": {
            "text/plain": [
              "<Figure size 640x480 with 1 Axes>"
            ],
            "image/png": "[encoded data removed]"
          },
          "metadata": {}
        }
      ]
    },
    {
      "cell_type": "code",
      "source": [
        "sns.histplot(unpopular['Area'], color='g', bins=40)"
      ],
      "metadata": {
        "colab": {
          "base_uri": "https://localhost:8080/",
          "height": 466
        },
        "id": "8M69ZndSck98",
        "outputId": "0dbe90b5-832c-4b1d-a3f2-8ead7f85459d"
      },
      "execution_count": null,
      "outputs": [
        {
          "output_type": "execute_result",
          "data": {
            "text/plain": [
              "<Axes: xlabel='Area', ylabel='Count'>"
            ]
          },
          "metadata": {},
          "execution_count": 47
        },
        {
          "output_type": "display_data",
          "data": {
            "text/plain": [
              "<Figure size 640x480 with 1 Axes>"
            ],
            "image/png": "[encoded data removed]"
          },
          "metadata": {}
        }
      ]
    },
    {
      "cell_type": "code",
      "source": [
        "df_describe = df.describe().T\n",
        "extreme_values = pd.DataFrame()\n",
        "list_values = []\n",
        "\n",
        "for i in df_describe.index:\n",
        "  treshold = df_describe['75%'].loc[i]  # выделим порог аномальных значений - 75%\n",
        "  df_part = df[df[i] > treshold] # выберем часть датафрейма, где рассматриваемое значение переходит порог\n",
        "  df_part = df_part.describe().T  # опишем это значение, чтобы выделить количество значений через столбец count\n",
        "  list_values.append(df_part['count'].loc[i])  # добавим количество аномальных значений в список\n",
        "\n",
        "extreme_values.index = df_describe.index\n",
        "extreme_values['Количество аномальных значений'] = list_values\n",
        "extreme_values"
      ],
      "metadata": {
        "colab": {
          "base_uri": "https://localhost:8080/",
          "height": 300
        },
        "id": "NT5704L-e6oA",
        "outputId": "accf3348-ab96-48ae-f0bd-9e1f6812e249"
      },
      "execution_count": null,
      "outputs": [
        {
          "output_type": "execute_result",
          "data": {
            "text/plain": [
              "                  Количество аномальных значений\n",
              "Price                                     5669.0\n",
              "Minutes to metro                          5392.0\n",
              "Number of rooms                           3648.0\n",
              "Area                                      5667.0\n",
              "Living area                               5655.0\n",
              "Kitchen area                              5617.0\n",
              "Floor                                     5249.0\n",
              "Number of floors                          4271.0"
            ],
            "text/html": [
              "\n",
              "  <div id=\"df-87654062-2e5d-428d-98f9-14e4e99fdb81\" class=\"colab-df-container\">\n",
              "    <div>\n",
              "<style scoped>\n",
              "    .dataframe tbody tr th:only-of-type {\n",
              "        vertical-align: middle;\n",
              "    }\n",
              "\n",
              "    .dataframe tbody tr th {\n",
              "        vertical-align: top;\n",
              "    }\n",
              "\n",
              "    .dataframe thead th {\n",
              "        text-align: right;\n",
              "    }\n",
              "</style>\n",
              "<table border=\"1\" class=\"dataframe\">\n",
              "  <thead>\n",
              "    <tr style=\"text-align: right;\">\n",
              "      <th></th>\n",
              "      <th>Количество аномальных значений</th>\n",
              "    </tr>\n",
              "  </thead>\n",
              "  <tbody>\n",
              "    <tr>\n",
              "      <th>Price</th>\n",
              "      <td>5669.0</td>\n",
              "    </tr>\n",
              "    <tr>\n",
              "      <th>Minutes to metro</th>\n",
              "      <td>5392.0</td>\n",
              "    </tr>\n",
              "    <tr>\n",
              "      <th>Number of rooms</th>\n",
              "      <td>3648.0</td>\n",
              "    </tr>\n",
              "    <tr>\n",
              "      <th>Area</th>\n",
              "      <td>5667.0</td>\n",
              "    </tr>\n",
              "    <tr>\n",
              "      <th>Living area</th>\n",
              "      <td>5655.0</td>\n",
              "    </tr>\n",
              "    <tr>\n",
              "      <th>Kitchen area</th>\n",
              "      <td>5617.0</td>\n",
              "    </tr>\n",
              "    <tr>\n",
              "      <th>Floor</th>\n",
              "      <td>5249.0</td>\n",
              "    </tr>\n",
              "    <tr>\n",
              "      <th>Number of floors</th>\n",
              "      <td>4271.0</td>\n",
              "    </tr>\n",
              "  </tbody>\n",
              "</table>\n",
              "</div>\n",
              "    <div class=\"colab-df-buttons\">\n",
              "\n",
              "  <div class=\"colab-df-container\">\n",
              "    <button class=\"colab-df-convert\" onclick=\"convertToInteractive('df-87654062-2e5d-428d-98f9-14e4e99fdb81')\"\n",
              "            title=\"Convert this dataframe to an interactive table.\"\n",
              "            style=\"display:none;\">\n",
              "\n",
              "  <svg xmlns=\"http://www.w3.org/2000/svg\" height=\"24px\" viewBox=\"0 -960 960 960\">\n",
              "    <path d=\"M120-120v-720h720v720H120Zm60-500h600v-160H180v160Zm220 220h160v-160H400v160Zm0 220h160v-160H400v160ZM180-400h160v-160H180v160Zm440 0h160v-160H620v160ZM180-180h160v-160H180v160Zm440 0h160v-160H620v160Z\"/>\n",
              "  </svg>\n",
              "    </button>\n",
              "\n",
              "  <style>\n",
              "    .colab-df-container {\n",
              "      display:flex;\n",
              "      gap: 12px;\n",
              "    }\n",
              "\n",
              "    .colab-df-convert {\n",
              "      background-color: #E8F0FE;\n",
              "      border: none;\n",
              "      border-radius: 50%;\n",
              "      cursor: pointer;\n",
              "      display: none;\n",
              "      fill: #1967D2;\n",
              "      height: 32px;\n",
              "      padding: 0 0 0 0;\n",
              "      width: 32px;\n",
              "    }\n",
              "\n",
              "    .colab-df-convert:hover {\n",
              "      background-color: #E2EBFA;\n",
              "      box-shadow: 0px 1px 2px rgba(60, 64, 67, 0.3), 0px 1px 3px 1px rgba(60, 64, 67, 0.15);\n",
              "      fill: #174EA6;\n",
              "    }\n",
              "\n",
              "    .colab-df-buttons div {\n",
              "      margin-bottom: 4px;\n",
              "    }\n",
              "\n",
              "    [theme=dark] .colab-df-convert {\n",
              "      background-color: #3B4455;\n",
              "      fill: #D2E3FC;\n",
              "    }\n",
              "\n",
              "    [theme=dark] .colab-df-convert:hover {\n",
              "      background-color: #434B5C;\n",
              "      box-shadow: 0px 1px 3px 1px rgba(0, 0, 0, 0.15);\n",
              "      filter: drop-shadow(0px 1px 2px rgba(0, 0, 0, 0.3));\n",
              "      fill: #FFFFFF;\n",
              "    }\n",
              "  </style>\n",
              "\n",
              "    <script>\n",
              "      const buttonEl =\n",
              "        document.querySelector('#df-87654062-2e5d-428d-98f9-14e4e99fdb81 button.colab-df-convert');\n",
              "      buttonEl.style.display =\n",
              "        google.colab.kernel.accessAllowed ? 'block' : 'none';\n",
              "\n",
              "      async function convertToInteractive(key) {\n",
              "        const element = document.querySelector('#df-87654062-2e5d-428d-98f9-14e4e99fdb81');\n",
              "        const dataTable =\n",
              "          await google.colab.kernel.invokeFunction('convertToInteractive',\n",
              "                                                    [key], {});\n",
              "        if (!dataTable) return;\n",
              "\n",
              "        const docLinkHtml = 'Like what you see? Visit the ' +\n",
              "          '<a target=\"_blank\" href=https://colab.research.google.com/notebooks/data_table.ipynb>data table notebook</a>'\n",
              "          + ' to learn more about interactive tables.';\n",
              "        element.innerHTML = '';\n",
              "        dataTable['output_type'] = 'display_data';\n",
              "        await google.colab.output.renderOutput(dataTable, element);\n",
              "        const docLink = document.createElement('div');\n",
              "        docLink.innerHTML = docLinkHtml;\n",
              "        element.appendChild(docLink);\n",
              "      }\n",
              "    </script>\n",
              "  </div>\n",
              "\n",
              "\n",
              "<div id=\"df-592cbd66-19c5-4029-a26c-3431f63d0778\">\n",
              "  <button class=\"colab-df-quickchart\" onclick=\"quickchart('df-592cbd66-19c5-4029-a26c-3431f63d0778')\"\n",
              "            title=\"Suggest charts\"\n",
              "            style=\"display:none;\">\n",
              "\n",
              "<svg xmlns=\"http://www.w3.org/2000/svg\" height=\"24px\"viewBox=\"0 0 24 24\"\n",
              "     width=\"24px\">\n",
              "    <g>\n",
              "        <path d=\"M19 3H5c-1.1 0-2 .9-2 2v14c0 1.1.9 2 2 2h14c1.1 0 2-.9 2-2V5c0-1.1-.9-2-2-2zM9 17H7v-7h2v7zm4 0h-2V7h2v10zm4 0h-2v-4h2v4z\"/>\n",
              "    </g>\n",
              "</svg>\n",
              "  </button>\n",
              "\n",
              "<style>\n",
              "  .colab-df-quickchart {\n",
              "      --bg-color: #E8F0FE;\n",
              "      --fill-color: #1967D2;\n",
              "      --hover-bg-color: #E2EBFA;\n",
              "      --hover-fill-color: #174EA6;\n",
              "      --disabled-fill-color: #AAA;\n",
              "      --disabled-bg-color: #DDD;\n",
              "  }\n",
              "\n",
              "  [theme=dark] .colab-df-quickchart {\n",
              "      --bg-color: #3B4455;\n",
              "      --fill-color: #D2E3FC;\n",
              "      --hover-bg-color: #434B5C;\n",
              "      --hover-fill-color: #FFFFFF;\n",
              "      --disabled-bg-color: #3B4455;\n",
              "      --disabled-fill-color: #666;\n",
              "  }\n",
              "\n",
              "  .colab-df-quickchart {\n",
              "    background-color: var(--bg-color);\n",
              "    border: none;\n",
              "    border-radius: 50%;\n",
              "    cursor: pointer;\n",
              "    display: none;\n",
              "    fill: var(--fill-color);\n",
              "    height: 32px;\n",
              "    padding: 0;\n",
              "    width: 32px;\n",
              "  }\n",
              "\n",
              "  .colab-df-quickchart:hover {\n",
              "    background-color: var(--hover-bg-color);\n",
              "    box-shadow: 0 1px 2px rgba(60, 64, 67, 0.3), 0 1px 3px 1px rgba(60, 64, 67, 0.15);\n",
              "    fill: var(--button-hover-fill-color);\n",
              "  }\n",
              "\n",
              "  .colab-df-quickchart-complete:disabled,\n",
              "  .colab-df-quickchart-complete:disabled:hover {\n",
              "    background-color: var(--disabled-bg-color);\n",
              "    fill: var(--disabled-fill-color);\n",
              "    box-shadow: none;\n",
              "  }\n",
              "\n",
              "  .colab-df-spinner {\n",
              "    border: 2px solid var(--fill-color);\n",
              "    border-color: transparent;\n",
              "    border-bottom-color: var(--fill-color);\n",
              "    animation:\n",
              "      spin 1s steps(1) infinite;\n",
              "  }\n",
              "\n",
              "  @keyframes spin {\n",
              "    0% {\n",
              "      border-color: transparent;\n",
              "      border-bottom-color: var(--fill-color);\n",
              "      border-left-color: var(--fill-color);\n",
              "    }\n",
              "    20% {\n",
              "      border-color: transparent;\n",
              "      border-left-color: var(--fill-color);\n",
              "      border-top-color: var(--fill-color);\n",
              "    }\n",
              "    30% {\n",
              "      border-color: transparent;\n",
              "      border-left-color: var(--fill-color);\n",
              "      border-top-color: var(--fill-color);\n",
              "      border-right-color: var(--fill-color);\n",
              "    }\n",
              "    40% {\n",
              "      border-color: transparent;\n",
              "      border-right-color: var(--fill-color);\n",
              "      border-top-color: var(--fill-color);\n",
              "    }\n",
              "    60% {\n",
              "      border-color: transparent;\n",
              "      border-right-color: var(--fill-color);\n",
              "    }\n",
              "    80% {\n",
              "      border-color: transparent;\n",
              "      border-right-color: var(--fill-color);\n",
              "      border-bottom-color: var(--fill-color);\n",
              "    }\n",
              "    90% {\n",
              "      border-color: transparent;\n",
              "      border-bottom-color: var(--fill-color);\n",
              "    }\n",
              "  }\n",
              "</style>\n",
              "\n",
              "  <script>\n",
              "    async function quickchart(key) {\n",
              "      const quickchartButtonEl =\n",
              "        document.querySelector('#' + key + ' button');\n",
              "      quickchartButtonEl.disabled = true;  // To prevent multiple clicks.\n",
              "      quickchartButtonEl.classList.add('colab-df-spinner');\n",
              "      try {\n",
              "        const charts = await google.colab.kernel.invokeFunction(\n",
              "            'suggestCharts', [key], {});\n",
              "      } catch (error) {\n",
              "        console.error('Error during call to suggestCharts:', error);\n",
              "      }\n",
              "      quickchartButtonEl.classList.remove('colab-df-spinner');\n",
              "      quickchartButtonEl.classList.add('colab-df-quickchart-complete');\n",
              "    }\n",
              "    (() => {\n",
              "      let quickchartButtonEl =\n",
              "        document.querySelector('#df-592cbd66-19c5-4029-a26c-3431f63d0778 button');\n",
              "      quickchartButtonEl.style.display =\n",
              "        google.colab.kernel.accessAllowed ? 'block' : 'none';\n",
              "    })();\n",
              "  </script>\n",
              "</div>\n",
              "    </div>\n",
              "  </div>\n"
            ],
            "application/vnd.google.colaboratory.intrinsic+json": {
              "type": "dataframe",
              "variable_name": "extreme_values",
              "summary": "{\n  \"name\": \"extreme_values\",\n  \"rows\": 8,\n  \"fields\": [\n    {\n      \"column\": \"\\u041a\\u043e\\u043b\\u0438\\u0447\\u0435\\u0441\\u0442\\u0432\\u043e \\u0430\\u043d\\u043e\\u043c\\u0430\\u043b\\u044c\\u043d\\u044b\\u0445 \\u0437\\u043d\\u0430\\u0447\\u0435\\u043d\\u0438\\u0439\",\n      \"properties\": {\n        \"dtype\": \"number\",\n        \"std\": 765.9397589143119,\n        \"min\": 3648.0,\n        \"max\": 5669.0,\n        \"num_unique_values\": 8,\n        \"samples\": [\n          5392.0,\n          5617.0,\n          5669.0\n        ],\n        \"semantic_type\": \"\",\n        \"description\": \"\"\n      }\n    }\n  ]\n}"
            }
          },
          "metadata": {},
          "execution_count": 101
        }
      ]
    },
    {
      "cell_type": "markdown",
      "source": [
        "Как мы видим, количество аномальных значений по всем параметрам примерно одинаковое. Это означает, что эти аномальные значения являются не ошибками в данных, а просто более уникальными случаями"
      ],
      "metadata": {
        "id": "KHqxWjsfeWig"
      }
    },
    {
      "cell_type": "markdown",
      "source": [
        "Обучение модели"
      ],
      "metadata": {
        "id": "6gOybVOmtGy2"
      }
    },
    {
      "cell_type": "code",
      "source": [
        "X = df.drop(['Price'], axis=1)\n",
        "y = df['Price']"
      ],
      "metadata": {
        "id": "GA_MwE2KtIjf"
      },
      "execution_count": null,
      "outputs": []
    },
    {
      "cell_type": "code",
      "source": [
        "X_train, X_val, y_train, y_val = train_test_split(X, y, train_size=0.7, shuffle=True)"
      ],
      "metadata": {
        "id": "3stMcfdYwzBM"
      },
      "execution_count": null,
      "outputs": []
    },
    {
      "cell_type": "code",
      "source": [
        "# выделим категориальные признаки\n",
        "cat_features = ['Apartment type', 'Metro station', 'Region', 'Renovation']"
      ],
      "metadata": {
        "id": "ua1GtSavxUXz"
      },
      "execution_count": null,
      "outputs": []
    },
    {
      "cell_type": "code",
      "source": [
        "train_data = Pool(data=X_train, label=y_train, cat_features=cat_features)\n",
        "val_data = Pool(data=X_val, label=y_val, cat_features=cat_features)"
      ],
      "metadata": {
        "id": "77DXvV_pyPQU"
      },
      "execution_count": null,
      "outputs": []
    },
    {
      "cell_type": "code",
      "source": [
        "model = CatBoostRegressor()"
      ],
      "metadata": {
        "id": "8XXvCd1Vy4pN"
      },
      "execution_count": null,
      "outputs": []
    },
    {
      "cell_type": "code",
      "source": [
        "from google.colab import output\n",
        "output.enable_custom_widget_manager()"
      ],
      "metadata": {
        "id": "I-uTf-fV7qvt"
      },
      "execution_count": null,
      "outputs": []
    },
    {
      "cell_type": "code",
      "source": [
        "model.fit(train_data,\n",
        "          eval_set=val_data,\n",
        "          verbose=False,\n",
        "          plot=True)"
      ],
      "metadata": {
        "colab": {
          "base_uri": "https://localhost:8080/",
          "height": 34,
          "referenced_widgets": [
            "e890f9b3b74b47a7a52c624667ee9a28"
          ]
        },
        "id": "VAZ1HWPB5JAr",
        "outputId": "5e733627-d85e-4b86-d604-5e34715a081e"
      },
      "execution_count": null,
      "outputs": [
        {
          "output_type": "display_data",
          "data": {
            "text/plain": [
              "MetricVisualizer(layout=Layout(align_self='stretch', height='500px'))"
            ],
            "application/vnd.jupyter.widget-view+json": {
              "version_major": 2,
              "version_minor": 0,
              "model_id": "e890f9b3b74b47a7a52c624667ee9a28"
            }
          },
          "metadata": {}
        },
        {
          "output_type": "execute_result",
          "data": {
            "text/plain": [
              "<catboost.core.CatBoostRegressor at 0x792ca5d489a0>"
            ]
          },
          "metadata": {},
          "execution_count": 146
        }
      ]
    },
    {
      "cell_type": "code",
      "source": [
        "preds = model.predict(val_data)"
      ],
      "metadata": {
        "id": "JazF6xJT5jqD"
      },
      "execution_count": null,
      "outputs": []
    },
    {
      "cell_type": "code",
      "source": [
        "from sklearn.metrics import mean_absolute_percentage_error"
      ],
      "metadata": {
        "id": "nyeZQuWb7Hud"
      },
      "execution_count": null,
      "outputs": []
    },
    {
      "cell_type": "code",
      "source": [
        "mean_absolute_percentage_error(y_val, preds)"
      ],
      "metadata": {
        "colab": {
          "base_uri": "https://localhost:8080/"
        },
        "id": "RZ2y6l9v7NTt",
        "outputId": "c488fb82-ab0f-41ad-f4c6-1c0b13408d7b"
      },
      "execution_count": null,
      "outputs": [
        {
          "output_type": "execute_result",
          "data": {
            "text/plain": [
              "0.19704095564451274"
            ]
          },
          "metadata": {},
          "execution_count": 143
        }
      ]
    }
  ]
}